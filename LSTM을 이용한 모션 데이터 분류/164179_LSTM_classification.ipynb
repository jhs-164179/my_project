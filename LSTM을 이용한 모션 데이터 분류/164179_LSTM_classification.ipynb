{
 "cells": [
  {
   "cell_type": "markdown",
   "id": "d2e9fa88",
   "metadata": {},
   "source": [
    "## motion"
   ]
  },
  {
   "cell_type": "markdown",
   "id": "a99d30e5",
   "metadata": {},
   "source": [
    "### set up"
   ]
  },
  {
   "cell_type": "code",
   "execution_count": 2,
   "id": "4da18637",
   "metadata": {},
   "outputs": [],
   "source": [
    "import tensorflow as tf\n",
    "import numpy as np\n",
    "import pandas as pd\n",
    "import matplotlib.pyplot as plt\n",
    "\n",
    "from tensorflow import keras\n",
    "from tensorflow.keras import layers,regularizers\n",
    "from tensorflow.keras.models import Sequential\n",
    "from tensorflow.keras.layers import LSTM,Dense,Dropout,Activation\n",
    "from tensorflow.keras.callbacks import EarlyStopping, ModelCheckpoint, ReduceLROnPlateau, CSVLogger\n",
    "\n",
    "from sklearn.model_selection import train_test_split\n",
    "\n",
    "import warnings\n",
    "warnings.filterwarnings('ignore')"
   ]
  },
  {
   "cell_type": "markdown",
   "id": "c6e74de1",
   "metadata": {},
   "source": [
    "### data 읽어오기"
   ]
  },
  {
   "cell_type": "code",
   "execution_count": 2,
   "id": "4919cf7f",
   "metadata": {},
   "outputs": [],
   "source": [
    "train = pd.read_csv('train.csv')\n",
    "val = pd.read_csv('val.csv')"
   ]
  },
  {
   "cell_type": "code",
   "execution_count": 3,
   "id": "54f93622",
   "metadata": {
    "scrolled": true
   },
   "outputs": [
    {
     "name": "stdout",
     "output_type": "stream",
     "text": [
      "모션의 종류별 개수_Train\n",
      "   500  count\n",
      "0    0    480\n",
      "1    1    480\n",
      "2    2    480\n",
      "3    3    480\n",
      "4    4    480\n",
      "5    5    480\n",
      "6    6    480\n",
      "7    7    480\n",
      "모션의 종류별 개수_Validation\n",
      "   500  count\n",
      "0    0     37\n",
      "1    1     45\n",
      "2    2     42\n",
      "3    3     43\n",
      "4    4     56\n",
      "5    5     50\n",
      "6    6     48\n",
      "7    7     49\n"
     ]
    }
   ],
   "source": [
    "print('모션의 종류별 개수_Train')\n",
    "print(train.groupby('500').size().reset_index(name='count'))\n",
    "\n",
    "print('모션의 종류별 개수_Validation')\n",
    "print(val.groupby('500').size().reset_index(name='count'))\n"
   ]
  },
  {
   "cell_type": "markdown",
   "id": "e280fcb8",
   "metadata": {},
   "source": [
    "### 데이터 전처리(훈련데이터, 검증데이터 데이터 & 라벨(정답)분류)"
   ]
  },
  {
   "cell_type": "code",
   "execution_count": 4,
   "id": "eaf07869",
   "metadata": {},
   "outputs": [],
   "source": [
    "import copy\n",
    "\n",
    "label_cols = ['500']\n",
    "label_df = pd.DataFrame(train,columns=label_cols)\n",
    "label_df2 = pd.DataFrame(val,columns=label_cols)\n",
    "\n",
    "traindf = copy.deepcopy(train)\n",
    "traindf = traindf.drop(columns='500')\n",
    "feature_df = pd.DataFrame(traindf,columns=traindf.columns)\n",
    "\n",
    "\n",
    "valdf = copy.deepcopy(val)\n",
    "valdf = valdf.drop(columns='500')\n",
    "feature_df2 = pd.DataFrame(valdf,columns=valdf.columns)"
   ]
  },
  {
   "cell_type": "markdown",
   "id": "4cc79254",
   "metadata": {},
   "source": [
    "### 시계열 데이터 형태로 변경"
   ]
  },
  {
   "cell_type": "code",
   "execution_count": 5,
   "id": "0fd167ac",
   "metadata": {},
   "outputs": [],
   "source": [
    "def make_sequence_dataset(feature,label):\n",
    "    \n",
    "    feature_list = []\n",
    "    label_list = []\n",
    "    \n",
    "    for i in range(len(feature)):\n",
    "        \n",
    "        feature_list.append(feature[i])\n",
    "        label_list.append(label[i])\n",
    "        \n",
    "    return np.array(feature_list),np.array(label_list)"
   ]
  },
  {
   "cell_type": "code",
   "execution_count": 6,
   "id": "52dfbd61",
   "metadata": {},
   "outputs": [
    {
     "name": "stdout",
     "output_type": "stream",
     "text": [
      "(3840, 500) (3840, 1)\n"
     ]
    }
   ],
   "source": [
    "label_np = label_df.to_numpy()\n",
    "feature_np = feature_df.to_numpy()\n",
    "\n",
    "label_np2 = label_df2.to_numpy()\n",
    "feature_np2 = feature_df2.to_numpy()\n",
    "\n",
    "\n",
    "X_data,Y_data = make_sequence_dataset(feature_np,label_np)\n",
    "\n",
    "print(X_data.shape,Y_data.shape)"
   ]
  },
  {
   "cell_type": "markdown",
   "id": "ad8f83c1",
   "metadata": {},
   "source": [
    "### 훈련데이터를 테스트 데이터로 분류"
   ]
  },
  {
   "cell_type": "code",
   "execution_count": 7,
   "id": "1d55c2e7",
   "metadata": {},
   "outputs": [],
   "source": [
    "X_train,X_test,Y_train,Y_test = train_test_split(X_data,Y_data,test_size=0.05,random_state=0,stratify=Y_data)"
   ]
  },
  {
   "cell_type": "code",
   "execution_count": 8,
   "id": "c41fcf5c",
   "metadata": {},
   "outputs": [],
   "source": [
    "X_val,Y_val = make_sequence_dataset(feature_np2,label_np2)"
   ]
  },
  {
   "cell_type": "code",
   "execution_count": 9,
   "id": "dddb3030",
   "metadata": {},
   "outputs": [
    {
     "name": "stdout",
     "output_type": "stream",
     "text": [
      "(3648, 500) (192, 500) (370, 500)\n"
     ]
    }
   ],
   "source": [
    "print(X_train.shape,X_test.shape,X_val.shape)\n",
    "X_train = X_train.reshape(3648,500,1)\n",
    "X_test = X_test.reshape(192,500,1)\n",
    "X_val = X_val.reshape(370,500,1)"
   ]
  },
  {
   "cell_type": "code",
   "execution_count": 10,
   "id": "882dd650",
   "metadata": {},
   "outputs": [
    {
     "name": "stdout",
     "output_type": "stream",
     "text": [
      "(3648, 1) (192, 1) (370, 1)\n"
     ]
    }
   ],
   "source": [
    "print(Y_train.shape,Y_test.shape,Y_val.shape)\n",
    "Y_train = Y_train.reshape(3648,)\n",
    "Y_test = Y_test.reshape(192,)\n",
    "Y_val = Y_val.reshape(370,)"
   ]
  },
  {
   "cell_type": "code",
   "execution_count": 11,
   "id": "4ebc278c",
   "metadata": {},
   "outputs": [
    {
     "name": "stdout",
     "output_type": "stream",
     "text": [
      "(3648,) (192,) (370,)\n",
      "(3648, 500, 1) (192, 500, 1) (370, 500, 1)\n"
     ]
    }
   ],
   "source": [
    "print(Y_train.shape,Y_test.shape,Y_val.shape)\n",
    "\n",
    "print(X_train.shape,X_test.shape,X_val.shape)"
   ]
  },
  {
   "cell_type": "code",
   "execution_count": 12,
   "id": "7f11447b",
   "metadata": {},
   "outputs": [
    {
     "name": "stdout",
     "output_type": "stream",
     "text": [
      "Using 3648 samples for training and 192 samples for test and 370 for validation\n"
     ]
    }
   ],
   "source": [
    "print(\n",
    "\"Using %d samples for training and %d samples for test and %d for validation\"\n",
    "% (len(X_train),len(X_test),len(X_val))\n",
    ")"
   ]
  },
  {
   "cell_type": "markdown",
   "id": "4104371a",
   "metadata": {},
   "source": [
    "## model 설계"
   ]
  },
  {
   "cell_type": "code",
   "execution_count": 29,
   "id": "df73d230",
   "metadata": {},
   "outputs": [],
   "source": [
    "batch_size = 57\n",
    "input_dim = 1\n",
    "\n",
    "units = 64\n",
    "output_size = 8  # labels are from 0 to 7\n",
    "regularization_strength = 0.01\n",
    "#가중치 감쇠 적용(L2 norm), 마지막 출력층 활성화함수 softmax 적용, dropout layer로 변경, 조기멈춤 등 콜백함수 추가, 학습률 조정\n",
    "\n",
    "model = Sequential()\n",
    "model.add(layers.LSTM(units,\n",
    "                      kernel_regularizer=regularizers.l2(regularization_strength),\n",
    "                      input_shape=(None, input_dim)))\n",
    "model.add(Dropout(0.2))\n",
    "model.add(layers.BatchNormalization())\n",
    "model.add(layers.Dense(output_size,kernel_regularizer=regularizers.l2(regularization_strength),activation='softmax'))"
   ]
  },
  {
   "cell_type": "code",
   "execution_count": 30,
   "id": "51a48bd0",
   "metadata": {
    "scrolled": true
   },
   "outputs": [
    {
     "name": "stdout",
     "output_type": "stream",
     "text": [
      "Model: \"sequential_3\"\n",
      "_________________________________________________________________\n",
      " Layer (type)                Output Shape              Param #   \n",
      "=================================================================\n",
      " lstm_3 (LSTM)               (None, 64)                16896     \n",
      "                                                                 \n",
      " dropout_3 (Dropout)         (None, 64)                0         \n",
      "                                                                 \n",
      " batch_normalization_3 (Batc  (None, 64)               256       \n",
      " hNormalization)                                                 \n",
      "                                                                 \n",
      " dense_3 (Dense)             (None, 8)                 520       \n",
      "                                                                 \n",
      "=================================================================\n",
      "Total params: 17,672\n",
      "Trainable params: 17,544\n",
      "Non-trainable params: 128\n",
      "_________________________________________________________________\n"
     ]
    }
   ],
   "source": [
    "es = EarlyStopping(monitor='val_acc',patience=350,verbose=1,mode='max',restore_best_weights=True,baseline=0.96)\n",
    "mc = ModelCheckpoint(\"./check.h5\", save_best_only=True)\n",
    "rlr = ReduceLROnPlateau(monitor='val_acc',factor=0.9, patience=5,verbose=1,mode='max',min_lr=0.0005)\n",
    "csvlogger = CSVLogger(\"./epoch.log\")\n",
    "opt = keras.optimizers.Adam(learning_rate=0.005)\n",
    "# 모델 확정 조작 파라미터 = 학습률, lstm 차원\n",
    "model.summary()\n",
    "model.compile(\n",
    "    loss=keras.losses.SparseCategoricalCrossentropy(from_logits=True),\n",
    "    optimizer=opt,\n",
    "    metrics=[\"acc\"]\n",
    ")"
   ]
  },
  {
   "cell_type": "code",
   "execution_count": 31,
   "id": "e455cbbd",
   "metadata": {},
   "outputs": [
    {
     "data": {
      "image/png": "[encoded data removed]",
      "text/plain": [
       "<IPython.core.display.Image object>"
      ]
     },
     "execution_count": 31,
     "metadata": {},
     "output_type": "execute_result"
    }
   ],
   "source": [
    "keras.utils.plot_model(model, \"model_shape_info.png\", show_shapes=True)"
   ]
  },
  {
   "cell_type": "markdown",
   "id": "b14286de",
   "metadata": {},
   "source": [
    "### 학습"
   ]
  },
  {
   "cell_type": "code",
   "execution_count": 32,
   "id": "496ce7a5",
   "metadata": {},
   "outputs": [
    {
     "name": "stdout",
     "output_type": "stream",
     "text": [
      "Epoch 1/350\n",
      "64/64 [==============================] - 21s 295ms/step - loss: 1.8600 - acc: 0.3048 - val_loss: 2.0692 - val_acc: 0.1568 - lr: 0.0050\n",
      "Epoch 2/350\n",
      "64/64 [==============================] - 17s 265ms/step - loss: 1.7096 - acc: 0.3353 - val_loss: 2.0471 - val_acc: 0.1703 - lr: 0.0050\n",
      "Epoch 3/350\n",
      "64/64 [==============================] - 18s 280ms/step - loss: 1.6424 - acc: 0.3533 - val_loss: 1.9580 - val_acc: 0.2108 - lr: 0.0050\n",
      "Epoch 4/350\n",
      "64/64 [==============================] - 19s 304ms/step - loss: 1.7086 - acc: 0.3237 - val_loss: 1.8594 - val_acc: 0.2919 - lr: 0.0050\n",
      "Epoch 5/350\n",
      "64/64 [==============================] - 18s 277ms/step - loss: 1.6299 - acc: 0.3446 - val_loss: 1.8355 - val_acc: 0.3108 - lr: 0.0050\n",
      "Epoch 6/350\n",
      "64/64 [==============================] - 19s 290ms/step - loss: 1.6138 - acc: 0.3635 - val_loss: 1.7576 - val_acc: 0.3243 - lr: 0.0050\n",
      "Epoch 7/350\n",
      "64/64 [==============================] - 18s 282ms/step - loss: 1.5693 - acc: 0.3961 - val_loss: 1.8086 - val_acc: 0.2514 - lr: 0.0050\n",
      "Epoch 8/350\n",
      "64/64 [==============================] - 18s 275ms/step - loss: 1.5859 - acc: 0.3887 - val_loss: 1.8816 - val_acc: 0.1865 - lr: 0.0050\n",
      "Epoch 9/350\n",
      "64/64 [==============================] - 17s 260ms/step - loss: 1.5749 - acc: 0.3860 - val_loss: 1.7514 - val_acc: 0.3135 - lr: 0.0050\n",
      "Epoch 10/350\n",
      "64/64 [==============================] - 17s 263ms/step - loss: 1.5455 - acc: 0.4043 - val_loss: 1.6618 - val_acc: 0.3432 - lr: 0.0050\n",
      "Epoch 11/350\n",
      "64/64 [==============================] - 17s 259ms/step - loss: 1.5107 - acc: 0.4213 - val_loss: 1.5645 - val_acc: 0.4054 - lr: 0.0050\n",
      "Epoch 12/350\n",
      "64/64 [==============================] - 17s 263ms/step - loss: 1.7538 - acc: 0.2974 - val_loss: 3.0293 - val_acc: 0.1351 - lr: 0.0050\n",
      "Epoch 13/350\n",
      "64/64 [==============================] - 17s 260ms/step - loss: 1.6844 - acc: 0.3172 - val_loss: 1.8018 - val_acc: 0.2973 - lr: 0.0050\n",
      "Epoch 14/350\n",
      "64/64 [==============================] - 17s 262ms/step - loss: 1.5810 - acc: 0.3821 - val_loss: 1.7208 - val_acc: 0.3568 - lr: 0.0050\n",
      "Epoch 15/350\n",
      "64/64 [==============================] - 17s 261ms/step - loss: 1.5650 - acc: 0.3917 - val_loss: 1.6424 - val_acc: 0.3703 - lr: 0.0050\n",
      "Epoch 16/350\n",
      "64/64 [==============================] - 17s 262ms/step - loss: 1.5409 - acc: 0.4043 - val_loss: 1.5526 - val_acc: 0.4351 - lr: 0.0050\n",
      "Epoch 17/350\n",
      "64/64 [==============================] - 17s 270ms/step - loss: 1.5195 - acc: 0.4189 - val_loss: 1.5956 - val_acc: 0.4054 - lr: 0.0050\n",
      "Epoch 18/350\n",
      "64/64 [==============================] - 17s 262ms/step - loss: 1.5104 - acc: 0.4232 - val_loss: 1.5435 - val_acc: 0.4568 - lr: 0.0050\n",
      "Epoch 19/350\n",
      "64/64 [==============================] - 17s 260ms/step - loss: 1.4881 - acc: 0.4287 - val_loss: 1.4884 - val_acc: 0.4324 - lr: 0.0050\n",
      "Epoch 20/350\n",
      "64/64 [==============================] - 17s 267ms/step - loss: 1.4744 - acc: 0.4386 - val_loss: 1.5960 - val_acc: 0.3378 - lr: 0.0050\n",
      "Epoch 21/350\n",
      "64/64 [==============================] - 17s 261ms/step - loss: 1.4610 - acc: 0.4408 - val_loss: 1.5465 - val_acc: 0.4486 - lr: 0.0050\n",
      "Epoch 22/350\n",
      "64/64 [==============================] - 19s 297ms/step - loss: 1.4322 - acc: 0.4608 - val_loss: 1.5139 - val_acc: 0.3919 - lr: 0.0050\n",
      "Epoch 23/350\n",
      "64/64 [==============================] - ETA: 0s - loss: 1.4334 - acc: 0.4592\n",
      "Epoch 23: ReduceLROnPlateau reducing learning rate to 0.0044999998994171625.\n",
      "64/64 [==============================] - 19s 294ms/step - loss: 1.4334 - acc: 0.4592 - val_loss: 1.4835 - val_acc: 0.4081 - lr: 0.0050\n",
      "Epoch 24/350\n",
      "64/64 [==============================] - 17s 273ms/step - loss: 1.3773 - acc: 0.4838 - val_loss: 1.3869 - val_acc: 0.4946 - lr: 0.0045\n",
      "Epoch 25/350\n",
      "64/64 [==============================] - 17s 260ms/step - loss: 1.4232 - acc: 0.4539 - val_loss: 1.4313 - val_acc: 0.4541 - lr: 0.0045\n",
      "Epoch 26/350\n",
      "64/64 [==============================] - 19s 290ms/step - loss: 1.3633 - acc: 0.4846 - val_loss: 1.5162 - val_acc: 0.4730 - lr: 0.0045\n",
      "Epoch 27/350\n",
      "64/64 [==============================] - 17s 267ms/step - loss: 1.3493 - acc: 0.4984 - val_loss: 1.6358 - val_acc: 0.4378 - lr: 0.0045\n",
      "Epoch 28/350\n",
      "64/64 [==============================] - 18s 279ms/step - loss: 1.3908 - acc: 0.4841 - val_loss: 1.5067 - val_acc: 0.4811 - lr: 0.0045\n",
      "Epoch 29/350\n",
      "64/64 [==============================] - ETA: 0s - loss: 1.4684 - acc: 0.4391\n",
      "Epoch 29: ReduceLROnPlateau reducing learning rate to 0.004049999825656414.\n",
      "64/64 [==============================] - 17s 267ms/step - loss: 1.4684 - acc: 0.4391 - val_loss: 1.5097 - val_acc: 0.4784 - lr: 0.0045\n",
      "Epoch 30/350\n",
      "64/64 [==============================] - 18s 274ms/step - loss: 1.3785 - acc: 0.4827 - val_loss: 1.5916 - val_acc: 0.4757 - lr: 0.0040\n",
      "Epoch 31/350\n",
      "64/64 [==============================] - 18s 281ms/step - loss: 1.2981 - acc: 0.5307 - val_loss: 1.2913 - val_acc: 0.5243 - lr: 0.0040\n",
      "Epoch 32/350\n",
      "64/64 [==============================] - 18s 285ms/step - loss: 1.2400 - acc: 0.5540 - val_loss: 1.2994 - val_acc: 0.6162 - lr: 0.0040\n",
      "Epoch 33/350\n",
      "64/64 [==============================] - 17s 271ms/step - loss: 1.1917 - acc: 0.5800 - val_loss: 1.2517 - val_acc: 0.5486 - lr: 0.0040\n",
      "Epoch 34/350\n",
      "64/64 [==============================] - 21s 323ms/step - loss: 1.3201 - acc: 0.5249 - val_loss: 1.6294 - val_acc: 0.3865 - lr: 0.0040\n",
      "Epoch 35/350\n",
      "64/64 [==============================] - 19s 293ms/step - loss: 1.2604 - acc: 0.5518 - val_loss: 1.3541 - val_acc: 0.5514 - lr: 0.0040\n",
      "Epoch 36/350\n",
      "64/64 [==============================] - 19s 290ms/step - loss: 1.1659 - acc: 0.5707 - val_loss: 1.3045 - val_acc: 0.5135 - lr: 0.0040\n",
      "Epoch 37/350\n",
      "64/64 [==============================] - ETA: 0s - loss: 1.1285 - acc: 0.6091\n",
      "Epoch 37: ReduceLROnPlateau reducing learning rate to 0.0036449996754527093.\n",
      "64/64 [==============================] - 18s 279ms/step - loss: 1.1285 - acc: 0.6091 - val_loss: 1.1875 - val_acc: 0.5486 - lr: 0.0040\n",
      "Epoch 38/350\n",
      "64/64 [==============================] - 18s 285ms/step - loss: 1.0712 - acc: 0.6409 - val_loss: 1.0214 - val_acc: 0.6649 - lr: 0.0036\n",
      "Epoch 39/350\n",
      "64/64 [==============================] - 19s 300ms/step - loss: 1.2706 - acc: 0.5600 - val_loss: 1.2449 - val_acc: 0.5649 - lr: 0.0036\n",
      "Epoch 40/350\n",
      "64/64 [==============================] - 21s 335ms/step - loss: 1.5019 - acc: 0.4471 - val_loss: 1.9797 - val_acc: 0.2568 - lr: 0.0036\n",
      "Epoch 41/350\n",
      "64/64 [==============================] - 21s 334ms/step - loss: 1.7574 - acc: 0.2982 - val_loss: 1.7933 - val_acc: 0.2784 - lr: 0.0036\n",
      "Epoch 42/350\n",
      "64/64 [==============================] - 20s 312ms/step - loss: 1.6546 - acc: 0.3361 - val_loss: 1.7128 - val_acc: 0.3378 - lr: 0.0036\n",
      "Epoch 43/350\n",
      "64/64 [==============================] - ETA: 0s - loss: 1.6157 - acc: 0.3369\n",
      "Epoch 43: ReduceLROnPlateau reducing learning rate to 0.0032804996240884065.\n",
      "64/64 [==============================] - 19s 293ms/step - loss: 1.6157 - acc: 0.3369 - val_loss: 1.5560 - val_acc: 0.3378 - lr: 0.0036\n",
      "Epoch 44/350\n",
      "64/64 [==============================] - 17s 262ms/step - loss: 1.5733 - acc: 0.3605 - val_loss: 1.7542 - val_acc: 0.2865 - lr: 0.0033\n",
      "Epoch 45/350\n",
      "64/64 [==============================] - 17s 261ms/step - loss: 1.4811 - acc: 0.4205 - val_loss: 1.5154 - val_acc: 0.4270 - lr: 0.0033\n",
      "Epoch 46/350\n",
      "64/64 [==============================] - 17s 262ms/step - loss: 1.3501 - acc: 0.4550 - val_loss: 1.3663 - val_acc: 0.4216 - lr: 0.0033\n",
      "Epoch 47/350\n",
      "64/64 [==============================] - 18s 275ms/step - loss: 1.2661 - acc: 0.5101 - val_loss: 1.3071 - val_acc: 0.5189 - lr: 0.0033\n",
      "Epoch 48/350\n",
      "64/64 [==============================] - ETA: 0s - loss: 1.5580 - acc: 0.4041\n",
      "Epoch 48: ReduceLROnPlateau reducing learning rate to 0.0029524497454985975.\n",
      "64/64 [==============================] - 17s 270ms/step - loss: 1.5580 - acc: 0.4041 - val_loss: 1.6212 - val_acc: 0.4676 - lr: 0.0033\n",
      "Epoch 49/350\n",
      "64/64 [==============================] - 17s 268ms/step - loss: 1.2411 - acc: 0.5140 - val_loss: 1.4009 - val_acc: 0.4297 - lr: 0.0030\n",
      "Epoch 50/350\n",
      "64/64 [==============================] - 18s 288ms/step - loss: 1.1603 - acc: 0.5428 - val_loss: 1.2131 - val_acc: 0.5622 - lr: 0.0030\n",
      "Epoch 51/350\n",
      "64/64 [==============================] - 17s 271ms/step - loss: 1.0796 - acc: 0.5644 - val_loss: 1.0971 - val_acc: 0.6027 - lr: 0.0030\n",
      "Epoch 52/350\n",
      "64/64 [==============================] - 18s 276ms/step - loss: 1.0388 - acc: 0.5940 - val_loss: 1.2133 - val_acc: 0.5649 - lr: 0.0030\n",
      "Epoch 53/350\n",
      "64/64 [==============================] - ETA: 0s - loss: 1.0132 - acc: 0.6025\n",
      "Epoch 53: ReduceLROnPlateau reducing learning rate to 0.00265720474999398.\n",
      "64/64 [==============================] - 19s 300ms/step - loss: 1.0132 - acc: 0.6025 - val_loss: 1.0824 - val_acc: 0.5811 - lr: 0.0030\n",
      "Epoch 54/350\n",
      "64/64 [==============================] - 18s 286ms/step - loss: 0.9886 - acc: 0.6157 - val_loss: 1.0789 - val_acc: 0.6027 - lr: 0.0027\n",
      "Epoch 55/350\n",
      "64/64 [==============================] - 18s 277ms/step - loss: 0.9581 - acc: 0.6319 - val_loss: 1.0110 - val_acc: 0.6568 - lr: 0.0027\n",
      "Epoch 56/350\n",
      "64/64 [==============================] - 20s 306ms/step - loss: 0.9742 - acc: 0.6255 - val_loss: 1.1288 - val_acc: 0.5973 - lr: 0.0027\n",
      "Epoch 57/350\n",
      "64/64 [==============================] - 17s 271ms/step - loss: 0.9106 - acc: 0.6861 - val_loss: 0.9853 - val_acc: 0.6676 - lr: 0.0027\n",
      "Epoch 58/350\n",
      "64/64 [==============================] - 18s 281ms/step - loss: 0.8185 - acc: 0.7360 - val_loss: 0.8276 - val_acc: 0.7378 - lr: 0.0027\n",
      "Epoch 59/350\n",
      "64/64 [==============================] - 18s 282ms/step - loss: 0.8395 - acc: 0.7314 - val_loss: 0.7364 - val_acc: 0.7838 - lr: 0.0027\n",
      "Epoch 60/350\n",
      "64/64 [==============================] - 17s 273ms/step - loss: 0.7540 - acc: 0.7637 - val_loss: 0.7546 - val_acc: 0.7568 - lr: 0.0027\n",
      "Epoch 61/350\n",
      "64/64 [==============================] - 19s 290ms/step - loss: 0.7641 - acc: 0.7533 - val_loss: 0.7723 - val_acc: 0.7541 - lr: 0.0027\n",
      "Epoch 62/350\n",
      "64/64 [==============================] - 17s 259ms/step - loss: 0.8891 - acc: 0.6938 - val_loss: 0.8480 - val_acc: 0.7514 - lr: 0.0027\n",
      "Epoch 63/350\n",
      "64/64 [==============================] - 17s 259ms/step - loss: 0.8245 - acc: 0.7303 - val_loss: 0.8127 - val_acc: 0.7216 - lr: 0.0027\n",
      "Epoch 64/350\n",
      "64/64 [==============================] - ETA: 0s - loss: 0.7557 - acc: 0.7497\n",
      "Epoch 64: ReduceLROnPlateau reducing learning rate to 0.002391484379768372.\n",
      "64/64 [==============================] - 17s 259ms/step - loss: 0.7557 - acc: 0.7497 - val_loss: 0.8210 - val_acc: 0.7541 - lr: 0.0027\n",
      "Epoch 65/350\n",
      "64/64 [==============================] - 17s 259ms/step - loss: 0.7181 - acc: 0.7706 - val_loss: 0.8057 - val_acc: 0.7622 - lr: 0.0024\n",
      "Epoch 66/350\n",
      "64/64 [==============================] - 17s 261ms/step - loss: 0.6763 - acc: 0.7856 - val_loss: 0.7014 - val_acc: 0.7784 - lr: 0.0024\n",
      "Epoch 67/350\n",
      "64/64 [==============================] - 17s 268ms/step - loss: 0.6226 - acc: 0.8032 - val_loss: 0.6313 - val_acc: 0.7919 - lr: 0.0024\n",
      "Epoch 68/350\n",
      "64/64 [==============================] - 17s 263ms/step - loss: 0.6069 - acc: 0.8130 - val_loss: 0.6061 - val_acc: 0.8162 - lr: 0.0024\n",
      "Epoch 69/350\n",
      "64/64 [==============================] - 17s 261ms/step - loss: 0.6050 - acc: 0.8095 - val_loss: 0.5601 - val_acc: 0.8378 - lr: 0.0024\n",
      "Epoch 70/350\n",
      "64/64 [==============================] - 17s 261ms/step - loss: 0.9565 - acc: 0.6845 - val_loss: 1.3040 - val_acc: 0.4865 - lr: 0.0024\n",
      "Epoch 71/350\n",
      "64/64 [==============================] - 17s 260ms/step - loss: 1.0132 - acc: 0.6541 - val_loss: 1.0347 - val_acc: 0.6622 - lr: 0.0024\n",
      "Epoch 72/350\n",
      "64/64 [==============================] - 17s 261ms/step - loss: 0.7815 - acc: 0.7629 - val_loss: 0.7529 - val_acc: 0.7757 - lr: 0.0024\n",
      "Epoch 73/350\n",
      "64/64 [==============================] - 17s 262ms/step - loss: 0.6889 - acc: 0.7782 - val_loss: 0.8205 - val_acc: 0.7405 - lr: 0.0024\n",
      "Epoch 74/350\n",
      "64/64 [==============================] - ETA: 0s - loss: 0.7283 - acc: 0.7755\n",
      "Epoch 74: ReduceLROnPlateau reducing learning rate to 0.0021523358998820187.\n",
      "64/64 [==============================] - 17s 263ms/step - loss: 0.7283 - acc: 0.7755 - val_loss: 0.7837 - val_acc: 0.7541 - lr: 0.0024\n",
      "Epoch 75/350\n",
      "64/64 [==============================] - 17s 263ms/step - loss: 0.7897 - acc: 0.7445 - val_loss: 0.6779 - val_acc: 0.7811 - lr: 0.0022\n",
      "Epoch 76/350\n",
      "64/64 [==============================] - 19s 302ms/step - loss: 0.6262 - acc: 0.8111 - val_loss: 0.6699 - val_acc: 0.8000 - lr: 0.0022\n",
      "Epoch 77/350\n",
      "64/64 [==============================] - 17s 262ms/step - loss: 0.9275 - acc: 0.6826 - val_loss: 1.0031 - val_acc: 0.6919 - lr: 0.0022\n",
      "Epoch 78/350\n",
      "64/64 [==============================] - 17s 261ms/step - loss: 0.6989 - acc: 0.7747 - val_loss: 0.7437 - val_acc: 0.7784 - lr: 0.0022\n",
      "Epoch 79/350\n",
      "64/64 [==============================] - ETA: 0s - loss: 0.6070 - acc: 0.8125\n",
      "Epoch 79: ReduceLROnPlateau reducing learning rate to 0.0019371022470295429.\n",
      "64/64 [==============================] - 17s 261ms/step - loss: 0.6070 - acc: 0.8125 - val_loss: 0.7051 - val_acc: 0.7919 - lr: 0.0022\n",
      "Epoch 80/350\n",
      "64/64 [==============================] - 17s 261ms/step - loss: 0.5968 - acc: 0.8092 - val_loss: 0.6739 - val_acc: 0.7784 - lr: 0.0019\n",
      "Epoch 81/350\n",
      "64/64 [==============================] - 17s 261ms/step - loss: 0.5998 - acc: 0.8158 - val_loss: 0.6161 - val_acc: 0.8216 - lr: 0.0019\n",
      "Epoch 82/350\n",
      "64/64 [==============================] - 17s 262ms/step - loss: 0.5511 - acc: 0.8328 - val_loss: 0.6217 - val_acc: 0.8081 - lr: 0.0019\n",
      "Epoch 83/350\n",
      "64/64 [==============================] - 17s 260ms/step - loss: 0.5530 - acc: 0.8295 - val_loss: 0.6486 - val_acc: 0.8135 - lr: 0.0019\n",
      "Epoch 84/350\n",
      "64/64 [==============================] - ETA: 0s - loss: 0.5595 - acc: 0.8221\n",
      "Epoch 84: ReduceLROnPlateau reducing learning rate to 0.0017433920642361046.\n",
      "64/64 [==============================] - 17s 261ms/step - loss: 0.5595 - acc: 0.8221 - val_loss: 0.5855 - val_acc: 0.8135 - lr: 0.0019\n",
      "Epoch 85/350\n",
      "64/64 [==============================] - 17s 267ms/step - loss: 0.6163 - acc: 0.8103 - val_loss: 0.5629 - val_acc: 0.8243 - lr: 0.0017\n",
      "Epoch 86/350\n",
      "64/64 [==============================] - 17s 260ms/step - loss: 0.5563 - acc: 0.8185 - val_loss: 0.6230 - val_acc: 0.7946 - lr: 0.0017\n",
      "Epoch 87/350\n",
      "64/64 [==============================] - 17s 260ms/step - loss: 0.5298 - acc: 0.8246 - val_loss: 0.5755 - val_acc: 0.8054 - lr: 0.0017\n",
      "Epoch 88/350\n",
      "64/64 [==============================] - 17s 261ms/step - loss: 0.5915 - acc: 0.8078 - val_loss: 0.5722 - val_acc: 0.8189 - lr: 0.0017\n",
      "Epoch 89/350\n",
      "64/64 [==============================] - ETA: 0s - loss: 0.5567 - acc: 0.8221\n",
      "Epoch 89: ReduceLROnPlateau reducing learning rate to 0.001569052878767252.\n",
      "64/64 [==============================] - 17s 263ms/step - loss: 0.5567 - acc: 0.8221 - val_loss: 0.5990 - val_acc: 0.8108 - lr: 0.0017\n",
      "Epoch 90/350\n",
      "64/64 [==============================] - 17s 261ms/step - loss: 0.5408 - acc: 0.8328 - val_loss: 0.5186 - val_acc: 0.8405 - lr: 0.0016\n",
      "Epoch 91/350\n",
      "64/64 [==============================] - 17s 267ms/step - loss: 0.5238 - acc: 0.8300 - val_loss: 0.6142 - val_acc: 0.8135 - lr: 0.0016\n",
      "Epoch 92/350\n",
      "64/64 [==============================] - 17s 262ms/step - loss: 0.5144 - acc: 0.8421 - val_loss: 0.5192 - val_acc: 0.8378 - lr: 0.0016\n",
      "Epoch 93/350\n",
      "64/64 [==============================] - 17s 272ms/step - loss: 0.5078 - acc: 0.8421 - val_loss: 0.5156 - val_acc: 0.8459 - lr: 0.0016\n",
      "Epoch 94/350\n",
      "64/64 [==============================] - 18s 288ms/step - loss: 0.4946 - acc: 0.8438 - val_loss: 0.4931 - val_acc: 0.8486 - lr: 0.0016\n",
      "Epoch 95/350\n",
      "64/64 [==============================] - 17s 261ms/step - loss: 0.4901 - acc: 0.8418 - val_loss: 0.4874 - val_acc: 0.8351 - lr: 0.0016\n",
      "Epoch 96/350\n",
      "64/64 [==============================] - 17s 262ms/step - loss: 0.4753 - acc: 0.8490 - val_loss: 0.4940 - val_acc: 0.8459 - lr: 0.0016\n",
      "Epoch 97/350\n",
      "64/64 [==============================] - 17s 262ms/step - loss: 0.4711 - acc: 0.8440 - val_loss: 0.4914 - val_acc: 0.8405 - lr: 0.0016\n",
      "Epoch 98/350\n",
      "64/64 [==============================] - 17s 265ms/step - loss: 0.4607 - acc: 0.8512 - val_loss: 0.4737 - val_acc: 0.8432 - lr: 0.0016\n",
      "Epoch 99/350\n",
      "64/64 [==============================] - ETA: 0s - loss: 0.4614 - acc: 0.8440\n",
      "Epoch 99: ReduceLROnPlateau reducing learning rate to 0.0014121476328000427.\n",
      "64/64 [==============================] - 17s 265ms/step - loss: 0.4614 - acc: 0.8440 - val_loss: 0.5235 - val_acc: 0.8405 - lr: 0.0016\n"
     ]
    },
    {
     "name": "stdout",
     "output_type": "stream",
     "text": [
      "Epoch 100/350\n",
      "64/64 [==============================] - 17s 262ms/step - loss: 0.4418 - acc: 0.8555 - val_loss: 0.4714 - val_acc: 0.8676 - lr: 0.0014\n",
      "Epoch 101/350\n",
      "64/64 [==============================] - 17s 261ms/step - loss: 0.5145 - acc: 0.8320 - val_loss: 0.5016 - val_acc: 0.8351 - lr: 0.0014\n",
      "Epoch 102/350\n",
      "64/64 [==============================] - 17s 265ms/step - loss: 0.5010 - acc: 0.8350 - val_loss: 0.5597 - val_acc: 0.8216 - lr: 0.0014\n",
      "Epoch 103/350\n",
      "64/64 [==============================] - 17s 269ms/step - loss: 0.4523 - acc: 0.8501 - val_loss: 0.4341 - val_acc: 0.8757 - lr: 0.0014\n",
      "Epoch 104/350\n",
      "64/64 [==============================] - 17s 261ms/step - loss: 0.4250 - acc: 0.8627 - val_loss: 0.4729 - val_acc: 0.8514 - lr: 0.0014\n",
      "Epoch 105/350\n",
      "64/64 [==============================] - 17s 261ms/step - loss: 0.4282 - acc: 0.8638 - val_loss: 0.6319 - val_acc: 0.8027 - lr: 0.0014\n",
      "Epoch 106/350\n",
      "64/64 [==============================] - 17s 260ms/step - loss: 0.4867 - acc: 0.8369 - val_loss: 0.4879 - val_acc: 0.8595 - lr: 0.0014\n",
      "Epoch 107/350\n",
      "64/64 [==============================] - 17s 267ms/step - loss: 0.4329 - acc: 0.8627 - val_loss: 0.4452 - val_acc: 0.8568 - lr: 0.0014\n",
      "Epoch 108/350\n",
      "64/64 [==============================] - ETA: 0s - loss: 0.5319 - acc: 0.8226\n",
      "Epoch 108: ReduceLROnPlateau reducing learning rate to 0.0012709328904747963.\n",
      "64/64 [==============================] - 17s 264ms/step - loss: 0.5319 - acc: 0.8226 - val_loss: 0.8075 - val_acc: 0.6892 - lr: 0.0014\n",
      "Epoch 109/350\n",
      "64/64 [==============================] - 17s 262ms/step - loss: 0.5844 - acc: 0.8109 - val_loss: 0.6384 - val_acc: 0.7676 - lr: 0.0013\n",
      "Epoch 110/350\n",
      "64/64 [==============================] - 19s 294ms/step - loss: 0.5030 - acc: 0.8314 - val_loss: 0.5285 - val_acc: 0.8189 - lr: 0.0013\n",
      "Epoch 111/350\n",
      "64/64 [==============================] - 18s 274ms/step - loss: 0.4882 - acc: 0.8374 - val_loss: 0.9273 - val_acc: 0.7351 - lr: 0.0013\n",
      "Epoch 112/350\n",
      "64/64 [==============================] - 17s 261ms/step - loss: 0.5675 - acc: 0.8194 - val_loss: 0.4677 - val_acc: 0.8595 - lr: 0.0013\n",
      "Epoch 113/350\n",
      "64/64 [==============================] - ETA: 0s - loss: 0.4268 - acc: 0.8660\n",
      "Epoch 113: ReduceLROnPlateau reducing learning rate to 0.0011438395595178008.\n",
      "64/64 [==============================] - 17s 262ms/step - loss: 0.4268 - acc: 0.8660 - val_loss: 0.4394 - val_acc: 0.8649 - lr: 0.0013\n",
      "Epoch 114/350\n",
      "64/64 [==============================] - 17s 262ms/step - loss: 0.4115 - acc: 0.8668 - val_loss: 0.4140 - val_acc: 0.8811 - lr: 0.0011\n",
      "Epoch 115/350\n",
      "64/64 [==============================] - 17s 263ms/step - loss: 0.4009 - acc: 0.8709 - val_loss: 0.4300 - val_acc: 0.8703 - lr: 0.0011\n",
      "Epoch 116/350\n",
      "64/64 [==============================] - 17s 263ms/step - loss: 0.4296 - acc: 0.8569 - val_loss: 0.4758 - val_acc: 0.8595 - lr: 0.0011\n",
      "Epoch 117/350\n",
      "64/64 [==============================] - 17s 262ms/step - loss: 0.4101 - acc: 0.8662 - val_loss: 0.4355 - val_acc: 0.8730 - lr: 0.0011\n",
      "Epoch 118/350\n",
      "64/64 [==============================] - 17s 262ms/step - loss: 0.4070 - acc: 0.8649 - val_loss: 0.4321 - val_acc: 0.8676 - lr: 0.0011\n",
      "Epoch 119/350\n",
      "64/64 [==============================] - ETA: 0s - loss: 0.4031 - acc: 0.8681\n",
      "Epoch 119: ReduceLROnPlateau reducing learning rate to 0.0010294556035660208.\n",
      "64/64 [==============================] - 17s 261ms/step - loss: 0.4031 - acc: 0.8681 - val_loss: 0.4316 - val_acc: 0.8757 - lr: 0.0011\n",
      "Epoch 120/350\n",
      "64/64 [==============================] - 17s 272ms/step - loss: 0.3864 - acc: 0.8755 - val_loss: 0.4307 - val_acc: 0.8730 - lr: 0.0010\n",
      "Epoch 121/350\n",
      "64/64 [==============================] - 17s 269ms/step - loss: 0.3740 - acc: 0.8816 - val_loss: 0.4427 - val_acc: 0.8595 - lr: 0.0010\n",
      "Epoch 122/350\n",
      "64/64 [==============================] - 17s 260ms/step - loss: 0.3891 - acc: 0.8755 - val_loss: 0.4140 - val_acc: 0.8784 - lr: 0.0010\n",
      "Epoch 123/350\n",
      "64/64 [==============================] - 17s 268ms/step - loss: 0.3956 - acc: 0.8728 - val_loss: 0.4697 - val_acc: 0.8405 - lr: 0.0010\n",
      "Epoch 124/350\n",
      "64/64 [==============================] - ETA: 0s - loss: 0.4174 - acc: 0.8676\n",
      "Epoch 124: ReduceLROnPlateau reducing learning rate to 0.0009265100117772818.\n",
      "64/64 [==============================] - 17s 262ms/step - loss: 0.4174 - acc: 0.8676 - val_loss: 0.4454 - val_acc: 0.8757 - lr: 0.0010\n",
      "Epoch 125/350\n",
      "64/64 [==============================] - 18s 276ms/step - loss: 0.3787 - acc: 0.8819 - val_loss: 0.4081 - val_acc: 0.8892 - lr: 9.2651e-04\n",
      "Epoch 126/350\n",
      "64/64 [==============================] - 17s 261ms/step - loss: 0.3717 - acc: 0.8797 - val_loss: 0.4269 - val_acc: 0.8703 - lr: 9.2651e-04\n",
      "Epoch 127/350\n",
      "64/64 [==============================] - 19s 291ms/step - loss: 0.3818 - acc: 0.8794 - val_loss: 0.4079 - val_acc: 0.8892 - lr: 9.2651e-04\n",
      "Epoch 128/350\n",
      "64/64 [==============================] - 19s 290ms/step - loss: 0.4366 - acc: 0.8520 - val_loss: 0.4870 - val_acc: 0.8459 - lr: 9.2651e-04\n",
      "Epoch 129/350\n",
      "64/64 [==============================] - 17s 270ms/step - loss: 0.3893 - acc: 0.8660 - val_loss: 0.4199 - val_acc: 0.8757 - lr: 9.2651e-04\n",
      "Epoch 130/350\n",
      "64/64 [==============================] - ETA: 0s - loss: 0.4103 - acc: 0.8627\n",
      "Epoch 130: ReduceLROnPlateau reducing learning rate to 0.0008338590210769326.\n",
      "64/64 [==============================] - 18s 289ms/step - loss: 0.4103 - acc: 0.8627 - val_loss: 0.4497 - val_acc: 0.8676 - lr: 9.2651e-04\n",
      "Epoch 131/350\n",
      "64/64 [==============================] - 17s 263ms/step - loss: 0.4325 - acc: 0.8561 - val_loss: 0.4620 - val_acc: 0.8459 - lr: 8.3386e-04\n",
      "Epoch 132/350\n",
      "64/64 [==============================] - 17s 262ms/step - loss: 0.3758 - acc: 0.8769 - val_loss: 0.4282 - val_acc: 0.8703 - lr: 8.3386e-04\n",
      "Epoch 133/350\n",
      "64/64 [==============================] - 17s 261ms/step - loss: 0.3514 - acc: 0.8829 - val_loss: 0.4167 - val_acc: 0.8865 - lr: 8.3386e-04\n",
      "Epoch 134/350\n",
      "64/64 [==============================] - 18s 274ms/step - loss: 0.3529 - acc: 0.8871 - val_loss: 0.4369 - val_acc: 0.8784 - lr: 8.3386e-04\n",
      "Epoch 135/350\n",
      "64/64 [==============================] - ETA: 0s - loss: 0.5875 - acc: 0.8032\n",
      "Epoch 135: ReduceLROnPlateau reducing learning rate to 0.0007504731242079288.\n",
      "64/64 [==============================] - 17s 269ms/step - loss: 0.5875 - acc: 0.8032 - val_loss: 0.5081 - val_acc: 0.8459 - lr: 8.3386e-04\n",
      "Epoch 136/350\n",
      "64/64 [==============================] - 17s 267ms/step - loss: 0.4742 - acc: 0.8435 - val_loss: 0.6599 - val_acc: 0.8027 - lr: 7.5047e-04\n",
      "Epoch 137/350\n",
      "64/64 [==============================] - 18s 280ms/step - loss: 0.4589 - acc: 0.8520 - val_loss: 0.5662 - val_acc: 0.8378 - lr: 7.5047e-04\n",
      "Epoch 138/350\n",
      "64/64 [==============================] - 19s 296ms/step - loss: 0.4285 - acc: 0.8616 - val_loss: 0.5480 - val_acc: 0.8486 - lr: 7.5047e-04\n",
      "Epoch 139/350\n",
      "64/64 [==============================] - 19s 289ms/step - loss: 0.4122 - acc: 0.8635 - val_loss: 0.4729 - val_acc: 0.8541 - lr: 7.5047e-04\n",
      "Epoch 140/350\n",
      "64/64 [==============================] - ETA: 0s - loss: 0.4092 - acc: 0.8640\n",
      "Epoch 140: ReduceLROnPlateau reducing learning rate to 0.0006754258065484464.\n",
      "64/64 [==============================] - 17s 272ms/step - loss: 0.4092 - acc: 0.8640 - val_loss: 0.5041 - val_acc: 0.8568 - lr: 7.5047e-04\n",
      "Epoch 141/350\n",
      "64/64 [==============================] - 17s 271ms/step - loss: 0.3966 - acc: 0.8725 - val_loss: 0.4923 - val_acc: 0.8541 - lr: 6.7543e-04\n",
      "Epoch 142/350\n",
      "64/64 [==============================] - 17s 273ms/step - loss: 0.4120 - acc: 0.8627 - val_loss: 0.4695 - val_acc: 0.8622 - lr: 6.7543e-04\n",
      "Epoch 143/350\n",
      "64/64 [==============================] - 18s 285ms/step - loss: 0.3834 - acc: 0.8742 - val_loss: 0.4845 - val_acc: 0.8568 - lr: 6.7543e-04\n",
      "Epoch 144/350\n",
      "64/64 [==============================] - 17s 269ms/step - loss: 0.3663 - acc: 0.8901 - val_loss: 0.4308 - val_acc: 0.8757 - lr: 6.7543e-04\n",
      "Epoch 145/350\n",
      "64/64 [==============================] - ETA: 0s - loss: 0.3705 - acc: 0.8849\n",
      "Epoch 145: ReduceLROnPlateau reducing learning rate to 0.0006078832258936018.\n",
      "64/64 [==============================] - 17s 272ms/step - loss: 0.3705 - acc: 0.8849 - val_loss: 0.4321 - val_acc: 0.8784 - lr: 6.7543e-04\n",
      "Epoch 146/350\n"
     ]
    },
    {
     "name": "stdout",
     "output_type": "stream",
     "text": [
      "64/64 [==============================] - 17s 270ms/step - loss: 0.3609 - acc: 0.8821 - val_loss: 0.4038 - val_acc: 0.8865 - lr: 6.0788e-04\n",
      "Epoch 147/350\n",
      "64/64 [==============================] - 19s 291ms/step - loss: 0.3499 - acc: 0.8904 - val_loss: 0.4184 - val_acc: 0.8811 - lr: 6.0788e-04\n",
      "Epoch 148/350\n",
      "64/64 [==============================] - 19s 303ms/step - loss: 0.3466 - acc: 0.8931 - val_loss: 0.4111 - val_acc: 0.8811 - lr: 6.0788e-04\n",
      "Epoch 149/350\n",
      "64/64 [==============================] - 18s 277ms/step - loss: 0.3536 - acc: 0.8912 - val_loss: 0.3859 - val_acc: 0.8919 - lr: 6.0788e-04\n",
      "Epoch 150/350\n",
      "64/64 [==============================] - 17s 262ms/step - loss: 0.3454 - acc: 0.8893 - val_loss: 0.4177 - val_acc: 0.8622 - lr: 6.0788e-04\n",
      "Epoch 151/350\n",
      "64/64 [==============================] - 17s 261ms/step - loss: 0.3528 - acc: 0.8868 - val_loss: 0.4033 - val_acc: 0.8865 - lr: 6.0788e-04\n",
      "Epoch 152/350\n",
      "64/64 [==============================] - 17s 264ms/step - loss: 0.3721 - acc: 0.8786 - val_loss: 0.4915 - val_acc: 0.8568 - lr: 6.0788e-04\n",
      "Epoch 153/350\n",
      "64/64 [==============================] - 19s 293ms/step - loss: 0.3824 - acc: 0.8819 - val_loss: 0.4100 - val_acc: 0.8838 - lr: 6.0788e-04\n",
      "Epoch 154/350\n",
      "64/64 [==============================] - ETA: 0s - loss: 0.3452 - acc: 0.8906\n",
      "Epoch 154: ReduceLROnPlateau reducing learning rate to 0.0005470948875881731.\n",
      "64/64 [==============================] - 18s 283ms/step - loss: 0.3452 - acc: 0.8906 - val_loss: 0.5463 - val_acc: 0.8405 - lr: 6.0788e-04\n",
      "Epoch 155/350\n",
      "64/64 [==============================] - 17s 272ms/step - loss: 0.3671 - acc: 0.8835 - val_loss: 0.3920 - val_acc: 0.8757 - lr: 5.4709e-04\n",
      "Epoch 156/350\n",
      "64/64 [==============================] - 17s 274ms/step - loss: 0.3351 - acc: 0.8950 - val_loss: 0.3836 - val_acc: 0.8892 - lr: 5.4709e-04\n",
      "Epoch 157/350\n",
      "64/64 [==============================] - 17s 263ms/step - loss: 0.3228 - acc: 0.8964 - val_loss: 0.4275 - val_acc: 0.8703 - lr: 5.4709e-04\n",
      "Epoch 158/350\n",
      "64/64 [==============================] - 17s 262ms/step - loss: 0.3139 - acc: 0.9008 - val_loss: 0.3918 - val_acc: 0.8838 - lr: 5.4709e-04\n",
      "Epoch 159/350\n",
      "64/64 [==============================] - 17s 264ms/step - loss: 0.3022 - acc: 0.9038 - val_loss: 0.3818 - val_acc: 0.8946 - lr: 5.4709e-04\n",
      "Epoch 160/350\n",
      "64/64 [==============================] - 18s 277ms/step - loss: 0.3131 - acc: 0.9013 - val_loss: 0.3836 - val_acc: 0.8946 - lr: 5.4709e-04\n",
      "Epoch 161/350\n",
      "64/64 [==============================] - 17s 262ms/step - loss: 0.3433 - acc: 0.8942 - val_loss: 0.4396 - val_acc: 0.8649 - lr: 5.4709e-04\n",
      "Epoch 162/350\n",
      "64/64 [==============================] - 17s 263ms/step - loss: 0.3303 - acc: 0.8887 - val_loss: 0.3726 - val_acc: 0.8865 - lr: 5.4709e-04\n",
      "Epoch 163/350\n",
      "64/64 [==============================] - 17s 262ms/step - loss: 0.3079 - acc: 0.9032 - val_loss: 0.4147 - val_acc: 0.8892 - lr: 5.4709e-04\n",
      "Epoch 164/350\n",
      "64/64 [==============================] - ETA: 0s - loss: 0.3061 - acc: 0.9016\n",
      "Epoch 164: ReduceLROnPlateau reducing learning rate to 0.0005.\n",
      "64/64 [==============================] - 17s 266ms/step - loss: 0.3061 - acc: 0.9016 - val_loss: 0.3786 - val_acc: 0.8838 - lr: 5.4709e-04\n",
      "Epoch 165/350\n",
      "64/64 [==============================] - 18s 276ms/step - loss: 0.2967 - acc: 0.9054 - val_loss: 0.3530 - val_acc: 0.9054 - lr: 5.0000e-04\n",
      "Epoch 166/350\n",
      "64/64 [==============================] - 17s 263ms/step - loss: 0.2892 - acc: 0.9090 - val_loss: 0.4559 - val_acc: 0.8595 - lr: 5.0000e-04\n",
      "Epoch 167/350\n",
      "64/64 [==============================] - 18s 279ms/step - loss: 0.3766 - acc: 0.8758 - val_loss: 0.4020 - val_acc: 0.8703 - lr: 5.0000e-04\n",
      "Epoch 168/350\n",
      "64/64 [==============================] - 18s 274ms/step - loss: 0.3260 - acc: 0.8997 - val_loss: 0.3284 - val_acc: 0.9027 - lr: 5.0000e-04\n",
      "Epoch 169/350\n",
      "64/64 [==============================] - 19s 297ms/step - loss: 0.3424 - acc: 0.8890 - val_loss: 0.3783 - val_acc: 0.8865 - lr: 5.0000e-04\n",
      "Epoch 170/350\n",
      "64/64 [==============================] - 18s 282ms/step - loss: 0.3166 - acc: 0.8997 - val_loss: 0.3371 - val_acc: 0.9027 - lr: 5.0000e-04\n",
      "Epoch 171/350\n",
      "64/64 [==============================] - 18s 277ms/step - loss: 0.2959 - acc: 0.9054 - val_loss: 0.3420 - val_acc: 0.9027 - lr: 5.0000e-04\n",
      "Epoch 172/350\n",
      "64/64 [==============================] - 18s 280ms/step - loss: 0.2981 - acc: 0.9046 - val_loss: 0.3710 - val_acc: 0.8865 - lr: 5.0000e-04\n",
      "Epoch 173/350\n",
      "64/64 [==============================] - 18s 281ms/step - loss: 0.2870 - acc: 0.9093 - val_loss: 0.3453 - val_acc: 0.9054 - lr: 5.0000e-04\n",
      "Epoch 174/350\n",
      "64/64 [==============================] - 19s 291ms/step - loss: 0.3125 - acc: 0.9013 - val_loss: 0.3667 - val_acc: 0.8865 - lr: 5.0000e-04\n",
      "Epoch 175/350\n",
      "64/64 [==============================] - 17s 264ms/step - loss: 0.3048 - acc: 0.9052 - val_loss: 0.6977 - val_acc: 0.8108 - lr: 5.0000e-04\n",
      "Epoch 176/350\n",
      "64/64 [==============================] - 18s 282ms/step - loss: 0.5445 - acc: 0.8322 - val_loss: 0.4212 - val_acc: 0.8784 - lr: 5.0000e-04\n",
      "Epoch 177/350\n",
      "64/64 [==============================] - 19s 289ms/step - loss: 0.3566 - acc: 0.8832 - val_loss: 0.3656 - val_acc: 0.8919 - lr: 5.0000e-04\n",
      "Epoch 178/350\n",
      "64/64 [==============================] - 17s 266ms/step - loss: 0.3126 - acc: 0.9008 - val_loss: 0.3727 - val_acc: 0.8919 - lr: 5.0000e-04\n",
      "Epoch 179/350\n",
      "64/64 [==============================] - 17s 264ms/step - loss: 0.2840 - acc: 0.9126 - val_loss: 0.3575 - val_acc: 0.9027 - lr: 5.0000e-04\n",
      "Epoch 180/350\n",
      "64/64 [==============================] - 18s 278ms/step - loss: 0.2992 - acc: 0.9068 - val_loss: 0.3630 - val_acc: 0.9000 - lr: 5.0000e-04\n",
      "Epoch 181/350\n",
      "64/64 [==============================] - 17s 268ms/step - loss: 0.3003 - acc: 0.9027 - val_loss: 0.3621 - val_acc: 0.8946 - lr: 5.0000e-04\n",
      "Epoch 182/350\n",
      "64/64 [==============================] - 17s 265ms/step - loss: 0.2848 - acc: 0.9082 - val_loss: 0.3561 - val_acc: 0.8973 - lr: 5.0000e-04\n",
      "Epoch 183/350\n",
      "64/64 [==============================] - 17s 265ms/step - loss: 0.2704 - acc: 0.9112 - val_loss: 0.3436 - val_acc: 0.8946 - lr: 5.0000e-04\n",
      "Epoch 184/350\n",
      "64/64 [==============================] - 18s 283ms/step - loss: 0.2734 - acc: 0.9169 - val_loss: 0.3560 - val_acc: 0.9054 - lr: 5.0000e-04\n",
      "Epoch 185/350\n",
      "64/64 [==============================] - 17s 271ms/step - loss: 0.2851 - acc: 0.9109 - val_loss: 0.3427 - val_acc: 0.9108 - lr: 5.0000e-04\n",
      "Epoch 186/350\n",
      "64/64 [==============================] - 18s 280ms/step - loss: 0.3293 - acc: 0.8950 - val_loss: 0.3418 - val_acc: 0.9000 - lr: 5.0000e-04\n",
      "Epoch 187/350\n",
      "64/64 [==============================] - 18s 287ms/step - loss: 0.2942 - acc: 0.9043 - val_loss: 0.3519 - val_acc: 0.8973 - lr: 5.0000e-04\n",
      "Epoch 188/350\n",
      "64/64 [==============================] - 17s 268ms/step - loss: 0.2797 - acc: 0.9139 - val_loss: 0.3320 - val_acc: 0.9054 - lr: 5.0000e-04\n",
      "Epoch 189/350\n",
      "64/64 [==============================] - 18s 283ms/step - loss: 0.2725 - acc: 0.9145 - val_loss: 0.3508 - val_acc: 0.9000 - lr: 5.0000e-04\n",
      "Epoch 190/350\n",
      "64/64 [==============================] - 17s 268ms/step - loss: 0.2883 - acc: 0.9101 - val_loss: 0.3598 - val_acc: 0.8946 - lr: 5.0000e-04\n",
      "Epoch 191/350\n",
      "64/64 [==============================] - 17s 271ms/step - loss: 0.2783 - acc: 0.9098 - val_loss: 0.3505 - val_acc: 0.8919 - lr: 5.0000e-04\n",
      "Epoch 192/350\n",
      "64/64 [==============================] - 17s 268ms/step - loss: 0.2795 - acc: 0.9131 - val_loss: 0.3351 - val_acc: 0.9027 - lr: 5.0000e-04\n",
      "Epoch 193/350\n",
      "64/64 [==============================] - 17s 271ms/step - loss: 0.2630 - acc: 0.9178 - val_loss: 0.4078 - val_acc: 0.8865 - lr: 5.0000e-04\n",
      "Epoch 194/350\n",
      "64/64 [==============================] - 17s 268ms/step - loss: 0.2875 - acc: 0.9084 - val_loss: 0.3650 - val_acc: 0.8946 - lr: 5.0000e-04\n",
      "Epoch 195/350\n",
      "64/64 [==============================] - 17s 268ms/step - loss: 0.2748 - acc: 0.9095 - val_loss: 0.3328 - val_acc: 0.9054 - lr: 5.0000e-04\n",
      "Epoch 196/350\n",
      "64/64 [==============================] - 17s 268ms/step - loss: 0.2635 - acc: 0.9191 - val_loss: 0.3751 - val_acc: 0.8892 - lr: 5.0000e-04\n",
      "Epoch 197/350\n",
      "64/64 [==============================] - 17s 270ms/step - loss: 0.2767 - acc: 0.9104 - val_loss: 0.3434 - val_acc: 0.8973 - lr: 5.0000e-04\n"
     ]
    },
    {
     "name": "stdout",
     "output_type": "stream",
     "text": [
      "Epoch 198/350\n",
      "64/64 [==============================] - 17s 266ms/step - loss: 0.2964 - acc: 0.9046 - val_loss: 0.3517 - val_acc: 0.8919 - lr: 5.0000e-04\n",
      "Epoch 199/350\n",
      "64/64 [==============================] - 17s 267ms/step - loss: 0.2863 - acc: 0.9115 - val_loss: 0.3286 - val_acc: 0.8946 - lr: 5.0000e-04\n",
      "Epoch 200/350\n",
      "64/64 [==============================] - 17s 269ms/step - loss: 0.2903 - acc: 0.9062 - val_loss: 0.3260 - val_acc: 0.9000 - lr: 5.0000e-04\n",
      "Epoch 201/350\n",
      "64/64 [==============================] - 18s 277ms/step - loss: 0.2759 - acc: 0.9087 - val_loss: 0.3640 - val_acc: 0.8919 - lr: 5.0000e-04\n",
      "Epoch 202/350\n",
      "64/64 [==============================] - 17s 269ms/step - loss: 0.2684 - acc: 0.9153 - val_loss: 0.3273 - val_acc: 0.9027 - lr: 5.0000e-04\n",
      "Epoch 203/350\n",
      "64/64 [==============================] - 17s 267ms/step - loss: 0.2664 - acc: 0.9137 - val_loss: 0.3604 - val_acc: 0.9027 - lr: 5.0000e-04\n",
      "Epoch 204/350\n",
      "64/64 [==============================] - 17s 266ms/step - loss: 0.2680 - acc: 0.9147 - val_loss: 0.3584 - val_acc: 0.8892 - lr: 5.0000e-04\n",
      "Epoch 205/350\n",
      "64/64 [==============================] - 17s 266ms/step - loss: 0.2685 - acc: 0.9145 - val_loss: 0.3540 - val_acc: 0.8973 - lr: 5.0000e-04\n",
      "Epoch 206/350\n",
      "64/64 [==============================] - 18s 275ms/step - loss: 0.2661 - acc: 0.9156 - val_loss: 0.3459 - val_acc: 0.8973 - lr: 5.0000e-04\n",
      "Epoch 207/350\n",
      "64/64 [==============================] - 17s 268ms/step - loss: 0.2695 - acc: 0.9156 - val_loss: 0.3693 - val_acc: 0.8784 - lr: 5.0000e-04\n",
      "Epoch 208/350\n",
      "64/64 [==============================] - 18s 283ms/step - loss: 0.2728 - acc: 0.9082 - val_loss: 0.4210 - val_acc: 0.8757 - lr: 5.0000e-04\n",
      "Epoch 209/350\n",
      "64/64 [==============================] - 18s 280ms/step - loss: 0.2639 - acc: 0.9142 - val_loss: 0.3749 - val_acc: 0.8811 - lr: 5.0000e-04\n",
      "Epoch 210/350\n",
      "64/64 [==============================] - 17s 270ms/step - loss: 0.2772 - acc: 0.9115 - val_loss: 0.4096 - val_acc: 0.8811 - lr: 5.0000e-04\n",
      "Epoch 211/350\n",
      "64/64 [==============================] - 17s 270ms/step - loss: 0.2788 - acc: 0.9131 - val_loss: 0.3755 - val_acc: 0.8919 - lr: 5.0000e-04\n",
      "Epoch 212/350\n",
      "64/64 [==============================] - 17s 268ms/step - loss: 0.2828 - acc: 0.9137 - val_loss: 0.3715 - val_acc: 0.8730 - lr: 5.0000e-04\n",
      "Epoch 213/350\n",
      "64/64 [==============================] - 18s 288ms/step - loss: 0.3136 - acc: 0.8975 - val_loss: 0.3901 - val_acc: 0.8622 - lr: 5.0000e-04\n",
      "Epoch 214/350\n",
      "64/64 [==============================] - 18s 279ms/step - loss: 0.3215 - acc: 0.8942 - val_loss: 0.3686 - val_acc: 0.8757 - lr: 5.0000e-04\n",
      "Epoch 215/350\n",
      "64/64 [==============================] - 17s 268ms/step - loss: 0.2785 - acc: 0.9098 - val_loss: 0.3409 - val_acc: 0.8784 - lr: 5.0000e-04\n",
      "Epoch 216/350\n",
      "64/64 [==============================] - 17s 268ms/step - loss: 0.2662 - acc: 0.9169 - val_loss: 0.3783 - val_acc: 0.8649 - lr: 5.0000e-04\n",
      "Epoch 217/350\n",
      "64/64 [==============================] - 17s 270ms/step - loss: 0.2905 - acc: 0.9073 - val_loss: 0.3546 - val_acc: 0.8811 - lr: 5.0000e-04\n",
      "Epoch 218/350\n",
      "64/64 [==============================] - 19s 292ms/step - loss: 0.2618 - acc: 0.9191 - val_loss: 0.3610 - val_acc: 0.8892 - lr: 5.0000e-04\n",
      "Epoch 219/350\n",
      "64/64 [==============================] - 18s 273ms/step - loss: 0.2846 - acc: 0.9115 - val_loss: 0.3689 - val_acc: 0.8730 - lr: 5.0000e-04\n",
      "Epoch 220/350\n",
      "64/64 [==============================] - 17s 269ms/step - loss: 0.2677 - acc: 0.9153 - val_loss: 0.3748 - val_acc: 0.8757 - lr: 5.0000e-04\n",
      "Epoch 221/350\n",
      "64/64 [==============================] - 18s 281ms/step - loss: 0.2785 - acc: 0.9134 - val_loss: 0.3502 - val_acc: 0.8784 - lr: 5.0000e-04\n",
      "Epoch 222/350\n",
      "64/64 [==============================] - 18s 273ms/step - loss: 0.2588 - acc: 0.9208 - val_loss: 0.3613 - val_acc: 0.8838 - lr: 5.0000e-04\n",
      "Epoch 223/350\n",
      "64/64 [==============================] - 18s 276ms/step - loss: 0.2528 - acc: 0.9161 - val_loss: 0.3272 - val_acc: 0.8946 - lr: 5.0000e-04\n",
      "Epoch 224/350\n",
      "64/64 [==============================] - 18s 287ms/step - loss: 0.2669 - acc: 0.9142 - val_loss: 0.3390 - val_acc: 0.8865 - lr: 5.0000e-04\n",
      "Epoch 225/350\n",
      "64/64 [==============================] - 19s 300ms/step - loss: 0.2616 - acc: 0.9164 - val_loss: 0.3527 - val_acc: 0.8919 - lr: 5.0000e-04\n",
      "Epoch 226/350\n",
      "64/64 [==============================] - 17s 271ms/step - loss: 0.2862 - acc: 0.9167 - val_loss: 0.5890 - val_acc: 0.8189 - lr: 5.0000e-04\n",
      "Epoch 227/350\n",
      "64/64 [==============================] - 17s 271ms/step - loss: 0.4606 - acc: 0.8547 - val_loss: 0.4315 - val_acc: 0.8838 - lr: 5.0000e-04\n",
      "Epoch 228/350\n",
      "64/64 [==============================] - 17s 269ms/step - loss: 0.2836 - acc: 0.9158 - val_loss: 0.3517 - val_acc: 0.8946 - lr: 5.0000e-04\n",
      "Epoch 229/350\n",
      "64/64 [==============================] - 17s 271ms/step - loss: 0.2661 - acc: 0.9153 - val_loss: 0.3683 - val_acc: 0.8892 - lr: 5.0000e-04\n",
      "Epoch 230/350\n",
      "64/64 [==============================] - 18s 274ms/step - loss: 0.2531 - acc: 0.9202 - val_loss: 0.3301 - val_acc: 0.8892 - lr: 5.0000e-04\n",
      "Epoch 231/350\n",
      "64/64 [==============================] - 17s 271ms/step - loss: 0.2586 - acc: 0.9189 - val_loss: 0.3600 - val_acc: 0.8811 - lr: 5.0000e-04\n",
      "Epoch 232/350\n",
      "64/64 [==============================] - 17s 271ms/step - loss: 0.2824 - acc: 0.9142 - val_loss: 0.3797 - val_acc: 0.8784 - lr: 5.0000e-04\n",
      "Epoch 233/350\n",
      "64/64 [==============================] - 17s 271ms/step - loss: 0.2857 - acc: 0.9115 - val_loss: 0.3440 - val_acc: 0.8811 - lr: 5.0000e-04\n",
      "Epoch 234/350\n",
      "64/64 [==============================] - 17s 272ms/step - loss: 0.2585 - acc: 0.9254 - val_loss: 0.3252 - val_acc: 0.8892 - lr: 5.0000e-04\n",
      "Epoch 235/350\n",
      "64/64 [==============================] - 17s 269ms/step - loss: 0.2791 - acc: 0.9147 - val_loss: 0.4505 - val_acc: 0.8568 - lr: 5.0000e-04\n",
      "Epoch 236/350\n",
      "64/64 [==============================] - 18s 288ms/step - loss: 0.3219 - acc: 0.9024 - val_loss: 0.3374 - val_acc: 0.8865 - lr: 5.0000e-04\n",
      "Epoch 237/350\n",
      "64/64 [==============================] - 18s 289ms/step - loss: 0.6155 - acc: 0.8114 - val_loss: 0.9579 - val_acc: 0.6270 - lr: 5.0000e-04\n",
      "Epoch 238/350\n",
      "64/64 [==============================] - 18s 283ms/step - loss: 0.6707 - acc: 0.7667 - val_loss: 0.6659 - val_acc: 0.7676 - lr: 5.0000e-04\n",
      "Epoch 239/350\n",
      "64/64 [==============================] - 19s 296ms/step - loss: 0.5529 - acc: 0.8065 - val_loss: 0.6009 - val_acc: 0.7811 - lr: 5.0000e-04\n",
      "Epoch 240/350\n",
      "64/64 [==============================] - 20s 318ms/step - loss: 0.4551 - acc: 0.8561 - val_loss: 0.4154 - val_acc: 0.8541 - lr: 5.0000e-04\n",
      "Epoch 241/350\n",
      "64/64 [==============================] - 19s 295ms/step - loss: 0.3561 - acc: 0.8829 - val_loss: 0.4711 - val_acc: 0.8405 - lr: 5.0000e-04\n",
      "Epoch 242/350\n",
      "64/64 [==============================] - 21s 324ms/step - loss: 0.4776 - acc: 0.8424 - val_loss: 0.6121 - val_acc: 0.8189 - lr: 5.0000e-04\n",
      "Epoch 243/350\n",
      "64/64 [==============================] - 18s 276ms/step - loss: 0.5154 - acc: 0.8385 - val_loss: 0.5395 - val_acc: 0.8297 - lr: 5.0000e-04\n",
      "Epoch 244/350\n",
      "64/64 [==============================] - 19s 295ms/step - loss: 0.4200 - acc: 0.8610 - val_loss: 0.3978 - val_acc: 0.8649 - lr: 5.0000e-04\n",
      "Epoch 245/350\n",
      "64/64 [==============================] - 18s 288ms/step - loss: 0.3283 - acc: 0.8983 - val_loss: 0.3880 - val_acc: 0.8595 - lr: 5.0000e-04\n",
      "Epoch 246/350\n",
      "64/64 [==============================] - 19s 291ms/step - loss: 0.3881 - acc: 0.8671 - val_loss: 0.5536 - val_acc: 0.7811 - lr: 5.0000e-04\n",
      "Epoch 247/350\n",
      "64/64 [==============================] - 18s 283ms/step - loss: 0.5386 - acc: 0.8292 - val_loss: 0.6406 - val_acc: 0.7865 - lr: 5.0000e-04\n",
      "Epoch 248/350\n",
      "64/64 [==============================] - 19s 295ms/step - loss: 0.4778 - acc: 0.8413 - val_loss: 0.5085 - val_acc: 0.8189 - lr: 5.0000e-04\n",
      "Epoch 249/350\n",
      "64/64 [==============================] - 19s 301ms/step - loss: 0.4575 - acc: 0.8632 - val_loss: 0.5895 - val_acc: 0.8189 - lr: 5.0000e-04\n",
      "Epoch 250/350\n",
      "64/64 [==============================] - 18s 287ms/step - loss: 0.4828 - acc: 0.8514 - val_loss: 0.4365 - val_acc: 0.8405 - lr: 5.0000e-04\n",
      "Epoch 251/350\n",
      "64/64 [==============================] - 18s 280ms/step - loss: 0.3938 - acc: 0.8764 - val_loss: 0.4511 - val_acc: 0.8351 - lr: 5.0000e-04\n",
      "Epoch 252/350\n",
      "64/64 [==============================] - 19s 296ms/step - loss: 0.4740 - acc: 0.8572 - val_loss: 0.5222 - val_acc: 0.8162 - lr: 5.0000e-04\n",
      "Epoch 253/350\n",
      "64/64 [==============================] - 18s 287ms/step - loss: 0.4346 - acc: 0.8613 - val_loss: 0.6020 - val_acc: 0.7865 - lr: 5.0000e-04\n",
      "Epoch 254/350\n",
      "64/64 [==============================] - 19s 300ms/step - loss: 0.6033 - acc: 0.8130 - val_loss: 1.6936 - val_acc: 0.5865 - lr: 5.0000e-04\n",
      "Epoch 255/350\n",
      "64/64 [==============================] - 20s 307ms/step - loss: 0.8813 - acc: 0.6913 - val_loss: 0.7501 - val_acc: 0.7351 - lr: 5.0000e-04\n",
      "Epoch 256/350\n",
      "64/64 [==============================] - 19s 302ms/step - loss: 0.6071 - acc: 0.8037 - val_loss: 0.5368 - val_acc: 0.8189 - lr: 5.0000e-04\n",
      "Epoch 257/350\n",
      "64/64 [==============================] - 25s 391ms/step - loss: 0.4793 - acc: 0.8501 - val_loss: 0.5317 - val_acc: 0.8243 - lr: 5.0000e-04\n",
      "Epoch 258/350\n",
      "64/64 [==============================] - 25s 384ms/step - loss: 0.4636 - acc: 0.8547 - val_loss: 0.4725 - val_acc: 0.8378 - lr: 5.0000e-04\n",
      "Epoch 259/350\n",
      "64/64 [==============================] - 22s 341ms/step - loss: 0.4255 - acc: 0.8734 - val_loss: 0.4693 - val_acc: 0.8405 - lr: 5.0000e-04\n",
      "Epoch 260/350\n",
      "64/64 [==============================] - 19s 290ms/step - loss: 0.4057 - acc: 0.8745 - val_loss: 0.4293 - val_acc: 0.8459 - lr: 5.0000e-04\n",
      "Epoch 261/350\n",
      "64/64 [==============================] - 23s 359ms/step - loss: 0.3858 - acc: 0.8808 - val_loss: 0.4317 - val_acc: 0.8486 - lr: 5.0000e-04\n",
      "Epoch 262/350\n",
      "64/64 [==============================] - 21s 322ms/step - loss: 0.3910 - acc: 0.8788 - val_loss: 1.5068 - val_acc: 0.5459 - lr: 5.0000e-04\n",
      "Epoch 263/350\n",
      "64/64 [==============================] - 24s 368ms/step - loss: 1.1198 - acc: 0.6255 - val_loss: 0.9078 - val_acc: 0.7000 - lr: 5.0000e-04\n",
      "Epoch 264/350\n",
      "64/64 [==============================] - 25s 386ms/step - loss: 0.8237 - acc: 0.7251 - val_loss: 0.9266 - val_acc: 0.6865 - lr: 5.0000e-04\n",
      "Epoch 265/350\n",
      "64/64 [==============================] - 22s 350ms/step - loss: 0.7349 - acc: 0.7582 - val_loss: 0.7316 - val_acc: 0.7405 - lr: 5.0000e-04\n",
      "Epoch 266/350\n",
      "64/64 [==============================] - 19s 289ms/step - loss: 0.6413 - acc: 0.7804 - val_loss: 0.6888 - val_acc: 0.7649 - lr: 5.0000e-04\n",
      "Epoch 267/350\n",
      "64/64 [==============================] - 18s 286ms/step - loss: 0.6326 - acc: 0.7856 - val_loss: 0.6912 - val_acc: 0.7568 - lr: 5.0000e-04\n",
      "Epoch 268/350\n",
      "64/64 [==============================] - 17s 270ms/step - loss: 0.5740 - acc: 0.8098 - val_loss: 0.5615 - val_acc: 0.8081 - lr: 5.0000e-04\n",
      "Epoch 269/350\n",
      "64/64 [==============================] - 17s 269ms/step - loss: 0.5555 - acc: 0.8185 - val_loss: 0.5846 - val_acc: 0.8162 - lr: 5.0000e-04\n",
      "Epoch 270/350\n",
      "64/64 [==============================] - 17s 269ms/step - loss: 0.5026 - acc: 0.8457 - val_loss: 0.5504 - val_acc: 0.8324 - lr: 5.0000e-04\n",
      "Epoch 271/350\n",
      "64/64 [==============================] - 17s 274ms/step - loss: 0.4685 - acc: 0.8506 - val_loss: 0.5159 - val_acc: 0.8324 - lr: 5.0000e-04\n",
      "Epoch 272/350\n",
      "64/64 [==============================] - 17s 269ms/step - loss: 0.4557 - acc: 0.8558 - val_loss: 0.4546 - val_acc: 0.8324 - lr: 5.0000e-04\n",
      "Epoch 273/350\n",
      "64/64 [==============================] - 17s 269ms/step - loss: 0.4089 - acc: 0.8728 - val_loss: 0.4293 - val_acc: 0.8541 - lr: 5.0000e-04\n",
      "Epoch 274/350\n",
      "64/64 [==============================] - 19s 290ms/step - loss: 0.3939 - acc: 0.8745 - val_loss: 0.4582 - val_acc: 0.8541 - lr: 5.0000e-04\n",
      "Epoch 275/350\n",
      "64/64 [==============================] - 19s 293ms/step - loss: 0.3887 - acc: 0.8766 - val_loss: 0.4211 - val_acc: 0.8459 - lr: 5.0000e-04\n",
      "Epoch 276/350\n",
      "64/64 [==============================] - 19s 305ms/step - loss: 0.3872 - acc: 0.8758 - val_loss: 0.4532 - val_acc: 0.8703 - lr: 5.0000e-04\n",
      "Epoch 277/350\n",
      "64/64 [==============================] - 23s 351ms/step - loss: 0.4778 - acc: 0.8468 - val_loss: 0.5104 - val_acc: 0.8270 - lr: 5.0000e-04\n",
      "Epoch 278/350\n",
      "64/64 [==============================] - 20s 315ms/step - loss: 0.4276 - acc: 0.8566 - val_loss: 0.4766 - val_acc: 0.8378 - lr: 5.0000e-04\n",
      "Epoch 279/350\n",
      "64/64 [==============================] - 20s 313ms/step - loss: 0.4304 - acc: 0.8591 - val_loss: 0.5217 - val_acc: 0.8189 - lr: 5.0000e-04\n",
      "Epoch 280/350\n",
      "64/64 [==============================] - 20s 311ms/step - loss: 0.4150 - acc: 0.8635 - val_loss: 0.5046 - val_acc: 0.8324 - lr: 5.0000e-04\n",
      "Epoch 281/350\n",
      "64/64 [==============================] - 19s 298ms/step - loss: 0.4250 - acc: 0.8583 - val_loss: 0.5145 - val_acc: 0.8216 - lr: 5.0000e-04\n",
      "Epoch 282/350\n",
      "64/64 [==============================] - 18s 286ms/step - loss: 0.4246 - acc: 0.8583 - val_loss: 0.4567 - val_acc: 0.8432 - lr: 5.0000e-04\n",
      "Epoch 283/350\n",
      "64/64 [==============================] - 18s 279ms/step - loss: 0.4490 - acc: 0.8536 - val_loss: 0.5208 - val_acc: 0.8108 - lr: 5.0000e-04\n",
      "Epoch 284/350\n",
      "64/64 [==============================] - 19s 301ms/step - loss: 0.3850 - acc: 0.8695 - val_loss: 0.4441 - val_acc: 0.8486 - lr: 5.0000e-04\n",
      "Epoch 285/350\n",
      "64/64 [==============================] - 20s 310ms/step - loss: 0.3630 - acc: 0.8794 - val_loss: 0.4128 - val_acc: 0.8595 - lr: 5.0000e-04\n",
      "Epoch 286/350\n",
      "64/64 [==============================] - 19s 303ms/step - loss: 0.3603 - acc: 0.8761 - val_loss: 0.4201 - val_acc: 0.8541 - lr: 5.0000e-04\n",
      "Epoch 287/350\n",
      "64/64 [==============================] - 18s 281ms/step - loss: 0.3372 - acc: 0.8904 - val_loss: 0.3741 - val_acc: 0.8730 - lr: 5.0000e-04\n",
      "Epoch 288/350\n",
      "64/64 [==============================] - 19s 290ms/step - loss: 0.3683 - acc: 0.8835 - val_loss: 0.4993 - val_acc: 0.8351 - lr: 5.0000e-04\n",
      "Epoch 289/350\n",
      "64/64 [==============================] - 20s 306ms/step - loss: 0.4009 - acc: 0.8692 - val_loss: 0.4637 - val_acc: 0.8297 - lr: 5.0000e-04\n",
      "Epoch 290/350\n",
      "64/64 [==============================] - 20s 309ms/step - loss: 0.3984 - acc: 0.8671 - val_loss: 0.4878 - val_acc: 0.8351 - lr: 5.0000e-04\n",
      "Epoch 291/350\n",
      "64/64 [==============================] - 20s 312ms/step - loss: 0.4010 - acc: 0.8673 - val_loss: 0.4336 - val_acc: 0.8486 - lr: 5.0000e-04\n",
      "Epoch 292/350\n",
      "64/64 [==============================] - 19s 301ms/step - loss: 0.3735 - acc: 0.8731 - val_loss: 0.4745 - val_acc: 0.8405 - lr: 5.0000e-04\n",
      "Epoch 293/350\n",
      "64/64 [==============================] - 17s 272ms/step - loss: 0.3858 - acc: 0.8701 - val_loss: 0.4918 - val_acc: 0.8324 - lr: 5.0000e-04\n",
      "Epoch 294/350\n",
      "64/64 [==============================] - 17s 266ms/step - loss: 0.4409 - acc: 0.8539 - val_loss: 0.4642 - val_acc: 0.8351 - lr: 5.0000e-04\n",
      "Epoch 295/350\n",
      "64/64 [==============================] - 18s 281ms/step - loss: 0.4205 - acc: 0.8621 - val_loss: 0.4329 - val_acc: 0.8541 - lr: 5.0000e-04\n",
      "Epoch 296/350\n",
      "64/64 [==============================] - 19s 298ms/step - loss: 0.4560 - acc: 0.8501 - val_loss: 0.4912 - val_acc: 0.8270 - lr: 5.0000e-04\n",
      "Epoch 297/350\n",
      "64/64 [==============================] - 22s 348ms/step - loss: 0.4230 - acc: 0.8616 - val_loss: 0.4972 - val_acc: 0.8189 - lr: 5.0000e-04\n",
      "Epoch 298/350\n",
      "64/64 [==============================] - 22s 349ms/step - loss: 0.4526 - acc: 0.8564 - val_loss: 0.4942 - val_acc: 0.8324 - lr: 5.0000e-04\n",
      "Epoch 299/350\n",
      "64/64 [==============================] - 19s 293ms/step - loss: 0.5543 - acc: 0.8218 - val_loss: 0.5997 - val_acc: 0.8108 - lr: 5.0000e-04\n",
      "Epoch 300/350\n",
      "64/64 [==============================] - 19s 291ms/step - loss: 0.4491 - acc: 0.8465 - val_loss: 0.4549 - val_acc: 0.8459 - lr: 5.0000e-04\n",
      "Epoch 301/350\n",
      "64/64 [==============================] - 19s 297ms/step - loss: 0.4026 - acc: 0.8640 - val_loss: 0.4378 - val_acc: 0.8568 - lr: 5.0000e-04\n",
      "Epoch 302/350\n",
      "64/64 [==============================] - 20s 313ms/step - loss: 0.4148 - acc: 0.8591 - val_loss: 0.5138 - val_acc: 0.8459 - lr: 5.0000e-04\n",
      "Epoch 303/350\n",
      "64/64 [==============================] - 19s 292ms/step - loss: 0.4645 - acc: 0.8446 - val_loss: 0.4662 - val_acc: 0.8405 - lr: 5.0000e-04\n",
      "Epoch 304/350\n",
      "64/64 [==============================] - 19s 303ms/step - loss: 0.3876 - acc: 0.8725 - val_loss: 0.4612 - val_acc: 0.8297 - lr: 5.0000e-04\n"
     ]
    },
    {
     "name": "stdout",
     "output_type": "stream",
     "text": [
      "Epoch 305/350\n",
      "64/64 [==============================] - 21s 335ms/step - loss: 0.3997 - acc: 0.8676 - val_loss: 0.4700 - val_acc: 0.8405 - lr: 5.0000e-04\n",
      "Epoch 306/350\n",
      "64/64 [==============================] - 21s 324ms/step - loss: 0.3766 - acc: 0.8766 - val_loss: 0.4234 - val_acc: 0.8486 - lr: 5.0000e-04\n",
      "Epoch 307/350\n",
      "64/64 [==============================] - 19s 302ms/step - loss: 0.3936 - acc: 0.8687 - val_loss: 0.4550 - val_acc: 0.8378 - lr: 5.0000e-04\n",
      "Epoch 308/350\n",
      "64/64 [==============================] - 19s 294ms/step - loss: 0.3586 - acc: 0.8794 - val_loss: 0.4200 - val_acc: 0.8595 - lr: 5.0000e-04\n",
      "Epoch 309/350\n",
      "64/64 [==============================] - 19s 300ms/step - loss: 0.3523 - acc: 0.8871 - val_loss: 0.4572 - val_acc: 0.8676 - lr: 5.0000e-04\n",
      "Epoch 310/350\n",
      "64/64 [==============================] - 19s 302ms/step - loss: 0.3789 - acc: 0.8717 - val_loss: 0.4678 - val_acc: 0.8622 - lr: 5.0000e-04\n",
      "Epoch 311/350\n",
      "64/64 [==============================] - 19s 302ms/step - loss: 0.3565 - acc: 0.8816 - val_loss: 0.3885 - val_acc: 0.8676 - lr: 5.0000e-04\n",
      "Epoch 312/350\n",
      "64/64 [==============================] - 19s 299ms/step - loss: 0.3351 - acc: 0.8865 - val_loss: 0.3891 - val_acc: 0.8622 - lr: 5.0000e-04\n",
      "Epoch 313/350\n",
      "64/64 [==============================] - 19s 300ms/step - loss: 0.3346 - acc: 0.8917 - val_loss: 0.3846 - val_acc: 0.8784 - lr: 5.0000e-04\n",
      "Epoch 314/350\n",
      "64/64 [==============================] - 20s 314ms/step - loss: 0.3326 - acc: 0.8882 - val_loss: 0.3706 - val_acc: 0.8838 - lr: 5.0000e-04\n",
      "Epoch 315/350\n",
      "64/64 [==============================] - 18s 286ms/step - loss: 0.3494 - acc: 0.8797 - val_loss: 0.4412 - val_acc: 0.8757 - lr: 5.0000e-04\n",
      "Epoch 316/350\n",
      "64/64 [==============================] - 19s 290ms/step - loss: 0.3427 - acc: 0.8893 - val_loss: 0.4094 - val_acc: 0.8703 - lr: 5.0000e-04\n",
      "Epoch 317/350\n",
      "64/64 [==============================] - 19s 293ms/step - loss: 0.3321 - acc: 0.8857 - val_loss: 0.4124 - val_acc: 0.8784 - lr: 5.0000e-04\n",
      "Epoch 318/350\n",
      "64/64 [==============================] - 22s 348ms/step - loss: 0.3325 - acc: 0.8901 - val_loss: 0.4019 - val_acc: 0.8865 - lr: 5.0000e-04\n",
      "Epoch 319/350\n",
      "64/64 [==============================] - 22s 345ms/step - loss: 0.3396 - acc: 0.8832 - val_loss: 0.4068 - val_acc: 0.8730 - lr: 5.0000e-04\n",
      "Epoch 320/350\n",
      "64/64 [==============================] - 20s 312ms/step - loss: 0.3419 - acc: 0.8824 - val_loss: 0.4141 - val_acc: 0.8784 - lr: 5.0000e-04\n",
      "Epoch 321/350\n",
      "64/64 [==============================] - 21s 328ms/step - loss: 0.3522 - acc: 0.8846 - val_loss: 0.4856 - val_acc: 0.8432 - lr: 5.0000e-04\n",
      "Epoch 322/350\n",
      "64/64 [==============================] - 21s 323ms/step - loss: 0.3419 - acc: 0.8912 - val_loss: 0.3960 - val_acc: 0.8676 - lr: 5.0000e-04\n",
      "Epoch 323/350\n",
      "64/64 [==============================] - 19s 300ms/step - loss: 0.3229 - acc: 0.8961 - val_loss: 0.3737 - val_acc: 0.8811 - lr: 5.0000e-04\n",
      "Epoch 324/350\n",
      "64/64 [==============================] - 19s 298ms/step - loss: 0.3285 - acc: 0.8964 - val_loss: 0.4208 - val_acc: 0.8784 - lr: 5.0000e-04\n",
      "Epoch 325/350\n",
      "64/64 [==============================] - 19s 295ms/step - loss: 0.3130 - acc: 0.8961 - val_loss: 0.3888 - val_acc: 0.8946 - lr: 5.0000e-04\n",
      "Epoch 326/350\n",
      "64/64 [==============================] - 18s 281ms/step - loss: 0.3162 - acc: 0.8942 - val_loss: 0.3809 - val_acc: 0.8757 - lr: 5.0000e-04\n",
      "Epoch 327/350\n",
      "64/64 [==============================] - 19s 293ms/step - loss: 0.3208 - acc: 0.8936 - val_loss: 0.3872 - val_acc: 0.8838 - lr: 5.0000e-04\n",
      "Epoch 328/350\n",
      "64/64 [==============================] - 18s 284ms/step - loss: 0.3223 - acc: 0.8964 - val_loss: 0.4003 - val_acc: 0.8595 - lr: 5.0000e-04\n",
      "Epoch 329/350\n",
      "64/64 [==============================] - 19s 300ms/step - loss: 0.3437 - acc: 0.8914 - val_loss: 0.3929 - val_acc: 0.8784 - lr: 5.0000e-04\n",
      "Epoch 330/350\n",
      "64/64 [==============================] - 18s 283ms/step - loss: 0.3148 - acc: 0.8983 - val_loss: 0.3929 - val_acc: 0.8838 - lr: 5.0000e-04\n",
      "Epoch 331/350\n",
      "64/64 [==============================] - 18s 282ms/step - loss: 0.2985 - acc: 0.8991 - val_loss: 0.4153 - val_acc: 0.8730 - lr: 5.0000e-04\n",
      "Epoch 332/350\n",
      "64/64 [==============================] - 18s 284ms/step - loss: 0.3294 - acc: 0.8898 - val_loss: 0.4587 - val_acc: 0.8649 - lr: 5.0000e-04\n",
      "Epoch 333/350\n",
      "64/64 [==============================] - 21s 330ms/step - loss: 0.3966 - acc: 0.8797 - val_loss: 0.4208 - val_acc: 0.8730 - lr: 5.0000e-04\n",
      "Epoch 334/350\n",
      "64/64 [==============================] - 20s 307ms/step - loss: 0.3550 - acc: 0.8860 - val_loss: 0.3870 - val_acc: 0.8757 - lr: 5.0000e-04\n",
      "Epoch 335/350\n",
      "64/64 [==============================] - 17s 273ms/step - loss: 0.4473 - acc: 0.8503 - val_loss: 0.6649 - val_acc: 0.7676 - lr: 5.0000e-04\n",
      "Epoch 336/350\n",
      "64/64 [==============================] - 18s 278ms/step - loss: 0.4363 - acc: 0.8553 - val_loss: 0.4379 - val_acc: 0.8405 - lr: 5.0000e-04\n",
      "Epoch 337/350\n",
      "64/64 [==============================] - 18s 277ms/step - loss: 0.3664 - acc: 0.8810 - val_loss: 0.3824 - val_acc: 0.8676 - lr: 5.0000e-04\n",
      "Epoch 338/350\n",
      "64/64 [==============================] - 18s 276ms/step - loss: 0.3586 - acc: 0.8862 - val_loss: 0.3669 - val_acc: 0.8784 - lr: 5.0000e-04\n",
      "Epoch 339/350\n",
      "64/64 [==============================] - 18s 275ms/step - loss: 0.3534 - acc: 0.8832 - val_loss: 0.3867 - val_acc: 0.8757 - lr: 5.0000e-04\n",
      "Epoch 340/350\n",
      "64/64 [==============================] - 18s 278ms/step - loss: 0.3425 - acc: 0.8917 - val_loss: 0.3865 - val_acc: 0.8838 - lr: 5.0000e-04\n",
      "Epoch 341/350\n",
      "64/64 [==============================] - 18s 276ms/step - loss: 0.3247 - acc: 0.8978 - val_loss: 0.4137 - val_acc: 0.8622 - lr: 5.0000e-04\n",
      "Epoch 342/350\n",
      "64/64 [==============================] - 18s 274ms/step - loss: 0.3232 - acc: 0.8961 - val_loss: 0.3887 - val_acc: 0.8730 - lr: 5.0000e-04\n",
      "Epoch 343/350\n",
      "64/64 [==============================] - 18s 276ms/step - loss: 0.3588 - acc: 0.8860 - val_loss: 0.4483 - val_acc: 0.8459 - lr: 5.0000e-04\n",
      "Epoch 344/350\n",
      "64/64 [==============================] - 18s 275ms/step - loss: 0.3433 - acc: 0.8887 - val_loss: 0.3979 - val_acc: 0.8784 - lr: 5.0000e-04\n",
      "Epoch 345/350\n",
      "64/64 [==============================] - 18s 279ms/step - loss: 0.4150 - acc: 0.8660 - val_loss: 0.4718 - val_acc: 0.8459 - lr: 5.0000e-04\n",
      "Epoch 346/350\n",
      "64/64 [==============================] - 18s 277ms/step - loss: 0.3793 - acc: 0.8747 - val_loss: 0.4245 - val_acc: 0.8649 - lr: 5.0000e-04\n",
      "Epoch 347/350\n",
      "64/64 [==============================] - 18s 279ms/step - loss: 0.3606 - acc: 0.8871 - val_loss: 0.5350 - val_acc: 0.8297 - lr: 5.0000e-04\n",
      "Epoch 348/350\n",
      "64/64 [==============================] - 18s 275ms/step - loss: 0.4076 - acc: 0.8638 - val_loss: 0.4403 - val_acc: 0.8811 - lr: 5.0000e-04\n",
      "Epoch 349/350\n",
      "64/64 [==============================] - 18s 287ms/step - loss: 0.3388 - acc: 0.8931 - val_loss: 0.4960 - val_acc: 0.8486 - lr: 5.0000e-04\n",
      "Epoch 350/350\n",
      "64/64 [==============================] - ETA: 0s - loss: 0.3417 - acc: 0.8893Restoring model weights from the end of the best epoch: 185.\n",
      "64/64 [==============================] - 18s 282ms/step - loss: 0.3417 - acc: 0.8893 - val_loss: 0.4553 - val_acc: 0.8595 - lr: 5.0000e-04\n",
      "Epoch 350: early stopping\n"
     ]
    }
   ],
   "source": [
    "hist = model.fit(\n",
    "    X_train, Y_train, validation_data=(X_val, Y_val), batch_size=batch_size, epochs=350,callbacks=[es,mc,rlr,csvlogger]\n",
    ")"
   ]
  },
  {
   "cell_type": "markdown",
   "id": "41426e6e",
   "metadata": {},
   "source": [
    "### test 데이터에 대한 정확도 측정"
   ]
  },
  {
   "cell_type": "code",
   "execution_count": 34,
   "id": "7b2f0f38",
   "metadata": {},
   "outputs": [
    {
     "name": "stdout",
     "output_type": "stream",
     "text": [
      "6/6 [==============================] - 1s 81ms/step - loss: 0.3125 - acc: 0.9167\n",
      "loss : 0.3125\n",
      "6/6 [==============================] - 1s 85ms/step - loss: 0.3125 - acc: 0.9167\n",
      "정확도 : 0.9167\n"
     ]
    }
   ],
   "source": [
    "print(\"loss : %.4f\" % (model.evaluate(X_test,Y_test)[0]))\n",
    "print(\"정확도 : %.4f\" % (model.evaluate(X_test,Y_test)[1]))"
   ]
  },
  {
   "cell_type": "markdown",
   "id": "abb55d78",
   "metadata": {},
   "source": [
    "### model 정확도, loss 측정치 및 실제 테스트 값 확인"
   ]
  },
  {
   "cell_type": "code",
   "execution_count": 35,
   "id": "c029e78d",
   "metadata": {},
   "outputs": [
    {
     "data": {
      "image/png": "[encoded data removed]",
      "text/plain": [
       "<Figure size 432x288 with 1 Axes>"
      ]
     },
     "metadata": {
      "needs_background": "light"
     },
     "output_type": "display_data"
    }
   ],
   "source": [
    "y_vloss = hist.history['val_loss']\n",
    "y_loss = hist.history['loss']\n",
    "\n",
    "x_len = np.arange(len(y_loss))\n",
    "\n",
    "plt.plot(x_len,y_vloss,c='red',label='val_set_loss')\n",
    "plt.plot(x_len,y_loss,c='blue',label='train_set_loss')\n",
    "plt.legend()\n",
    "plt.xlabel('epochs')\n",
    "plt.ylabel('loss')\n",
    "plt.grid()\n",
    "plt.show()"
   ]
  },
  {
   "cell_type": "code",
   "execution_count": 36,
   "id": "e33b7027",
   "metadata": {
    "scrolled": true
   },
   "outputs": [
    {
     "data": {
      "image/png": "[encoded data removed]",
      "text/plain": [
       "<Figure size 432x288 with 1 Axes>"
      ]
     },
     "metadata": {
      "needs_background": "light"
     },
     "output_type": "display_data"
    }
   ],
   "source": [
    "y_vacc = hist.history['val_acc']\n",
    "y_acc = hist.history['acc']\n",
    "\n",
    "x_len = np.arange(len(y_acc))\n",
    "\n",
    "plt.plot(x_len,y_vacc,c='red',label='val_set_acc')\n",
    "plt.plot(x_len,y_acc,c='blue',label='train_set_acc')\n",
    "plt.legend()\n",
    "plt.xlabel('epochs')\n",
    "plt.ylabel('acc')\n",
    "plt.grid()\n",
    "plt.show()"
   ]
  },
  {
   "cell_type": "code",
   "execution_count": 38,
   "id": "20024beb",
   "metadata": {},
   "outputs": [
    {
     "name": "stdout",
     "output_type": "stream",
     "text": [
      "Predicted result is: [7], target result is: 7\n"
     ]
    }
   ],
   "source": [
    "result = tf.argmax(model.predict_on_batch(tf.expand_dims(X_test[17], 0)), axis=1)\n",
    "\n",
    "print(\n",
    "        \"Predicted result is: %s, target result is: %s\" % (result.numpy(), Y_test[17])\n",
    "    )"
   ]
  },
  {
   "cell_type": "markdown",
   "id": "55388fc3",
   "metadata": {},
   "source": [
    "### 저장한 모델을 가져와서 테스트 데이터에 대한 예측 실행"
   ]
  },
  {
   "cell_type": "code",
   "execution_count": 3,
   "id": "2f413f58",
   "metadata": {},
   "outputs": [],
   "source": [
    "demo = pd.read_csv('test_no.csv',header=None)"
   ]
  },
  {
   "cell_type": "code",
   "execution_count": 4,
   "id": "9128bc91",
   "metadata": {},
   "outputs": [],
   "source": [
    "demo_np = demo.to_numpy()"
   ]
  },
  {
   "cell_type": "code",
   "execution_count": 5,
   "id": "01dc2bc7",
   "metadata": {},
   "outputs": [],
   "source": [
    "\n",
    "def make_sequence_dataset2(feature):\n",
    "    \n",
    "    feature_list = []\n",
    "    \n",
    "    for i in range(len(feature)):\n",
    "        \n",
    "        feature_list.append(feature[i])\n",
    "        \n",
    "    return np.array(feature_list)\n",
    "    "
   ]
  },
  {
   "cell_type": "code",
   "execution_count": 6,
   "id": "bcd1feae",
   "metadata": {},
   "outputs": [
    {
     "name": "stdout",
     "output_type": "stream",
     "text": [
      "(360, 500)\n"
     ]
    }
   ],
   "source": [
    "X_demo = make_sequence_dataset2(demo_np)\n",
    "print(X_demo.shape)\n",
    "X_demo = X_demo.reshape(360,500,1)"
   ]
  },
  {
   "cell_type": "code",
   "execution_count": 7,
   "id": "06f12e8e",
   "metadata": {},
   "outputs": [
    {
     "name": "stdout",
     "output_type": "stream",
     "text": [
      "Using 360 samples for show\n"
     ]
    }
   ],
   "source": [
    "\n",
    "print(\n",
    "\"Using %d samples for show\"\n",
    "% (len(X_demo))\n",
    ")\n"
   ]
  },
  {
   "cell_type": "code",
   "execution_count": 8,
   "id": "b77b22b4",
   "metadata": {},
   "outputs": [
    {
     "name": "stdout",
     "output_type": "stream",
     "text": [
      "Predicted result is: [2]\n"
     ]
    }
   ],
   "source": [
    "\n",
    "model2 = tf.keras.models.load_model('./check.h5')\n",
    "\n",
    "#or result[0].numpy() / result.numpy()[0]\n",
    "result = tf.argmax(model2.predict_on_batch(tf.expand_dims(X_demo[28], 0)), axis=1)\n",
    "print(\n",
    "        \"Predicted result is: %s\" % (result.numpy())\n",
    "    )\n",
    "\n",
    "\n"
   ]
  },
  {
   "cell_type": "markdown",
   "id": "b288658d",
   "metadata": {},
   "source": [
    "### 예측한 값을 판다스 데이터 프레임에 저장하여 엑셀 또는 csv파일로 내보내기"
   ]
  },
  {
   "cell_type": "code",
   "execution_count": 9,
   "id": "fff6c13b",
   "metadata": {},
   "outputs": [],
   "source": [
    "\n",
    "new_data = []\n",
    "new_data2 = []\n",
    "\n",
    "for i in range (len(X_demo)):\n",
    "    result = tf.argmax(model2.predict_on_batch(tf.expand_dims(X_demo[i], 0)), axis=1)\n",
    "    new_data.append(result.numpy())\n",
    "\n",
    "for i in range (len(X_demo)):\n",
    "    new_data2.append(new_data[i][0])\n"
   ]
  },
  {
   "cell_type": "code",
   "execution_count": 10,
   "id": "45bc62ea",
   "metadata": {},
   "outputs": [],
   "source": [
    "real_result = pd.DataFrame(new_data2)"
   ]
  },
  {
   "cell_type": "code",
   "execution_count": 12,
   "id": "e38dacb3",
   "metadata": {},
   "outputs": [],
   "source": [
    "#real_result.to_csv(\"hey.csv\")\n",
    "real_result.to_excel(\"hey.xlsx\")"
   ]
  }
 ],
 "metadata": {
  "kernelspec": {
   "display_name": "base",
   "language": "python",
   "name": "python3"
  },
  "language_info": {
   "codemirror_mode": {
    "name": "ipython",
    "version": 3
   },
   "file_extension": ".py",
   "mimetype": "text/x-python",
   "name": "python",
   "nbconvert_exporter": "python",
   "pygments_lexer": "ipython3",
   "version": "3.9.12 (main, Apr  4 2022, 05:22:27) [MSC v.1916 64 bit (AMD64)]"
  },
  "vscode": {
   "interpreter": {
    "hash": "8143fc11346c95b6e63f0e20dfa300eaffc43ee41c790b88874204c47423638f"
   }
  }
 },
 "nbformat": 4,
 "nbformat_minor": 5
}
