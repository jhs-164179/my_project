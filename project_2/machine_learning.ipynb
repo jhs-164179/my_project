{
 "cells": [
  {
   "attachments": {},
   "cell_type": "markdown",
   "metadata": {},
   "source": [
    "# import"
   ]
  },
  {
   "cell_type": "code",
   "execution_count": 80,
   "metadata": {},
   "outputs": [],
   "source": [
    "import pandas as pd\n",
    "import numpy as np\n",
    "import seaborn as sns\n",
    "import matplotlib\n",
    "import matplotlib.pyplot as plt\n",
    "import joblib\n",
    "from tqdm import tqdm\n",
    "\n",
    "import sklearn\n",
    "from sklearn.preprocessing import LabelEncoder, StandardScaler, MinMaxScaler\n",
    "from sklearn.decomposition import PCA\n",
    "\n",
    "from sklearn.linear_model import LogisticRegression\n",
    "from sklearn.naive_bayes import GaussianNB as gnb # 설명변수가 연속형인 데이터에 사용\n",
    "from sklearn.neighbors import KNeighborsClassifier\n",
    "from sklearn.ensemble import RandomForestClassifier as rfc\n",
    "from sklearn.model_selection import GridSearchCV, train_test_split\n",
    "\n",
    "from sklearn.cluster import KMeans\n",
    "from sklearn.metrics import confusion_matrix, accuracy_score\n",
    "\n",
    "import warnings\n",
    "warnings.filterwarnings('ignore')"
   ]
  },
  {
   "cell_type": "code",
   "execution_count": 69,
   "metadata": {},
   "outputs": [
    {
     "name": "stdout",
     "output_type": "stream",
     "text": [
      "numpy version:  1.23.4\n",
      "pandas version:  1.5.1\n",
      "scikit-learn version:  1.1.3\n",
      "matplotlib version:  3.5.3\n",
      "seaborn version:  0.12.0\n",
      "joblib version:  1.1.1\n"
     ]
    }
   ],
   "source": [
    "print('numpy version: ',np.__version__)\n",
    "print('pandas version: ',pd.__version__)\n",
    "print('scikit-learn version: ',sklearn.__version__)\n",
    "print('matplotlib version: ',matplotlib.__version__)\n",
    "print('seaborn version: ',sns.__version__)\n",
    "print('joblib version: ',joblib.__version__)"
   ]
  },
  {
   "cell_type": "code",
   "execution_count": 70,
   "metadata": {},
   "outputs": [],
   "source": [
    "dts=pd.read_csv('final_of_final_preprocessing.csv')"
   ]
  },
  {
   "cell_type": "code",
   "execution_count": 71,
   "metadata": {},
   "outputs": [],
   "source": [
    "# 충전기가 설치된 950개의 데이터 추출\n",
    "df_train_1=dts[dts['충전기 유무']==1]\n",
    "# 충전기가 설치되지 않은 데이터 중 랜덤하게 950개의 데이터 추출\n",
    "df_train_2=dts[dts['충전기 유무']==0].sample(950)\n",
    "df_train=pd.concat([df_train_1,df_train_2])"
   ]
  },
  {
   "cell_type": "code",
   "execution_count": 72,
   "metadata": {},
   "outputs": [],
   "source": [
    "# 평가 데이터 feature, label 분리\n",
    "feature_tr=df_train[df_train.columns[:-1]]\n",
    "label_tr=df_train['충전기 유무']"
   ]
  },
  {
   "cell_type": "code",
   "execution_count": 73,
   "metadata": {},
   "outputs": [],
   "source": [
    "# 평가 데이터를 학습, 테스트 데이터로 분리(6/4)\n",
    "train_x,test_x,train_y,test_y = train_test_split(feature_tr,label_tr, test_size=.4, random_state=42)"
   ]
  },
  {
   "cell_type": "code",
   "execution_count": 74,
   "metadata": {},
   "outputs": [],
   "source": [
    "model1=LogisticRegression()\n",
    "model2=gnb()\n",
    "model3=KNeighborsClassifier()\n",
    "model4=rfc()\n",
    "\n",
    "params={\n",
    "    'max_iter':[50,100,200,300],\n",
    "    'solver':['lbfgs','sag','saga','newton-cg'],\n",
    "    'C':[.001,.01,.1,1,10],\n",
    "    'penalty':['l1','l2']\n",
    "}\n",
    "params2={\n",
    "    'var_smoothing':np.arange(-9,1)\n",
    "}\n",
    "params3={\n",
    "    'n_neighbors' : [2],\n",
    "    'weights' : [\"uniform\", \"distance\"],\n",
    "    'metric' : ['euclidean', 'manhattan', 'minkowski']\n",
    "}\n",
    "params4={\n",
    "    'n_estimators':[50,100,200,300],\n",
    "    'max_features':['auto','sqrt','log2'],\n",
    "    'max_depth':[4,5,6,7,8],\n",
    "    'criterion':['gini','entropy']\n",
    "}"
   ]
  },
  {
   "cell_type": "code",
   "execution_count": 75,
   "metadata": {},
   "outputs": [],
   "source": [
    "cv_lg=GridSearchCV(estimator=model1, param_grid=params, cv=5, scoring='accuracy', refit=True)\n",
    "cv_gnb=GridSearchCV(estimator=model2, param_grid=params2, cv=5, scoring='accuracy', refit=True)\n",
    "cv_knn=GridSearchCV(estimator=model3, param_grid=params3, cv=5, scoring='accuracy', refit=True)\n",
    "cv_rfc=GridSearchCV(estimator=model4, param_grid=params4, cv=5, scoring='accuracy', refit=True)"
   ]
  },
  {
   "cell_type": "code",
   "execution_count": 76,
   "metadata": {},
   "outputs": [
    {
     "data": {
      "text/html": [
       "<style>#sk-container-id-1 {color: black;background-color: white;}#sk-container-id-1 pre{padding: 0;}#sk-container-id-1 div.sk-toggleable {background-color: white;}#sk-container-id-1 label.sk-toggleable__label {cursor: pointer;display: block;width: 100%;margin-bottom: 0;padding: 0.3em;box-sizing: border-box;text-align: center;}#sk-container-id-1 label.sk-toggleable__label-arrow:before {content: \"▸\";float: left;margin-right: 0.25em;color: #696969;}#sk-container-id-1 label.sk-toggleable__label-arrow:hover:before {color: black;}#sk-container-id-1 div.sk-estimator:hover label.sk-toggleable__label-arrow:before {color: black;}#sk-container-id-1 div.sk-toggleable__content {max-height: 0;max-width: 0;overflow: hidden;text-align: left;background-color: #f0f8ff;}#sk-container-id-1 div.sk-toggleable__content pre {margin: 0.2em;color: black;border-radius: 0.25em;background-color: #f0f8ff;}#sk-container-id-1 input.sk-toggleable__control:checked~div.sk-toggleable__content {max-height: 200px;max-width: 100%;overflow: auto;}#sk-container-id-1 input.sk-toggleable__control:checked~label.sk-toggleable__label-arrow:before {content: \"▾\";}#sk-container-id-1 div.sk-estimator input.sk-toggleable__control:checked~label.sk-toggleable__label {background-color: #d4ebff;}#sk-container-id-1 div.sk-label input.sk-toggleable__control:checked~label.sk-toggleable__label {background-color: #d4ebff;}#sk-container-id-1 input.sk-hidden--visually {border: 0;clip: rect(1px 1px 1px 1px);clip: rect(1px, 1px, 1px, 1px);height: 1px;margin: -1px;overflow: hidden;padding: 0;position: absolute;width: 1px;}#sk-container-id-1 div.sk-estimator {font-family: monospace;background-color: #f0f8ff;border: 1px dotted black;border-radius: 0.25em;box-sizing: border-box;margin-bottom: 0.5em;}#sk-container-id-1 div.sk-estimator:hover {background-color: #d4ebff;}#sk-container-id-1 div.sk-parallel-item::after {content: \"\";width: 100%;border-bottom: 1px solid gray;flex-grow: 1;}#sk-container-id-1 div.sk-label:hover label.sk-toggleable__label {background-color: #d4ebff;}#sk-container-id-1 div.sk-serial::before {content: \"\";position: absolute;border-left: 1px solid gray;box-sizing: border-box;top: 0;bottom: 0;left: 50%;z-index: 0;}#sk-container-id-1 div.sk-serial {display: flex;flex-direction: column;align-items: center;background-color: white;padding-right: 0.2em;padding-left: 0.2em;position: relative;}#sk-container-id-1 div.sk-item {position: relative;z-index: 1;}#sk-container-id-1 div.sk-parallel {display: flex;align-items: stretch;justify-content: center;background-color: white;position: relative;}#sk-container-id-1 div.sk-item::before, #sk-container-id-1 div.sk-parallel-item::before {content: \"\";position: absolute;border-left: 1px solid gray;box-sizing: border-box;top: 0;bottom: 0;left: 50%;z-index: -1;}#sk-container-id-1 div.sk-parallel-item {display: flex;flex-direction: column;z-index: 1;position: relative;background-color: white;}#sk-container-id-1 div.sk-parallel-item:first-child::after {align-self: flex-end;width: 50%;}#sk-container-id-1 div.sk-parallel-item:last-child::after {align-self: flex-start;width: 50%;}#sk-container-id-1 div.sk-parallel-item:only-child::after {width: 0;}#sk-container-id-1 div.sk-dashed-wrapped {border: 1px dashed gray;margin: 0 0.4em 0.5em 0.4em;box-sizing: border-box;padding-bottom: 0.4em;background-color: white;}#sk-container-id-1 div.sk-label label {font-family: monospace;font-weight: bold;display: inline-block;line-height: 1.2em;}#sk-container-id-1 div.sk-label-container {text-align: center;}#sk-container-id-1 div.sk-container {/* jupyter's `normalize.less` sets `[hidden] { display: none; }` but bootstrap.min.css set `[hidden] { display: none !important; }` so we also need the `!important` here to be able to override the default hidden behavior on the sphinx rendered scikit-learn.org. See: https://github.com/scikit-learn/scikit-learn/issues/21755 */display: inline-block !important;position: relative;}#sk-container-id-1 div.sk-text-repr-fallback {display: none;}</style><div id=\"sk-container-id-1\" class=\"sk-top-container\"><div class=\"sk-text-repr-fallback\"><pre>GridSearchCV(cv=5, estimator=RandomForestClassifier(),\n",
       "             param_grid={&#x27;criterion&#x27;: [&#x27;gini&#x27;, &#x27;entropy&#x27;],\n",
       "                         &#x27;max_depth&#x27;: [4, 5, 6, 7, 8],\n",
       "                         &#x27;max_features&#x27;: [&#x27;auto&#x27;, &#x27;sqrt&#x27;, &#x27;log2&#x27;],\n",
       "                         &#x27;n_estimators&#x27;: [50, 100, 200, 300]},\n",
       "             scoring=&#x27;accuracy&#x27;)</pre><b>In a Jupyter environment, please rerun this cell to show the HTML representation or trust the notebook. <br />On GitHub, the HTML representation is unable to render, please try loading this page with nbviewer.org.</b></div><div class=\"sk-container\" hidden><div class=\"sk-item sk-dashed-wrapped\"><div class=\"sk-label-container\"><div class=\"sk-label sk-toggleable\"><input class=\"sk-toggleable__control sk-hidden--visually\" id=\"sk-estimator-id-1\" type=\"checkbox\" ><label for=\"sk-estimator-id-1\" class=\"sk-toggleable__label sk-toggleable__label-arrow\">GridSearchCV</label><div class=\"sk-toggleable__content\"><pre>GridSearchCV(cv=5, estimator=RandomForestClassifier(),\n",
       "             param_grid={&#x27;criterion&#x27;: [&#x27;gini&#x27;, &#x27;entropy&#x27;],\n",
       "                         &#x27;max_depth&#x27;: [4, 5, 6, 7, 8],\n",
       "                         &#x27;max_features&#x27;: [&#x27;auto&#x27;, &#x27;sqrt&#x27;, &#x27;log2&#x27;],\n",
       "                         &#x27;n_estimators&#x27;: [50, 100, 200, 300]},\n",
       "             scoring=&#x27;accuracy&#x27;)</pre></div></div></div><div class=\"sk-parallel\"><div class=\"sk-parallel-item\"><div class=\"sk-item\"><div class=\"sk-label-container\"><div class=\"sk-label sk-toggleable\"><input class=\"sk-toggleable__control sk-hidden--visually\" id=\"sk-estimator-id-2\" type=\"checkbox\" ><label for=\"sk-estimator-id-2\" class=\"sk-toggleable__label sk-toggleable__label-arrow\">estimator: RandomForestClassifier</label><div class=\"sk-toggleable__content\"><pre>RandomForestClassifier()</pre></div></div></div><div class=\"sk-serial\"><div class=\"sk-item\"><div class=\"sk-estimator sk-toggleable\"><input class=\"sk-toggleable__control sk-hidden--visually\" id=\"sk-estimator-id-3\" type=\"checkbox\" ><label for=\"sk-estimator-id-3\" class=\"sk-toggleable__label sk-toggleable__label-arrow\">RandomForestClassifier</label><div class=\"sk-toggleable__content\"><pre>RandomForestClassifier()</pre></div></div></div></div></div></div></div></div></div></div>"
      ],
      "text/plain": [
       "GridSearchCV(cv=5, estimator=RandomForestClassifier(),\n",
       "             param_grid={'criterion': ['gini', 'entropy'],\n",
       "                         'max_depth': [4, 5, 6, 7, 8],\n",
       "                         'max_features': ['auto', 'sqrt', 'log2'],\n",
       "                         'n_estimators': [50, 100, 200, 300]},\n",
       "             scoring='accuracy')"
      ]
     },
     "execution_count": 76,
     "metadata": {},
     "output_type": "execute_result"
    }
   ],
   "source": [
    "cv_lg.fit(feature_tr,label_tr)\n",
    "cv_gnb.fit(feature_tr,label_tr)\n",
    "cv_knn.fit(feature_tr,label_tr)\n",
    "cv_rfc.fit(feature_tr,label_tr)"
   ]
  },
  {
   "cell_type": "code",
   "execution_count": 77,
   "metadata": {},
   "outputs": [
    {
     "name": "stdout",
     "output_type": "stream",
     "text": [
      "LogisticRegression\n",
      "best parameters: {'C': 0.001, 'max_iter': 50, 'penalty': 'l2', 'solver': 'lbfgs'}\n",
      "best score: 0.68\n",
      "----------------------------------------\n",
      "GaussianNB\n",
      "best parameters: {'var_smoothing': -9}\n",
      "best score: 0.5\n",
      "----------------------------------------\n",
      "KNeighborsClassifier\n",
      "best parameters: {'metric': 'euclidean', 'n_neighbors': 2, 'weights': 'distance'}\n",
      "best score: 0.52\n",
      "----------------------------------------\n",
      "RandomForestClassifier\n",
      "best parameters: {'criterion': 'entropy', 'max_depth': 5, 'max_features': 'log2', 'n_estimators': 50}\n",
      "best score: 0.66\n"
     ]
    }
   ],
   "source": [
    "print('LogisticRegression')\n",
    "print('best parameters:',cv_lg.best_params_)\n",
    "print('best score:',round(cv_lg.best_score_,2))\n",
    "print('-'*40)\n",
    "print('GaussianNB')\n",
    "print('best parameters:',cv_gnb.best_params_)\n",
    "print('best score:',round(cv_gnb.best_score_,2))\n",
    "print('-'*40)\n",
    "print('KNeighborsClassifier')\n",
    "print('best parameters:',cv_knn.best_params_)\n",
    "print('best score:',round(cv_knn.best_score_,2))\n",
    "print('-'*40)\n",
    "print('RandomForestClassifier')\n",
    "print('best parameters:',cv_rfc.best_params_)\n",
    "print('best score:',round(cv_rfc.best_score_,2))"
   ]
  },
  {
   "cell_type": "code",
   "execution_count": 78,
   "metadata": {},
   "outputs": [],
   "source": [
    "estimator_lr=cv_lg.best_estimator_\n",
    "estimator_gnb=cv_gnb.best_estimator_\n",
    "estimator_knn=cv_knn.best_estimator_\n",
    "estimator_rfc=cv_rfc.best_estimator_"
   ]
  },
  {
   "cell_type": "code",
   "execution_count": 84,
   "metadata": {},
   "outputs": [
    {
     "name": "stdout",
     "output_type": "stream",
     "text": [
      "lr acc: 0.68\n",
      "gnb acc: 0.49\n",
      "knn acc: 0.63\n",
      "rfc acc: 0.72\n"
     ]
    }
   ],
   "source": [
    "pred_lr=estimator_lr.predict(test_x)\n",
    "pred_gnb=estimator_gnb.predict(test_x)\n",
    "pred_knn=estimator_knn.predict(test_x)\n",
    "pred_rfc=estimator_rfc.predict(test_x)\n",
    "\n",
    "print('lr acc:', round(accuracy_score(test_y,pred_lr),2))\n",
    "print('gnb acc:', round(accuracy_score(test_y,pred_gnb),2))\n",
    "print('knn acc:', round(accuracy_score(test_y,pred_knn),2))\n",
    "print('rfc acc:', round(accuracy_score(test_y,pred_rfc),2))"
   ]
  },
  {
   "cell_type": "code",
   "execution_count": 85,
   "metadata": {},
   "outputs": [
    {
     "data": {
      "text/plain": [
       "['./model_testing/rfc1.pkl']"
      ]
     },
     "execution_count": 85,
     "metadata": {},
     "output_type": "execute_result"
    }
   ],
   "source": [
    "# 모델 저장\n",
    "joblib.dump(estimator_lr, './model_testing/lr1.pkl')\n",
    "joblib.dump(estimator_gnb, './model_testing/gnb1.pkl')\n",
    "joblib.dump(estimator_knn, './model_testing/knn1.pkl')\n",
    "joblib.dump(estimator_rfc, './model_testing/rfc1.pkl')"
   ]
  },
  {
   "attachments": {},
   "cell_type": "markdown",
   "metadata": {},
   "source": [
    "# -------------------------------------------"
   ]
  },
  {
   "cell_type": "code",
   "execution_count": null,
   "metadata": {},
   "outputs": [],
   "source": [
    "pred_lr=estimator_lr.predict(test_x)\n",
    "pred_gnb=estimator_gnb.predict(test_x)\n",
    "pred_knn=estimator_knn.predict(test_x)\n",
    "pred_rfc=estimator_rfc.predict(test_x)\n",
    "\n",
    "print('lr acc:', round(accuracy_score(test_y,pred_lr),2))\n",
    "print('gnb acc:', round(accuracy_score(test_y,pred_gnb),2))\n",
    "print('knn acc:', round(accuracy_score(test_y,pred_knn),2))\n",
    "print('rfc acc:', round(accuracy_score(test_y,pred_rfc),2))"
   ]
  },
  {
   "attachments": {},
   "cell_type": "markdown",
   "metadata": {},
   "source": [
    "# --------------------------------------------------------"
   ]
  },
  {
   "cell_type": "code",
   "execution_count": 86,
   "metadata": {},
   "outputs": [],
   "source": [
    "feature=dts[dts.columns[:-1]]\n",
    "label=dts['충전기 유무']"
   ]
  },
  {
   "cell_type": "code",
   "execution_count": 87,
   "metadata": {},
   "outputs": [],
   "source": [
    "cls_pred=estimator_rfc.predict(feature)"
   ]
  },
  {
   "cell_type": "code",
   "execution_count": 90,
   "metadata": {},
   "outputs": [],
   "source": [
    "df_pred=pd.DataFrame(cls_pred,index=feature.index,columns=['충전기 유무'])\n",
    "df_real=pd.DataFrame(label,columns=['충전기 유무'])\n",
    "\n",
    "df_clustering=df_real[np.logical_and(df_real['충전기 유무']==0,df_pred['충전기 유무']==1)]"
   ]
  },
  {
   "cell_type": "code",
   "execution_count": 92,
   "metadata": {},
   "outputs": [],
   "source": [
    "df=pd.read_csv('final_2/final_of_final.csv')"
   ]
  },
  {
   "cell_type": "code",
   "execution_count": 94,
   "metadata": {},
   "outputs": [],
   "source": [
    "index_cls=df_clustering.index"
   ]
  },
  {
   "cell_type": "code",
   "execution_count": 99,
   "metadata": {},
   "outputs": [],
   "source": [
    "df_clustering['위도']=df.iloc[index_cls]['위도_Lat']\n",
    "df_clustering['경도']=df.iloc[index_cls]['경도_Lng']"
   ]
  },
  {
   "cell_type": "code",
   "execution_count": 100,
   "metadata": {},
   "outputs": [
    {
     "data": {
      "text/html": [
       "<div>\n",
       "<style scoped>\n",
       "    .dataframe tbody tr th:only-of-type {\n",
       "        vertical-align: middle;\n",
       "    }\n",
       "\n",
       "    .dataframe tbody tr th {\n",
       "        vertical-align: top;\n",
       "    }\n",
       "\n",
       "    .dataframe thead th {\n",
       "        text-align: right;\n",
       "    }\n",
       "</style>\n",
       "<table border=\"1\" class=\"dataframe\">\n",
       "  <thead>\n",
       "    <tr style=\"text-align: right;\">\n",
       "      <th></th>\n",
       "      <th>충전기 유무</th>\n",
       "      <th>위도</th>\n",
       "      <th>경도</th>\n",
       "    </tr>\n",
       "  </thead>\n",
       "  <tbody>\n",
       "    <tr>\n",
       "      <th>8449</th>\n",
       "      <td>0</td>\n",
       "      <td>33.419</td>\n",
       "      <td>126.313</td>\n",
       "    </tr>\n",
       "  </tbody>\n",
       "</table>\n",
       "</div>"
      ],
      "text/plain": [
       "      충전기 유무      위도       경도\n",
       "8449       0  33.419  126.313"
      ]
     },
     "execution_count": 100,
     "metadata": {},
     "output_type": "execute_result"
    }
   ],
   "source": [
    "df_clustering.head(1)"
   ]
  },
  {
   "cell_type": "code",
   "execution_count": 101,
   "metadata": {},
   "outputs": [],
   "source": [
    "df_clustering.drop('충전기 유무',axis=1, inplace=True)"
   ]
  },
  {
   "cell_type": "code",
   "execution_count": 103,
   "metadata": {},
   "outputs": [
    {
     "data": {
      "text/html": [
       "<div>\n",
       "<style scoped>\n",
       "    .dataframe tbody tr th:only-of-type {\n",
       "        vertical-align: middle;\n",
       "    }\n",
       "\n",
       "    .dataframe tbody tr th {\n",
       "        vertical-align: top;\n",
       "    }\n",
       "\n",
       "    .dataframe thead th {\n",
       "        text-align: right;\n",
       "    }\n",
       "</style>\n",
       "<table border=\"1\" class=\"dataframe\">\n",
       "  <thead>\n",
       "    <tr style=\"text-align: right;\">\n",
       "      <th></th>\n",
       "      <th>위도</th>\n",
       "      <th>경도</th>\n",
       "    </tr>\n",
       "  </thead>\n",
       "  <tbody>\n",
       "    <tr>\n",
       "      <th>8449</th>\n",
       "      <td>33.419</td>\n",
       "      <td>126.313</td>\n",
       "    </tr>\n",
       "    <tr>\n",
       "      <th>9347</th>\n",
       "      <td>33.447</td>\n",
       "      <td>126.308</td>\n",
       "    </tr>\n",
       "    <tr>\n",
       "      <th>9496</th>\n",
       "      <td>33.448</td>\n",
       "      <td>126.307</td>\n",
       "    </tr>\n",
       "    <tr>\n",
       "      <th>9625</th>\n",
       "      <td>33.448</td>\n",
       "      <td>126.436</td>\n",
       "    </tr>\n",
       "    <tr>\n",
       "      <th>9797</th>\n",
       "      <td>33.461</td>\n",
       "      <td>126.312</td>\n",
       "    </tr>\n",
       "  </tbody>\n",
       "</table>\n",
       "</div>"
      ],
      "text/plain": [
       "          위도       경도\n",
       "8449  33.419  126.313\n",
       "9347  33.447  126.308\n",
       "9496  33.448  126.307\n",
       "9625  33.448  126.436\n",
       "9797  33.461  126.312"
      ]
     },
     "execution_count": 103,
     "metadata": {},
     "output_type": "execute_result"
    }
   ],
   "source": [
    "df_clustering.head()"
   ]
  },
  {
   "cell_type": "code",
   "execution_count": 106,
   "metadata": {},
   "outputs": [],
   "source": [
    "def visualize_silhouette(cluster_lists, X_features): \n",
    "\n",
    "    from sklearn.datasets import make_blobs\n",
    "    from sklearn.cluster import KMeans\n",
    "    from sklearn.metrics import silhouette_samples, silhouette_score\n",
    "\n",
    "    import matplotlib.pyplot as plt\n",
    "    import matplotlib.cm as cm\n",
    "    import math\n",
    "\n",
    "    # 입력값으로 클러스터링 갯수들을 리스트로 받아서, 각 갯수별로 클러스터링을 적용하고 실루엣 개수를 구함\n",
    "    n_cols = len(cluster_lists)\n",
    "\n",
    "    # plt.subplots()으로 리스트에 기재된 클러스터링 수만큼의 sub figures를 가지는 axs 생성 \n",
    "    fig, axs = plt.subplots(figsize=(4*n_cols, 4), nrows=1, ncols=n_cols)\n",
    "\n",
    "    # 리스트에 기재된 클러스터링 갯수들을 차례로 iteration 수행하면서 실루엣 개수 시각화\n",
    "    for ind, n_cluster in enumerate(cluster_lists):\n",
    "\n",
    "        # KMeans 클러스터링 수행하고, 실루엣 스코어와 개별 데이터의 실루엣 값 계산. \n",
    "        clusterer = KMeans(n_clusters = n_cluster, max_iter=500, random_state=0)\n",
    "        cluster_labels = clusterer.fit_predict(X_features)\n",
    "\n",
    "        sil_avg = silhouette_score(X_features, cluster_labels)\n",
    "        sil_values = silhouette_samples(X_features, cluster_labels)\n",
    "\n",
    "        y_lower = 10\n",
    "        axs[ind].set_title('Number of Cluster : '+ str(n_cluster)+'\\n' \\\n",
    "                          'Silhouette Score :' + str(round(sil_avg,3)) )\n",
    "        axs[ind].set_xlabel(\"The silhouette coefficient values\")\n",
    "        axs[ind].set_ylabel(\"Cluster label\")\n",
    "        axs[ind].set_xlim([-0.1, 1])\n",
    "        axs[ind].set_ylim([0, len(X_features) + (n_cluster + 1) * 10])\n",
    "        axs[ind].set_yticks([])  # Clear the yaxis labels / ticks\n",
    "        axs[ind].set_xticks([0, 0.2, 0.4, 0.6, 0.8, 1])\n",
    "\n",
    "        # 클러스터링 갯수별로 fill_betweenx( )형태의 막대 그래프 표현. \n",
    "        for i in range(n_cluster):\n",
    "            ith_cluster_sil_values = sil_values[cluster_labels==i]\n",
    "            ith_cluster_sil_values.sort()\n",
    "\n",
    "            size_cluster_i = ith_cluster_sil_values.shape[0]\n",
    "            y_upper = y_lower + size_cluster_i\n",
    "\n",
    "            color = cm.nipy_spectral(float(i) / n_cluster)\n",
    "            axs[ind].fill_betweenx(np.arange(y_lower, y_upper), 0, ith_cluster_sil_values, \\\n",
    "                                facecolor=color, edgecolor=color, alpha=0.7)\n",
    "            axs[ind].text(-0.05, y_lower + 0.5 * size_cluster_i, str(i))\n",
    "            y_lower = y_upper + 10\n",
    "\n",
    "        axs[ind].axvline(x=sil_avg, color=\"red\", linestyle=\"--\")"
   ]
  },
  {
   "cell_type": "code",
   "execution_count": 108,
   "metadata": {},
   "outputs": [],
   "source": [
    "x=pd.concat([df_clustering['경도'].astype(float),df_clustering['위도'].astype(float)],axis=1).to_numpy()"
   ]
  },
  {
   "cell_type": "code",
   "execution_count": 109,
   "metadata": {},
   "outputs": [
    {
     "data": {
      "image/png": "[encoded data removed]",
      "text/plain": [
       "<Figure size 1600x400 with 4 Axes>"
      ]
     },
     "metadata": {},
     "output_type": "display_data"
    }
   ],
   "source": [
    "visualize_silhouette([2,3,4,5], x)"
   ]
  },
  {
   "cell_type": "code",
   "execution_count": 114,
   "metadata": {},
   "outputs": [
    {
     "data": {
      "image/png": "[encoded data removed]",
      "text/plain": [
       "<Figure size 640x480 with 1 Axes>"
      ]
     },
     "metadata": {},
     "output_type": "display_data"
    }
   ],
   "source": [
    "def visualize_inertia(cluster_lists, X_features):\n",
    "    inertias = []\n",
    "    for n_cluster in cluster_lists:\n",
    "        k_means = KMeans(n_clusters = n_cluster, max_iter=500, random_state=0)\n",
    "        k_means.fit(X_features)\n",
    "        inertias.append(k_means.inertia_)\n",
    "        \n",
    "    sns.lineplot(x=cluster_lists, y=inertias)\n",
    "visualize_inertia([i for i in range(2, 11)], x)"
   ]
  },
  {
   "cell_type": "code",
   "execution_count": 105,
   "metadata": {},
   "outputs": [],
   "source": [
    "df_jj=df[['위도_Lat','경도_Lng']]"
   ]
  },
  {
   "cell_type": "code",
   "execution_count": 116,
   "metadata": {},
   "outputs": [],
   "source": [
    "df_test1=df_clustering.copy()\n",
    "df_test2=df_clustering.copy()"
   ]
  },
  {
   "cell_type": "code",
   "execution_count": 117,
   "metadata": {},
   "outputs": [],
   "source": [
    "# kmeans클러스터링 + 4개의 군집 사용\n",
    "\n",
    "kmeans=KMeans(n_clusters=4, init='k-means++', max_iter=200, random_state=42)\n",
    "cluster_labels=kmeans.fit_predict(df_clustering)\n",
    "\n",
    "kmeans2=KMeans(n_clusters=10, init='k-means++', max_iter=200, random_state=42)\n",
    "cluster_labels2=kmeans.fit_predict(df_clustering)\n",
    "\n",
    "df_test1['kmean_labels']=cluster_labels\n",
    "df_test2['kmean_labels']=cluster_labels2"
   ]
  },
  {
   "cell_type": "code",
   "execution_count": 120,
   "metadata": {},
   "outputs": [
    {
     "data": {
      "text/plain": [
       "Index(['위도', '경도', 'kmean_labels'], dtype='object')"
      ]
     },
     "execution_count": 120,
     "metadata": {},
     "output_type": "execute_result"
    }
   ],
   "source": [
    "df_test1.columns"
   ]
  },
  {
   "cell_type": "code",
   "execution_count": 127,
   "metadata": {},
   "outputs": [
    {
     "data": {
      "text/plain": [
       "<matplotlib.collections.PathCollection at 0x197fba7fdf0>"
      ]
     },
     "execution_count": 127,
     "metadata": {},
     "output_type": "execute_result"
    },
    {
     "data": {
      "image/png": "[encoded data removed]",
      "text/plain": [
       "<Figure size 500x700 with 1 Axes>"
      ]
     },
     "metadata": {},
     "output_type": "display_data"
    }
   ],
   "source": [
    "plt.figure(figsize=(5,7))\n",
    "plt.scatter(df_jj['경도_Lng'].astype(float),df_jj['위도_Lat'].astype(float))"
   ]
  },
  {
   "cell_type": "code",
   "execution_count": 133,
   "metadata": {},
   "outputs": [
    {
     "data": {
      "image/png": "[encoded data removed]",
      "text/plain": [
       "<Figure size 500x700 with 1 Axes>"
      ]
     },
     "metadata": {},
     "output_type": "display_data"
    }
   ],
   "source": [
    "centers=kmeans.cluster_centers_\n",
    "unique_labels=np.unique(cluster_labels)\n",
    "\n",
    "markers=['o','^','s','P','D','H','x']\n",
    "\n",
    "plt.figure(figsize=(5,7))\n",
    "plt.scatter(df_jj['경도_Lng'].astype(float),df_jj['위도_Lat'].astype(float))\n",
    "for label in unique_labels:\n",
    "    label_cluster=df_test1[df_test1['kmean_labels']==label]\n",
    "    center_x_y=centers[label]\n",
    "\n",
    "    plt.scatter(x=label_cluster['경도'].astype(float),\n",
    "                y=label_cluster['위도'].astype(float),\n",
    "                marker=markers[label])\n",
    "\n",
    "    plt.scatter(x=center_x_y[1],y=center_x_y[0], s=200, color='white', alpha=.9, edgecolor='k',marker=markers[label])\n",
    "    plt.scatter(x=center_x_y[1],y=center_x_y[0], s=70, color='k', edgecolor='k', marker='$%d$' % label)\n",
    "plt.show()"
   ]
  },
  {
   "cell_type": "code",
   "execution_count": 141,
   "metadata": {},
   "outputs": [
    {
     "data": {
      "text/html": [
       "<div>\n",
       "<style scoped>\n",
       "    .dataframe tbody tr th:only-of-type {\n",
       "        vertical-align: middle;\n",
       "    }\n",
       "\n",
       "    .dataframe tbody tr th {\n",
       "        vertical-align: top;\n",
       "    }\n",
       "\n",
       "    .dataframe thead th {\n",
       "        text-align: right;\n",
       "    }\n",
       "</style>\n",
       "<table border=\"1\" class=\"dataframe\">\n",
       "  <thead>\n",
       "    <tr style=\"text-align: right;\">\n",
       "      <th></th>\n",
       "      <th>침수우려여부</th>\n",
       "      <th>지진 발생</th>\n",
       "      <th>cctv 유무</th>\n",
       "      <th>합산 검색 수</th>\n",
       "      <th>내국인 관광객수</th>\n",
       "      <th>외국인 관광객수</th>\n",
       "      <th>전년대비 증감대수</th>\n",
       "      <th>전년대비 증감율(%)</th>\n",
       "      <th>2122인구증감율</th>\n",
       "      <th>2122경제활동인구증감율</th>\n",
       "      <th>2021전기차비율</th>\n",
       "      <th>2022전기차비율</th>\n",
       "      <th>2122전기차증감율</th>\n",
       "      <th>2개년 통계_1</th>\n",
       "      <th>2개년 통계_2</th>\n",
       "      <th>충전기 유무</th>\n",
       "    </tr>\n",
       "  </thead>\n",
       "  <tbody>\n",
       "    <tr>\n",
       "      <th>0</th>\n",
       "      <td>0</td>\n",
       "      <td>0</td>\n",
       "      <td>0</td>\n",
       "      <td>0.0</td>\n",
       "      <td>0.0</td>\n",
       "      <td>0.0</td>\n",
       "      <td>0.276893</td>\n",
       "      <td>0.484701</td>\n",
       "      <td>0.280973</td>\n",
       "      <td>0.635659</td>\n",
       "      <td>0.785802</td>\n",
       "      <td>0.820669</td>\n",
       "      <td>0.890143</td>\n",
       "      <td>-0.622198</td>\n",
       "      <td>-0.037425</td>\n",
       "      <td>1</td>\n",
       "    </tr>\n",
       "    <tr>\n",
       "      <th>1</th>\n",
       "      <td>0</td>\n",
       "      <td>0</td>\n",
       "      <td>0</td>\n",
       "      <td>0.0</td>\n",
       "      <td>0.0</td>\n",
       "      <td>0.0</td>\n",
       "      <td>0.276893</td>\n",
       "      <td>0.484701</td>\n",
       "      <td>0.280973</td>\n",
       "      <td>0.635659</td>\n",
       "      <td>0.785802</td>\n",
       "      <td>0.820669</td>\n",
       "      <td>0.890143</td>\n",
       "      <td>-0.622198</td>\n",
       "      <td>-0.037425</td>\n",
       "      <td>1</td>\n",
       "    </tr>\n",
       "    <tr>\n",
       "      <th>2</th>\n",
       "      <td>0</td>\n",
       "      <td>0</td>\n",
       "      <td>0</td>\n",
       "      <td>0.0</td>\n",
       "      <td>0.0</td>\n",
       "      <td>0.0</td>\n",
       "      <td>0.276893</td>\n",
       "      <td>0.484701</td>\n",
       "      <td>0.280973</td>\n",
       "      <td>0.635659</td>\n",
       "      <td>0.785802</td>\n",
       "      <td>0.820669</td>\n",
       "      <td>0.890143</td>\n",
       "      <td>-0.622198</td>\n",
       "      <td>-0.037425</td>\n",
       "      <td>1</td>\n",
       "    </tr>\n",
       "    <tr>\n",
       "      <th>3</th>\n",
       "      <td>0</td>\n",
       "      <td>0</td>\n",
       "      <td>0</td>\n",
       "      <td>0.0</td>\n",
       "      <td>0.0</td>\n",
       "      <td>0.0</td>\n",
       "      <td>0.276893</td>\n",
       "      <td>0.484701</td>\n",
       "      <td>0.280973</td>\n",
       "      <td>0.635659</td>\n",
       "      <td>0.785802</td>\n",
       "      <td>0.820669</td>\n",
       "      <td>0.890143</td>\n",
       "      <td>-0.622198</td>\n",
       "      <td>-0.037425</td>\n",
       "      <td>1</td>\n",
       "    </tr>\n",
       "    <tr>\n",
       "      <th>4</th>\n",
       "      <td>0</td>\n",
       "      <td>0</td>\n",
       "      <td>0</td>\n",
       "      <td>0.0</td>\n",
       "      <td>0.0</td>\n",
       "      <td>0.0</td>\n",
       "      <td>0.276893</td>\n",
       "      <td>0.484701</td>\n",
       "      <td>0.280973</td>\n",
       "      <td>0.635659</td>\n",
       "      <td>0.785802</td>\n",
       "      <td>0.820669</td>\n",
       "      <td>0.890143</td>\n",
       "      <td>-0.622198</td>\n",
       "      <td>-0.037425</td>\n",
       "      <td>1</td>\n",
       "    </tr>\n",
       "    <tr>\n",
       "      <th>...</th>\n",
       "      <td>...</td>\n",
       "      <td>...</td>\n",
       "      <td>...</td>\n",
       "      <td>...</td>\n",
       "      <td>...</td>\n",
       "      <td>...</td>\n",
       "      <td>...</td>\n",
       "      <td>...</td>\n",
       "      <td>...</td>\n",
       "      <td>...</td>\n",
       "      <td>...</td>\n",
       "      <td>...</td>\n",
       "      <td>...</td>\n",
       "      <td>...</td>\n",
       "      <td>...</td>\n",
       "      <td>...</td>\n",
       "    </tr>\n",
       "    <tr>\n",
       "      <th>97940</th>\n",
       "      <td>0</td>\n",
       "      <td>0</td>\n",
       "      <td>1</td>\n",
       "      <td>0.0</td>\n",
       "      <td>0.0</td>\n",
       "      <td>0.0</td>\n",
       "      <td>0.333662</td>\n",
       "      <td>0.409769</td>\n",
       "      <td>0.511062</td>\n",
       "      <td>0.768734</td>\n",
       "      <td>0.730722</td>\n",
       "      <td>0.757852</td>\n",
       "      <td>0.930634</td>\n",
       "      <td>-0.302885</td>\n",
       "      <td>0.378726</td>\n",
       "      <td>0</td>\n",
       "    </tr>\n",
       "    <tr>\n",
       "      <th>97941</th>\n",
       "      <td>0</td>\n",
       "      <td>0</td>\n",
       "      <td>1</td>\n",
       "      <td>0.0</td>\n",
       "      <td>0.0</td>\n",
       "      <td>0.0</td>\n",
       "      <td>0.763582</td>\n",
       "      <td>0.470721</td>\n",
       "      <td>0.471239</td>\n",
       "      <td>0.758398</td>\n",
       "      <td>0.369645</td>\n",
       "      <td>0.367781</td>\n",
       "      <td>0.926983</td>\n",
       "      <td>1.922094</td>\n",
       "      <td>-0.097575</td>\n",
       "      <td>0</td>\n",
       "    </tr>\n",
       "    <tr>\n",
       "      <th>97942</th>\n",
       "      <td>0</td>\n",
       "      <td>0</td>\n",
       "      <td>1</td>\n",
       "      <td>0.0</td>\n",
       "      <td>0.0</td>\n",
       "      <td>0.0</td>\n",
       "      <td>0.308776</td>\n",
       "      <td>0.512941</td>\n",
       "      <td>0.672566</td>\n",
       "      <td>0.877261</td>\n",
       "      <td>0.789474</td>\n",
       "      <td>0.827761</td>\n",
       "      <td>0.966147</td>\n",
       "      <td>-0.597325</td>\n",
       "      <td>-0.048238</td>\n",
       "      <td>0</td>\n",
       "    </tr>\n",
       "    <tr>\n",
       "      <th>97943</th>\n",
       "      <td>0</td>\n",
       "      <td>0</td>\n",
       "      <td>1</td>\n",
       "      <td>0.0</td>\n",
       "      <td>0.0</td>\n",
       "      <td>0.0</td>\n",
       "      <td>0.308776</td>\n",
       "      <td>0.512941</td>\n",
       "      <td>0.672566</td>\n",
       "      <td>0.877261</td>\n",
       "      <td>0.789474</td>\n",
       "      <td>0.827761</td>\n",
       "      <td>0.966147</td>\n",
       "      <td>-0.597325</td>\n",
       "      <td>-0.048238</td>\n",
       "      <td>0</td>\n",
       "    </tr>\n",
       "    <tr>\n",
       "      <th>97944</th>\n",
       "      <td>0</td>\n",
       "      <td>0</td>\n",
       "      <td>1</td>\n",
       "      <td>0.0</td>\n",
       "      <td>0.0</td>\n",
       "      <td>0.0</td>\n",
       "      <td>0.763582</td>\n",
       "      <td>0.470721</td>\n",
       "      <td>0.471239</td>\n",
       "      <td>0.758398</td>\n",
       "      <td>0.369645</td>\n",
       "      <td>0.367781</td>\n",
       "      <td>0.926983</td>\n",
       "      <td>1.922094</td>\n",
       "      <td>-0.097575</td>\n",
       "      <td>0</td>\n",
       "    </tr>\n",
       "  </tbody>\n",
       "</table>\n",
       "<p>97945 rows × 16 columns</p>\n",
       "</div>"
      ],
      "text/plain": [
       "       침수우려여부  지진 발생  cctv 유무  합산 검색 수  내국인 관광객수  외국인 관광객수  전년대비 증감대수  \\\n",
       "0           0      0        0      0.0       0.0       0.0   0.276893   \n",
       "1           0      0        0      0.0       0.0       0.0   0.276893   \n",
       "2           0      0        0      0.0       0.0       0.0   0.276893   \n",
       "3           0      0        0      0.0       0.0       0.0   0.276893   \n",
       "4           0      0        0      0.0       0.0       0.0   0.276893   \n",
       "...       ...    ...      ...      ...       ...       ...        ...   \n",
       "97940       0      0        1      0.0       0.0       0.0   0.333662   \n",
       "97941       0      0        1      0.0       0.0       0.0   0.763582   \n",
       "97942       0      0        1      0.0       0.0       0.0   0.308776   \n",
       "97943       0      0        1      0.0       0.0       0.0   0.308776   \n",
       "97944       0      0        1      0.0       0.0       0.0   0.763582   \n",
       "\n",
       "       전년대비 증감율(%)  2122인구증감율  2122경제활동인구증감율  2021전기차비율  2022전기차비율  \\\n",
       "0         0.484701   0.280973       0.635659   0.785802   0.820669   \n",
       "1         0.484701   0.280973       0.635659   0.785802   0.820669   \n",
       "2         0.484701   0.280973       0.635659   0.785802   0.820669   \n",
       "3         0.484701   0.280973       0.635659   0.785802   0.820669   \n",
       "4         0.484701   0.280973       0.635659   0.785802   0.820669   \n",
       "...            ...        ...            ...        ...        ...   \n",
       "97940     0.409769   0.511062       0.768734   0.730722   0.757852   \n",
       "97941     0.470721   0.471239       0.758398   0.369645   0.367781   \n",
       "97942     0.512941   0.672566       0.877261   0.789474   0.827761   \n",
       "97943     0.512941   0.672566       0.877261   0.789474   0.827761   \n",
       "97944     0.470721   0.471239       0.758398   0.369645   0.367781   \n",
       "\n",
       "       2122전기차증감율  2개년 통계_1  2개년 통계_2  충전기 유무  \n",
       "0        0.890143 -0.622198 -0.037425       1  \n",
       "1        0.890143 -0.622198 -0.037425       1  \n",
       "2        0.890143 -0.622198 -0.037425       1  \n",
       "3        0.890143 -0.622198 -0.037425       1  \n",
       "4        0.890143 -0.622198 -0.037425       1  \n",
       "...           ...       ...       ...     ...  \n",
       "97940    0.930634 -0.302885  0.378726       0  \n",
       "97941    0.926983  1.922094 -0.097575       0  \n",
       "97942    0.966147 -0.597325 -0.048238       0  \n",
       "97943    0.966147 -0.597325 -0.048238       0  \n",
       "97944    0.926983  1.922094 -0.097575       0  \n",
       "\n",
       "[97945 rows x 16 columns]"
      ]
     },
     "execution_count": 141,
     "metadata": {},
     "output_type": "execute_result"
    }
   ],
   "source": [
    "dts"
   ]
  }
 ],
 "metadata": {
  "kernelspec": {
   "display_name": "tf_env",
   "language": "python",
   "name": "python3"
  },
  "language_info": {
   "codemirror_mode": {
    "name": "ipython",
    "version": 3
   },
   "file_extension": ".py",
   "mimetype": "text/x-python",
   "name": "python",
   "nbconvert_exporter": "python",
   "pygments_lexer": "ipython3",
   "version": "3.10.8 | packaged by conda-forge | (main, Nov 24 2022, 14:07:00) [MSC v.1916 64 bit (AMD64)]"
  },
  "orig_nbformat": 4,
  "vscode": {
   "interpreter": {
    "hash": "1dab2a5252f2f048dde9aff3cc6f578c8ac5c40b97197b231877de9f0816cb1c"
   }
  }
 },
 "nbformat": 4,
 "nbformat_minor": 2
}
