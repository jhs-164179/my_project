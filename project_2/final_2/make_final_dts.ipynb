{
 "cells": [
  {
   "cell_type": "code",
   "execution_count": 1,
   "metadata": {},
   "outputs": [],
   "source": [
    "import pandas as pd\n",
    "import numpy as np"
   ]
  },
  {
   "attachments": {},
   "cell_type": "markdown",
   "metadata": {},
   "source": [
    "# 주유소 데이터 가공"
   ]
  },
  {
   "cell_type": "code",
   "execution_count": 74,
   "metadata": {},
   "outputs": [],
   "source": [
    "jy=pd.read_csv('data_project/주유소 좌표 정리 소수점 3자리.csv').drop('Unnamed: 0',axis=1)"
   ]
  },
  {
   "cell_type": "code",
   "execution_count": 77,
   "metadata": {},
   "outputs": [],
   "source": [
    "jy['주소_2']=jy['주소'].str.split(' ')"
   ]
  },
  {
   "cell_type": "code",
   "execution_count": 114,
   "metadata": {},
   "outputs": [],
   "source": [
    "jy['주소_3']=jy['주소'].str.replace(' ','')"
   ]
  },
  {
   "cell_type": "code",
   "execution_count": 130,
   "metadata": {},
   "outputs": [
    {
     "data": {
      "text/plain": [
       "0      성산읍\n",
       "1      일주동\n",
       "2      안덕면\n",
       "3      대정읍\n",
       "4      일주동\n",
       "      ... \n",
       "190    리로9\n",
       "191    북로2\n",
       "192    문로1\n",
       "193    좌읍조\n",
       "194    형로1\n",
       "Name: 주소_3, Length: 195, dtype: object"
      ]
     },
     "execution_count": 130,
     "metadata": {},
     "output_type": "execute_result"
    }
   ],
   "source": [
    "jy['주소_3'].str[11:14]"
   ]
  },
  {
   "cell_type": "code",
   "execution_count": 131,
   "metadata": {},
   "outputs": [],
   "source": [
    "addr_lst=[]\n",
    "\n",
    "for addr in jy['주소_3']:\n",
    "    if addr[7:10]=='제주시':\n",
    "        if addr[10:13][-1] in ['읍','면']:\n",
    "            addr_lst.append('제주특별자치도 제주시 '+addr[10:13])\n",
    "        else:\n",
    "            addr_lst.append('제주특별자치도 제주시')\n",
    "    else:\n",
    "        if addr[11:14][-1] in ['읍','면']:\n",
    "            addr_lst.append('제주특별자치도 서귀포시 '+addr[11:14])\n",
    "        else:\n",
    "            addr_lst.append('제주특별자치도 서귀포시')"
   ]
  },
  {
   "cell_type": "code",
   "execution_count": 132,
   "metadata": {},
   "outputs": [
    {
     "data": {
      "text/plain": [
       "array(['제주특별자치도 서귀포시 성산읍', '제주특별자치도 서귀포시', '제주특별자치도 서귀포시 안덕면',\n",
       "       '제주특별자치도 서귀포시 대정읍', '제주특별자치도 서귀포시 표선면', '제주특별자치도 서귀포시 남원읍',\n",
       "       '제주특별자치도 제주시', '제주특별자치도 제주시 한경면', '제주특별자치도 제주시 애월읍',\n",
       "       '제주특별자치도 제주시 우도면', '제주특별자치도 제주시 구좌읍', '제주특별자치도 제주시 한림읍',\n",
       "       '제주특별자치도 제주시 조천읍', '제주특별자치도 제주시 추자면'], dtype=object)"
      ]
     },
     "execution_count": 132,
     "metadata": {},
     "output_type": "execute_result"
    }
   ],
   "source": [
    "pd.Series(addr_lst).unique()"
   ]
  },
  {
   "cell_type": "code",
   "execution_count": 135,
   "metadata": {},
   "outputs": [],
   "source": [
    "jy['주소_4']=addr_lst"
   ]
  },
  {
   "cell_type": "code",
   "execution_count": 137,
   "metadata": {},
   "outputs": [],
   "source": [
    "jy_final = jy.drop(['주소','주소_3'],axis=1)"
   ]
  },
  {
   "cell_type": "code",
   "execution_count": 139,
   "metadata": {},
   "outputs": [
    {
     "data": {
      "text/html": [
       "<div>\n",
       "<style scoped>\n",
       "    .dataframe tbody tr th:only-of-type {\n",
       "        vertical-align: middle;\n",
       "    }\n",
       "\n",
       "    .dataframe tbody tr th {\n",
       "        vertical-align: top;\n",
       "    }\n",
       "\n",
       "    .dataframe thead th {\n",
       "        text-align: right;\n",
       "    }\n",
       "</style>\n",
       "<table border=\"1\" class=\"dataframe\">\n",
       "  <thead>\n",
       "    <tr style=\"text-align: right;\">\n",
       "      <th></th>\n",
       "      <th>상호</th>\n",
       "      <th>위도</th>\n",
       "      <th>경도</th>\n",
       "      <th>주소_4</th>\n",
       "    </tr>\n",
       "  </thead>\n",
       "  <tbody>\n",
       "    <tr>\n",
       "      <th>0</th>\n",
       "      <td>성산일출봉농협주유소</td>\n",
       "      <td>33.425</td>\n",
       "      <td>126.907</td>\n",
       "      <td>제주특별자치도 서귀포시 성산읍</td>\n",
       "    </tr>\n",
       "  </tbody>\n",
       "</table>\n",
       "</div>"
      ],
      "text/plain": [
       "           상호      위도       경도              주소_4\n",
       "0  성산일출봉농협주유소  33.425  126.907  제주특별자치도 서귀포시 성산읍"
      ]
     },
     "execution_count": 139,
     "metadata": {},
     "output_type": "execute_result"
    }
   ],
   "source": [
    "jy_final.head(1)"
   ]
  },
  {
   "cell_type": "code",
   "execution_count": 140,
   "metadata": {},
   "outputs": [],
   "source": [
    "jy_final.to_csv('data_project/final_data/jooyou.csv',index=False)"
   ]
  },
  {
   "attachments": {},
   "cell_type": "markdown",
   "metadata": {},
   "source": [
    "# 우도,추자면 데이터 추가"
   ]
  },
  {
   "cell_type": "code",
   "execution_count": 13,
   "metadata": {},
   "outputs": [],
   "source": [
    "new_jj=pd.read_excel('2021년 지방도 교통량 조사 결과(제주시).xlsx',header=7)"
   ]
  },
  {
   "cell_type": "code",
   "execution_count": 17,
   "metadata": {},
   "outputs": [],
   "source": [
    "new_jj=new_jj.loc[:13]"
   ]
  },
  {
   "cell_type": "code",
   "execution_count": 30,
   "metadata": {},
   "outputs": [],
   "source": [
    "new_jj=new_jj[new_jj.columns[2:8]]"
   ]
  },
  {
   "cell_type": "code",
   "execution_count": 33,
   "metadata": {},
   "outputs": [],
   "source": [
    "new_jj=new_jj.rename(columns={'Unnamed: 2':'읍면동'})"
   ]
  },
  {
   "cell_type": "code",
   "execution_count": 36,
   "metadata": {},
   "outputs": [],
   "source": [
    "new_jj=new_jj.loc[6:7]"
   ]
  },
  {
   "cell_type": "code",
   "execution_count": 40,
   "metadata": {},
   "outputs": [],
   "source": [
    "new_jj=new_jj.drop('지점수',axis=1)\n",
    "new_jj.rename(columns={'읍면동':'지역(읍,면,동)','증감':'전년대비 증감대수','증감율':'전년대비 증감율(%)'},inplace=True)"
   ]
  },
  {
   "cell_type": "code",
   "execution_count": 41,
   "metadata": {},
   "outputs": [
    {
     "data": {
      "text/html": [
       "<div>\n",
       "<style scoped>\n",
       "    .dataframe tbody tr th:only-of-type {\n",
       "        vertical-align: middle;\n",
       "    }\n",
       "\n",
       "    .dataframe tbody tr th {\n",
       "        vertical-align: top;\n",
       "    }\n",
       "\n",
       "    .dataframe thead th {\n",
       "        text-align: right;\n",
       "    }\n",
       "</style>\n",
       "<table border=\"1\" class=\"dataframe\">\n",
       "  <thead>\n",
       "    <tr style=\"text-align: right;\">\n",
       "      <th></th>\n",
       "      <th>지역(읍,면,동)</th>\n",
       "      <th>2020교통량</th>\n",
       "      <th>2021교통량</th>\n",
       "      <th>전년대비 증감대수</th>\n",
       "      <th>전년대비 증감율(%)</th>\n",
       "    </tr>\n",
       "  </thead>\n",
       "  <tbody>\n",
       "    <tr>\n",
       "      <th>6</th>\n",
       "      <td>추자면</td>\n",
       "      <td>452</td>\n",
       "      <td>399</td>\n",
       "      <td>-53.0</td>\n",
       "      <td>-0.117257</td>\n",
       "    </tr>\n",
       "    <tr>\n",
       "      <th>7</th>\n",
       "      <td>우도면</td>\n",
       "      <td>2803</td>\n",
       "      <td>2622</td>\n",
       "      <td>-181.0</td>\n",
       "      <td>-0.064574</td>\n",
       "    </tr>\n",
       "  </tbody>\n",
       "</table>\n",
       "</div>"
      ],
      "text/plain": [
       "  지역(읍,면,동) 2020교통량 2021교통량  전년대비 증감대수 전년대비 증감율(%)\n",
       "6       추자면     452     399      -53.0   -0.117257\n",
       "7       우도면    2803    2622     -181.0   -0.064574"
      ]
     },
     "execution_count": 41,
     "metadata": {},
     "output_type": "execute_result"
    }
   ],
   "source": [
    "new_jj"
   ]
  },
  {
   "cell_type": "code",
   "execution_count": 52,
   "metadata": {},
   "outputs": [],
   "source": [
    "new_jj['전년대비 증감율(%)']=new_jj['전년대비 증감율(%)']*100"
   ]
  },
  {
   "cell_type": "code",
   "execution_count": 54,
   "metadata": {},
   "outputs": [],
   "source": [
    "final_1=pd.read_csv('./data_project/final_data/traffic_final.csv').loc[:5]"
   ]
  },
  {
   "cell_type": "code",
   "execution_count": 55,
   "metadata": {},
   "outputs": [],
   "source": [
    "final_1=pd.concat([final_1, new_jj])"
   ]
  },
  {
   "cell_type": "code",
   "execution_count": 56,
   "metadata": {},
   "outputs": [],
   "source": [
    "final_2=pd.read_csv('./data_project/final_data/traffic_final.csv').loc[6:]"
   ]
  },
  {
   "cell_type": "code",
   "execution_count": 58,
   "metadata": {},
   "outputs": [],
   "source": [
    "traffic=pd.concat([final_1,final_2])"
   ]
  },
  {
   "cell_type": "code",
   "execution_count": 59,
   "metadata": {},
   "outputs": [],
   "source": [
    "traffic.to_csv('real_final_traffic.csv',index=None)"
   ]
  },
  {
   "attachments": {},
   "cell_type": "markdown",
   "metadata": {},
   "source": [
    "# 최종 데이터셋 생성"
   ]
  },
  {
   "cell_type": "code",
   "execution_count": 61,
   "metadata": {},
   "outputs": [
    {
     "name": "stderr",
     "output_type": "stream",
     "text": [
      "C:\\Users\\ggyo0\\AppData\\Local\\Temp\\ipykernel_1136\\127229384.py:1: DtypeWarning: Columns (4,5,6,7,8,9,10) have mixed types. Specify dtype option on import or set low_memory=False.\n",
      "  final_1=pd.read_csv('data_project/final_data/final.csv')\n"
     ]
    },
    {
     "data": {
      "text/html": [
       "<div>\n",
       "<style scoped>\n",
       "    .dataframe tbody tr th:only-of-type {\n",
       "        vertical-align: middle;\n",
       "    }\n",
       "\n",
       "    .dataframe tbody tr th {\n",
       "        vertical-align: top;\n",
       "    }\n",
       "\n",
       "    .dataframe thead th {\n",
       "        text-align: right;\n",
       "    }\n",
       "</style>\n",
       "<table border=\"1\" class=\"dataframe\">\n",
       "  <thead>\n",
       "    <tr style=\"text-align: right;\">\n",
       "      <th></th>\n",
       "      <th>경도_Lng-위도_Lat</th>\n",
       "      <th>경도_Lng</th>\n",
       "      <th>위도_Lat</th>\n",
       "      <th>행정구역</th>\n",
       "      <th>statNm</th>\n",
       "      <th>kind</th>\n",
       "      <th>kindDetail</th>\n",
       "      <th>parkingFree</th>\n",
       "      <th>limitYn</th>\n",
       "      <th>limitDetail</th>\n",
       "      <th>useTime</th>\n",
       "      <th>침수우려여부</th>\n",
       "      <th>관광지명</th>\n",
       "      <th>분류</th>\n",
       "      <th>합산 검색 수</th>\n",
       "      <th>내국인 관광객수</th>\n",
       "      <th>외국인 관광객수</th>\n",
       "    </tr>\n",
       "  </thead>\n",
       "  <tbody>\n",
       "    <tr>\n",
       "      <th>0</th>\n",
       "      <td>126.356_33.347</td>\n",
       "      <td>126.356</td>\n",
       "      <td>33.347</td>\n",
       "      <td>제주특별자치도 제주시 한림읍</td>\n",
       "      <td>그리스박물관</td>\n",
       "      <td>D0</td>\n",
       "      <td>D008</td>\n",
       "      <td>Y</td>\n",
       "      <td>N</td>\n",
       "      <td>NaN</td>\n",
       "      <td>24시간 이용가능</td>\n",
       "      <td>NaN</td>\n",
       "      <td>NaN</td>\n",
       "      <td>NaN</td>\n",
       "      <td>NaN</td>\n",
       "      <td>NaN</td>\n",
       "      <td>NaN</td>\n",
       "    </tr>\n",
       "  </tbody>\n",
       "</table>\n",
       "</div>"
      ],
      "text/plain": [
       "    경도_Lng-위도_Lat   경도_Lng  위도_Lat             행정구역  statNm kind kindDetail  \\\n",
       "0  126.356_33.347  126.356  33.347  제주특별자치도 제주시 한림읍  그리스박물관   D0       D008   \n",
       "\n",
       "  parkingFree limitYn limitDetail    useTime 침수우려여부 관광지명   분류  합산 검색 수  \\\n",
       "0           Y       N         NaN  24시간 이용가능    NaN  NaN  NaN      NaN   \n",
       "\n",
       "   내국인 관광객수  외국인 관광객수  \n",
       "0       NaN       NaN  "
      ]
     },
     "execution_count": 61,
     "metadata": {},
     "output_type": "execute_result"
    }
   ],
   "source": [
    "final_1=pd.read_csv('data_project/final_data/final.csv')\n",
    "final_1.head(1)"
   ]
  },
  {
   "cell_type": "code",
   "execution_count": 63,
   "metadata": {},
   "outputs": [],
   "source": [
    "cctv=pd.read_csv('data_project/final_data/cctv_final.csv')\n",
    "car=pd.read_csv('data_project/final_data/eleccar.csv')\n",
    "human=pd.read_csv('data_project/final_data/human.csv')\n",
    "jijin=pd.read_csv('data_project/final_data/jijin.csv')\n",
    "# pd.read_csv('data_project/final_data/traffic_final.csv')\n",
    "# pd.read_csv('data_project/final_data/jooyou.csv')"
   ]
  },
  {
   "cell_type": "markdown",
   "metadata": {},
   "source": [
    "## 지진 데이터 프레임 수정"
   ]
  },
  {
   "cell_type": "markdown",
   "metadata": {},
   "source": [
    "### 경도-위도 컬럼 추가"
   ]
  },
  {
   "cell_type": "code",
   "execution_count": 175,
   "metadata": {},
   "outputs": [],
   "source": [
    "jijin['경도_Lng-위도_Lat']=['126.400_33.470','126.250_33.290']"
   ]
  },
  {
   "attachments": {},
   "cell_type": "markdown",
   "metadata": {},
   "source": [
    "### 지진 발생 유무 컬럼 추가"
   ]
  },
  {
   "cell_type": "code",
   "execution_count": 147,
   "metadata": {},
   "outputs": [],
   "source": [
    "jijin['지진 발생']=['T','T']"
   ]
  },
  {
   "attachments": {},
   "cell_type": "markdown",
   "metadata": {},
   "source": [
    "## cctv 데이터프레임 수정"
   ]
  },
  {
   "cell_type": "markdown",
   "metadata": {},
   "source": [
    "### cctv 유무 컬럼 추가"
   ]
  },
  {
   "cell_type": "code",
   "execution_count": 153,
   "metadata": {},
   "outputs": [],
   "source": [
    "cctv['cctv 유무'] ='T'"
   ]
  },
  {
   "cell_type": "code",
   "execution_count": 177,
   "metadata": {},
   "outputs": [
    {
     "data": {
      "text/html": [
       "<div>\n",
       "<style scoped>\n",
       "    .dataframe tbody tr th:only-of-type {\n",
       "        vertical-align: middle;\n",
       "    }\n",
       "\n",
       "    .dataframe tbody tr th {\n",
       "        vertical-align: top;\n",
       "    }\n",
       "\n",
       "    .dataframe thead th {\n",
       "        text-align: right;\n",
       "    }\n",
       "</style>\n",
       "<table border=\"1\" class=\"dataframe\">\n",
       "  <thead>\n",
       "    <tr style=\"text-align: right;\">\n",
       "      <th></th>\n",
       "      <th>지역(읍,면,동)</th>\n",
       "      <th>위도</th>\n",
       "      <th>경도</th>\n",
       "      <th>cctv 유무</th>\n",
       "      <th>경도_Lng-위도_Lat</th>\n",
       "    </tr>\n",
       "  </thead>\n",
       "  <tbody>\n",
       "    <tr>\n",
       "      <th>0</th>\n",
       "      <td>제주시</td>\n",
       "      <td>33.503</td>\n",
       "      <td>126.529</td>\n",
       "      <td>T</td>\n",
       "      <td>126.529_33.503</td>\n",
       "    </tr>\n",
       "  </tbody>\n",
       "</table>\n",
       "</div>"
      ],
      "text/plain": [
       "  지역(읍,면,동)      위도       경도 cctv 유무   경도_Lng-위도_Lat\n",
       "0       제주시  33.503  126.529       T  126.529_33.503"
      ]
     },
     "execution_count": 177,
     "metadata": {},
     "output_type": "execute_result"
    }
   ],
   "source": [
    "cctv.head(1)"
   ]
  },
  {
   "cell_type": "markdown",
   "metadata": {},
   "source": [
    "### cctv 경도-위도 컬럼 추가"
   ]
  },
  {
   "cell_type": "code",
   "execution_count": 167,
   "metadata": {},
   "outputs": [],
   "source": [
    "cctv['위도']=cctv['위도'].astype(str)\n",
    "cctv['경도']=cctv['경도'].astype(str)"
   ]
  },
  {
   "cell_type": "code",
   "execution_count": 168,
   "metadata": {},
   "outputs": [],
   "source": [
    "cctv['경도_Lng-위도_Lat']=cctv['경도']+'_'+cctv['위도']"
   ]
  },
  {
   "cell_type": "code",
   "execution_count": 170,
   "metadata": {},
   "outputs": [
    {
     "data": {
      "text/html": [
       "<div>\n",
       "<style scoped>\n",
       "    .dataframe tbody tr th:only-of-type {\n",
       "        vertical-align: middle;\n",
       "    }\n",
       "\n",
       "    .dataframe tbody tr th {\n",
       "        vertical-align: top;\n",
       "    }\n",
       "\n",
       "    .dataframe thead th {\n",
       "        text-align: right;\n",
       "    }\n",
       "</style>\n",
       "<table border=\"1\" class=\"dataframe\">\n",
       "  <thead>\n",
       "    <tr style=\"text-align: right;\">\n",
       "      <th></th>\n",
       "      <th>지역(읍,면,동)</th>\n",
       "      <th>위도</th>\n",
       "      <th>경도</th>\n",
       "      <th>cctv 유무</th>\n",
       "      <th>경도_Lng-위도_Lat</th>\n",
       "    </tr>\n",
       "  </thead>\n",
       "  <tbody>\n",
       "    <tr>\n",
       "      <th>0</th>\n",
       "      <td>제주시</td>\n",
       "      <td>33.503</td>\n",
       "      <td>126.529</td>\n",
       "      <td>T</td>\n",
       "      <td>126.529_33.503</td>\n",
       "    </tr>\n",
       "  </tbody>\n",
       "</table>\n",
       "</div>"
      ],
      "text/plain": [
       "  지역(읍,면,동)      위도       경도 cctv 유무   경도_Lng-위도_Lat\n",
       "0       제주시  33.503  126.529       T  126.529_33.503"
      ]
     },
     "execution_count": 170,
     "metadata": {},
     "output_type": "execute_result"
    }
   ],
   "source": [
    "cctv.head(1)"
   ]
  },
  {
   "cell_type": "markdown",
   "metadata": {},
   "source": [
    "### cctv 지역(읍,면,동) 컬럼 수정"
   ]
  },
  {
   "cell_type": "code",
   "execution_count": 208,
   "metadata": {},
   "outputs": [],
   "source": [
    "cctv.rename(columns={'지역(읍,면,동)':'행정구역_1'},inplace=True)"
   ]
  },
  {
   "cell_type": "code",
   "execution_count": 352,
   "metadata": {},
   "outputs": [],
   "source": [
    "lst=['제주시','애월읍','한림읍','한경면','조천읍','구좌읍']\n",
    "\n",
    "for i in range(len(cctv['행정구역_1'])):\n",
    "    if (cctv['행정구역_1'][i] in lst) and cctv['행정구역_1'][i]!='제주시':\n",
    "        cctv.at[i,'행정구역_1']='제주특별자치도 제주시 '+cctv.at[i,'행정구역_1']\n",
    "    elif (cctv['행정구역_1'][i] in lst) and cctv['행정구역_1'][i]=='제주시':\n",
    "        cctv.at[i,'행정구역_1']='제주특별자치도 '+cctv.at[i,'행정구역_1']\n",
    "    elif (cctv['행정구역_1'][i] in lst) and cctv['행정구역_1'][i]=='서귀포시':\n",
    "        cctv.at[i,'행정구역_1']='제주특별자치도 '+cctv.at[i,'행정구역_1']\n",
    "    else:\n",
    "        cctv.at[i,'행정구역_1']='제주특별자치도 서귀포시 '+cctv.at[i,'행정구역_1']\n",
    "        "
   ]
  },
  {
   "cell_type": "code",
   "execution_count": 413,
   "metadata": {},
   "outputs": [],
   "source": [
    "ind_lst=cctv[cctv['행정구역_1']=='제주특별자치도 서귀포시 서귀포시'].index"
   ]
  },
  {
   "cell_type": "code",
   "execution_count": 414,
   "metadata": {},
   "outputs": [],
   "source": [
    "for ind in ind_lst:\n",
    "    cctv.at[ind,'행정구역_1']='제주특별자치도 서귀포시'"
   ]
  },
  {
   "attachments": {},
   "cell_type": "markdown",
   "metadata": {},
   "source": [
    "## car 데이터프레임 수정"
   ]
  },
  {
   "cell_type": "code",
   "execution_count": 156,
   "metadata": {},
   "outputs": [],
   "source": [
    "car.drop(['2020전기차','2020전기차비율','2021전기차증감율'],axis=1,inplace=True)"
   ]
  },
  {
   "cell_type": "code",
   "execution_count": 158,
   "metadata": {},
   "outputs": [
    {
     "data": {
      "text/html": [
       "<div>\n",
       "<style scoped>\n",
       "    .dataframe tbody tr th:only-of-type {\n",
       "        vertical-align: middle;\n",
       "    }\n",
       "\n",
       "    .dataframe tbody tr th {\n",
       "        vertical-align: top;\n",
       "    }\n",
       "\n",
       "    .dataframe thead th {\n",
       "        text-align: right;\n",
       "    }\n",
       "</style>\n",
       "<table border=\"1\" class=\"dataframe\">\n",
       "  <thead>\n",
       "    <tr style=\"text-align: right;\">\n",
       "      <th></th>\n",
       "      <th>읍면동</th>\n",
       "      <th>2021전기차</th>\n",
       "      <th>2022전기차</th>\n",
       "      <th>2021전기차비율</th>\n",
       "      <th>2022전기차비율</th>\n",
       "      <th>2122전기차증감율</th>\n",
       "    </tr>\n",
       "  </thead>\n",
       "  <tbody>\n",
       "    <tr>\n",
       "      <th>0</th>\n",
       "      <td>제주특별자치도 제주시</td>\n",
       "      <td>14432.0</td>\n",
       "      <td>18463.0</td>\n",
       "      <td>3.02</td>\n",
       "      <td>3.63</td>\n",
       "      <td>27.93</td>\n",
       "    </tr>\n",
       "  </tbody>\n",
       "</table>\n",
       "</div>"
      ],
      "text/plain": [
       "           읍면동  2021전기차  2022전기차  2021전기차비율  2022전기차비율  2122전기차증감율\n",
       "0  제주특별자치도 제주시  14432.0  18463.0       3.02       3.63       27.93"
      ]
     },
     "execution_count": 158,
     "metadata": {},
     "output_type": "execute_result"
    }
   ],
   "source": [
    "car.head(1)"
   ]
  },
  {
   "attachments": {},
   "cell_type": "markdown",
   "metadata": {},
   "source": [
    "## human 데이터프레임 수정"
   ]
  },
  {
   "cell_type": "code",
   "execution_count": 162,
   "metadata": {},
   "outputs": [
    {
     "data": {
      "text/html": [
       "<div>\n",
       "<style scoped>\n",
       "    .dataframe tbody tr th:only-of-type {\n",
       "        vertical-align: middle;\n",
       "    }\n",
       "\n",
       "    .dataframe tbody tr th {\n",
       "        vertical-align: top;\n",
       "    }\n",
       "\n",
       "    .dataframe thead th {\n",
       "        text-align: right;\n",
       "    }\n",
       "</style>\n",
       "<table border=\"1\" class=\"dataframe\">\n",
       "  <thead>\n",
       "    <tr style=\"text-align: right;\">\n",
       "      <th></th>\n",
       "      <th>행정구역</th>\n",
       "      <th>2021인구</th>\n",
       "      <th>2022인구</th>\n",
       "      <th>2021경제활동인구</th>\n",
       "      <th>2022경제활동인구</th>\n",
       "      <th>2122인구증감율</th>\n",
       "      <th>2122경제활동인구증감율</th>\n",
       "    </tr>\n",
       "  </thead>\n",
       "  <tbody>\n",
       "    <tr>\n",
       "      <th>0</th>\n",
       "      <td>제주특별자치도 제주시</td>\n",
       "      <td>380948.0</td>\n",
       "      <td>380973.0</td>\n",
       "      <td>222656.0</td>\n",
       "      <td>235734.0</td>\n",
       "      <td>0.01</td>\n",
       "      <td>5.87</td>\n",
       "    </tr>\n",
       "  </tbody>\n",
       "</table>\n",
       "</div>"
      ],
      "text/plain": [
       "          행정구역    2021인구    2022인구  2021경제활동인구  2022경제활동인구  2122인구증감율  \\\n",
       "0  제주특별자치도 제주시  380948.0  380973.0    222656.0    235734.0       0.01   \n",
       "\n",
       "   2122경제활동인구증감율  \n",
       "0           5.87  "
      ]
     },
     "execution_count": 162,
     "metadata": {},
     "output_type": "execute_result"
    }
   ],
   "source": [
    "human.drop(['2020인구','2020경제활동인구','2021인구증감율','2021경제활동인구증감율'],axis=1,inplace=True)\n",
    "human.head(1)"
   ]
  },
  {
   "attachments": {},
   "cell_type": "markdown",
   "metadata": {},
   "source": [
    "## 주유소 데이터프레임 경도-위도 컬럼 추가"
   ]
  },
  {
   "cell_type": "code",
   "execution_count": 185,
   "metadata": {},
   "outputs": [],
   "source": [
    "jy_final['위도']=jy_final['위도'].astype(str)\n",
    "jy_final['경도']=jy_final['경도'].astype(str)"
   ]
  },
  {
   "cell_type": "code",
   "execution_count": 186,
   "metadata": {},
   "outputs": [],
   "source": [
    "jy_final['경도_Lng-위도_Lat']=jy_final['경도']+'_'+jy_final['위도']"
   ]
  },
  {
   "cell_type": "code",
   "execution_count": 187,
   "metadata": {},
   "outputs": [
    {
     "data": {
      "text/html": [
       "<div>\n",
       "<style scoped>\n",
       "    .dataframe tbody tr th:only-of-type {\n",
       "        vertical-align: middle;\n",
       "    }\n",
       "\n",
       "    .dataframe tbody tr th {\n",
       "        vertical-align: top;\n",
       "    }\n",
       "\n",
       "    .dataframe thead th {\n",
       "        text-align: right;\n",
       "    }\n",
       "</style>\n",
       "<table border=\"1\" class=\"dataframe\">\n",
       "  <thead>\n",
       "    <tr style=\"text-align: right;\">\n",
       "      <th></th>\n",
       "      <th>상호</th>\n",
       "      <th>위도</th>\n",
       "      <th>경도</th>\n",
       "      <th>주소_4</th>\n",
       "      <th>경도_Lng-위도_Lat</th>\n",
       "    </tr>\n",
       "  </thead>\n",
       "  <tbody>\n",
       "    <tr>\n",
       "      <th>0</th>\n",
       "      <td>성산일출봉농협주유소</td>\n",
       "      <td>33.425</td>\n",
       "      <td>126.907</td>\n",
       "      <td>제주특별자치도 서귀포시 성산읍</td>\n",
       "      <td>126.907_33.425</td>\n",
       "    </tr>\n",
       "  </tbody>\n",
       "</table>\n",
       "</div>"
      ],
      "text/plain": [
       "           상호      위도       경도              주소_4   경도_Lng-위도_Lat\n",
       "0  성산일출봉농협주유소  33.425  126.907  제주특별자치도 서귀포시 성산읍  126.907_33.425"
      ]
     },
     "execution_count": 187,
     "metadata": {},
     "output_type": "execute_result"
    }
   ],
   "source": [
    "jy_final.head(1)"
   ]
  },
  {
   "cell_type": "markdown",
   "metadata": {},
   "source": [
    "## 교통량 데이터프레임 수정"
   ]
  },
  {
   "cell_type": "code",
   "execution_count": 315,
   "metadata": {},
   "outputs": [],
   "source": [
    "traffic=pd.read_csv('data_project/final_data/real_final_traffic.csv')"
   ]
  },
  {
   "cell_type": "code",
   "execution_count": 316,
   "metadata": {},
   "outputs": [
    {
     "data": {
      "text/html": [
       "<div>\n",
       "<style scoped>\n",
       "    .dataframe tbody tr th:only-of-type {\n",
       "        vertical-align: middle;\n",
       "    }\n",
       "\n",
       "    .dataframe tbody tr th {\n",
       "        vertical-align: top;\n",
       "    }\n",
       "\n",
       "    .dataframe thead th {\n",
       "        text-align: right;\n",
       "    }\n",
       "</style>\n",
       "<table border=\"1\" class=\"dataframe\">\n",
       "  <thead>\n",
       "    <tr style=\"text-align: right;\">\n",
       "      <th></th>\n",
       "      <th>지역(읍,면,동)</th>\n",
       "      <th>2020교통량</th>\n",
       "      <th>2021교통량</th>\n",
       "      <th>전년대비 증감대수</th>\n",
       "      <th>전년대비 증감율(%)</th>\n",
       "    </tr>\n",
       "  </thead>\n",
       "  <tbody>\n",
       "    <tr>\n",
       "      <th>0</th>\n",
       "      <td>제주시</td>\n",
       "      <td>276496</td>\n",
       "      <td>290637</td>\n",
       "      <td>14141.0</td>\n",
       "      <td>5.110000</td>\n",
       "    </tr>\n",
       "    <tr>\n",
       "      <th>1</th>\n",
       "      <td>애월읍</td>\n",
       "      <td>169933</td>\n",
       "      <td>174918</td>\n",
       "      <td>4985.0</td>\n",
       "      <td>2.930000</td>\n",
       "    </tr>\n",
       "    <tr>\n",
       "      <th>2</th>\n",
       "      <td>구좌읍</td>\n",
       "      <td>109056</td>\n",
       "      <td>110878</td>\n",
       "      <td>1822.0</td>\n",
       "      <td>1.670000</td>\n",
       "    </tr>\n",
       "    <tr>\n",
       "      <th>3</th>\n",
       "      <td>한림읍</td>\n",
       "      <td>67346</td>\n",
       "      <td>71122</td>\n",
       "      <td>3776.0</td>\n",
       "      <td>5.610000</td>\n",
       "    </tr>\n",
       "    <tr>\n",
       "      <th>4</th>\n",
       "      <td>조천읍</td>\n",
       "      <td>67258</td>\n",
       "      <td>71713</td>\n",
       "      <td>4455.0</td>\n",
       "      <td>6.620000</td>\n",
       "    </tr>\n",
       "    <tr>\n",
       "      <th>5</th>\n",
       "      <td>한경면</td>\n",
       "      <td>21348</td>\n",
       "      <td>19227</td>\n",
       "      <td>-2121.0</td>\n",
       "      <td>-9.940000</td>\n",
       "    </tr>\n",
       "    <tr>\n",
       "      <th>6</th>\n",
       "      <td>추자면</td>\n",
       "      <td>452</td>\n",
       "      <td>399</td>\n",
       "      <td>-53.0</td>\n",
       "      <td>-11.725664</td>\n",
       "    </tr>\n",
       "    <tr>\n",
       "      <th>7</th>\n",
       "      <td>우도면</td>\n",
       "      <td>2803</td>\n",
       "      <td>2622</td>\n",
       "      <td>-181.0</td>\n",
       "      <td>-6.457367</td>\n",
       "    </tr>\n",
       "    <tr>\n",
       "      <th>8</th>\n",
       "      <td>서귀포시</td>\n",
       "      <td>159874</td>\n",
       "      <td>179050</td>\n",
       "      <td>19176.0</td>\n",
       "      <td>11.990000</td>\n",
       "    </tr>\n",
       "    <tr>\n",
       "      <th>9</th>\n",
       "      <td>안덕면</td>\n",
       "      <td>76913</td>\n",
       "      <td>89242</td>\n",
       "      <td>12329.0</td>\n",
       "      <td>16.030000</td>\n",
       "    </tr>\n",
       "    <tr>\n",
       "      <th>10</th>\n",
       "      <td>남원읍</td>\n",
       "      <td>45389</td>\n",
       "      <td>43299</td>\n",
       "      <td>-2090.0</td>\n",
       "      <td>-4.600000</td>\n",
       "    </tr>\n",
       "    <tr>\n",
       "      <th>11</th>\n",
       "      <td>대정읍</td>\n",
       "      <td>25725</td>\n",
       "      <td>31909</td>\n",
       "      <td>6184.0</td>\n",
       "      <td>24.040000</td>\n",
       "    </tr>\n",
       "    <tr>\n",
       "      <th>12</th>\n",
       "      <td>성산읍</td>\n",
       "      <td>22491</td>\n",
       "      <td>20629</td>\n",
       "      <td>-1862.0</td>\n",
       "      <td>-8.280000</td>\n",
       "    </tr>\n",
       "    <tr>\n",
       "      <th>13</th>\n",
       "      <td>표선면</td>\n",
       "      <td>18399</td>\n",
       "      <td>20325</td>\n",
       "      <td>1926.0</td>\n",
       "      <td>10.470000</td>\n",
       "    </tr>\n",
       "  </tbody>\n",
       "</table>\n",
       "</div>"
      ],
      "text/plain": [
       "   지역(읍,면,동)  2020교통량  2021교통량  전년대비 증감대수  전년대비 증감율(%)\n",
       "0        제주시   276496   290637    14141.0     5.110000\n",
       "1        애월읍   169933   174918     4985.0     2.930000\n",
       "2        구좌읍   109056   110878     1822.0     1.670000\n",
       "3        한림읍    67346    71122     3776.0     5.610000\n",
       "4        조천읍    67258    71713     4455.0     6.620000\n",
       "5        한경면    21348    19227    -2121.0    -9.940000\n",
       "6        추자면      452      399      -53.0   -11.725664\n",
       "7        우도면     2803     2622     -181.0    -6.457367\n",
       "8       서귀포시   159874   179050    19176.0    11.990000\n",
       "9        안덕면    76913    89242    12329.0    16.030000\n",
       "10       남원읍    45389    43299    -2090.0    -4.600000\n",
       "11       대정읍    25725    31909     6184.0    24.040000\n",
       "12       성산읍    22491    20629    -1862.0    -8.280000\n",
       "13       표선면    18399    20325     1926.0    10.470000"
      ]
     },
     "execution_count": 316,
     "metadata": {},
     "output_type": "execute_result"
    }
   ],
   "source": [
    "traffic"
   ]
  },
  {
   "cell_type": "code",
   "execution_count": 319,
   "metadata": {},
   "outputs": [],
   "source": [
    "traffic.rename(columns={'지역(읍,면,동)':'행정구역'},inplace=True)"
   ]
  },
  {
   "cell_type": "code",
   "execution_count": 321,
   "metadata": {},
   "outputs": [],
   "source": [
    "tr_1=traffic.iloc[:7]\n",
    "tr_2=traffic.iloc[8:]"
   ]
  },
  {
   "cell_type": "code",
   "execution_count": 322,
   "metadata": {},
   "outputs": [],
   "source": [
    "for i in range(len(tr_1)):\n",
    "    if i==0:\n",
    "        tr_1.at[i,'행정구역']='제주특별자치도 '+tr_1.at[i,'행정구역']\n",
    "    else:\n",
    "        tr_1.at[i,'행정구역']='제주특별자치도 제주시 '+tr_1.at[i,'행정구역']"
   ]
  },
  {
   "cell_type": "code",
   "execution_count": 326,
   "metadata": {},
   "outputs": [],
   "source": [
    "tr_2=tr_2.reset_index().drop('index',axis=1)"
   ]
  },
  {
   "cell_type": "code",
   "execution_count": 328,
   "metadata": {},
   "outputs": [],
   "source": [
    "for i in range(len(tr_2)):\n",
    "    if i==0:\n",
    "        tr_2.at[i,'행정구역']='제주특별자치도 '+tr_2.at[i,'행정구역']\n",
    "    else:\n",
    "        tr_2.at[i,'행정구역']='제주특별자치도 서귀포시 '+tr_2.at[i,'행정구역']"
   ]
  },
  {
   "cell_type": "code",
   "execution_count": 331,
   "metadata": {},
   "outputs": [],
   "source": [
    "traffic=pd.concat([tr_1,tr_2]).reset_index().drop('index',axis=1)"
   ]
  },
  {
   "attachments": {},
   "cell_type": "markdown",
   "metadata": {},
   "source": [
    "# merge"
   ]
  },
  {
   "cell_type": "code",
   "execution_count": 211,
   "metadata": {},
   "outputs": [
    {
     "data": {
      "text/plain": [
       "((498, 5), (14, 6), (14, 7), (2, 4), (14, 5), (195, 5))"
      ]
     },
     "execution_count": 211,
     "metadata": {},
     "output_type": "execute_result"
    }
   ],
   "source": [
    "cctv.shape,car.shape,human.shape,jijin.shape,traffic.shape,jy_final.shape"
   ]
  },
  {
   "cell_type": "code",
   "execution_count": 354,
   "metadata": {},
   "outputs": [
    {
     "data": {
      "text/html": [
       "<div>\n",
       "<style scoped>\n",
       "    .dataframe tbody tr th:only-of-type {\n",
       "        vertical-align: middle;\n",
       "    }\n",
       "\n",
       "    .dataframe tbody tr th {\n",
       "        vertical-align: top;\n",
       "    }\n",
       "\n",
       "    .dataframe thead th {\n",
       "        text-align: right;\n",
       "    }\n",
       "</style>\n",
       "<table border=\"1\" class=\"dataframe\">\n",
       "  <thead>\n",
       "    <tr style=\"text-align: right;\">\n",
       "      <th></th>\n",
       "      <th>행정구역_1</th>\n",
       "      <th>위도</th>\n",
       "      <th>경도</th>\n",
       "      <th>cctv 유무</th>\n",
       "      <th>경도_Lng-위도_Lat</th>\n",
       "    </tr>\n",
       "  </thead>\n",
       "  <tbody>\n",
       "    <tr>\n",
       "      <th>0</th>\n",
       "      <td>제주특별자치도 제주시</td>\n",
       "      <td>33.503</td>\n",
       "      <td>126.529</td>\n",
       "      <td>T</td>\n",
       "      <td>126.529_33.503</td>\n",
       "    </tr>\n",
       "  </tbody>\n",
       "</table>\n",
       "</div>"
      ],
      "text/plain": [
       "        행정구역_1      위도       경도 cctv 유무   경도_Lng-위도_Lat\n",
       "0  제주특별자치도 제주시  33.503  126.529       T  126.529_33.503"
      ]
     },
     "metadata": {},
     "output_type": "display_data"
    },
    {
     "data": {
      "text/html": [
       "<div>\n",
       "<style scoped>\n",
       "    .dataframe tbody tr th:only-of-type {\n",
       "        vertical-align: middle;\n",
       "    }\n",
       "\n",
       "    .dataframe tbody tr th {\n",
       "        vertical-align: top;\n",
       "    }\n",
       "\n",
       "    .dataframe thead th {\n",
       "        text-align: right;\n",
       "    }\n",
       "</style>\n",
       "<table border=\"1\" class=\"dataframe\">\n",
       "  <thead>\n",
       "    <tr style=\"text-align: right;\">\n",
       "      <th></th>\n",
       "      <th>읍면동</th>\n",
       "      <th>2021전기차</th>\n",
       "      <th>2022전기차</th>\n",
       "      <th>2021전기차비율</th>\n",
       "      <th>2022전기차비율</th>\n",
       "      <th>2122전기차증감율</th>\n",
       "    </tr>\n",
       "  </thead>\n",
       "  <tbody>\n",
       "    <tr>\n",
       "      <th>0</th>\n",
       "      <td>제주특별자치도 제주시</td>\n",
       "      <td>14432.0</td>\n",
       "      <td>18463.0</td>\n",
       "      <td>3.02</td>\n",
       "      <td>3.63</td>\n",
       "      <td>27.93</td>\n",
       "    </tr>\n",
       "  </tbody>\n",
       "</table>\n",
       "</div>"
      ],
      "text/plain": [
       "           읍면동  2021전기차  2022전기차  2021전기차비율  2022전기차비율  2122전기차증감율\n",
       "0  제주특별자치도 제주시  14432.0  18463.0       3.02       3.63       27.93"
      ]
     },
     "metadata": {},
     "output_type": "display_data"
    },
    {
     "data": {
      "text/html": [
       "<div>\n",
       "<style scoped>\n",
       "    .dataframe tbody tr th:only-of-type {\n",
       "        vertical-align: middle;\n",
       "    }\n",
       "\n",
       "    .dataframe tbody tr th {\n",
       "        vertical-align: top;\n",
       "    }\n",
       "\n",
       "    .dataframe thead th {\n",
       "        text-align: right;\n",
       "    }\n",
       "</style>\n",
       "<table border=\"1\" class=\"dataframe\">\n",
       "  <thead>\n",
       "    <tr style=\"text-align: right;\">\n",
       "      <th></th>\n",
       "      <th>행정구역</th>\n",
       "      <th>2021인구</th>\n",
       "      <th>2022인구</th>\n",
       "      <th>2021경제활동인구</th>\n",
       "      <th>2022경제활동인구</th>\n",
       "      <th>2122인구증감율</th>\n",
       "      <th>2122경제활동인구증감율</th>\n",
       "    </tr>\n",
       "  </thead>\n",
       "  <tbody>\n",
       "    <tr>\n",
       "      <th>0</th>\n",
       "      <td>제주특별자치도 제주시</td>\n",
       "      <td>380948.0</td>\n",
       "      <td>380973.0</td>\n",
       "      <td>222656.0</td>\n",
       "      <td>235734.0</td>\n",
       "      <td>0.01</td>\n",
       "      <td>5.87</td>\n",
       "    </tr>\n",
       "  </tbody>\n",
       "</table>\n",
       "</div>"
      ],
      "text/plain": [
       "          행정구역    2021인구    2022인구  2021경제활동인구  2022경제활동인구  2122인구증감율  \\\n",
       "0  제주특별자치도 제주시  380948.0  380973.0    222656.0    235734.0       0.01   \n",
       "\n",
       "   2122경제활동인구증감율  \n",
       "0           5.87  "
      ]
     },
     "metadata": {},
     "output_type": "display_data"
    },
    {
     "data": {
      "text/html": [
       "<div>\n",
       "<style scoped>\n",
       "    .dataframe tbody tr th:only-of-type {\n",
       "        vertical-align: middle;\n",
       "    }\n",
       "\n",
       "    .dataframe tbody tr th {\n",
       "        vertical-align: top;\n",
       "    }\n",
       "\n",
       "    .dataframe thead th {\n",
       "        text-align: right;\n",
       "    }\n",
       "</style>\n",
       "<table border=\"1\" class=\"dataframe\">\n",
       "  <thead>\n",
       "    <tr style=\"text-align: right;\">\n",
       "      <th></th>\n",
       "      <th>위도</th>\n",
       "      <th>경도</th>\n",
       "      <th>지진 발생</th>\n",
       "      <th>경도_Lng-위도_Lat</th>\n",
       "    </tr>\n",
       "  </thead>\n",
       "  <tbody>\n",
       "    <tr>\n",
       "      <th>0</th>\n",
       "      <td>33.47</td>\n",
       "      <td>126.4</td>\n",
       "      <td>T</td>\n",
       "      <td>126.400_33.470</td>\n",
       "    </tr>\n",
       "  </tbody>\n",
       "</table>\n",
       "</div>"
      ],
      "text/plain": [
       "      위도     경도 지진 발생   경도_Lng-위도_Lat\n",
       "0  33.47  126.4     T  126.400_33.470"
      ]
     },
     "metadata": {},
     "output_type": "display_data"
    },
    {
     "data": {
      "text/html": [
       "<div>\n",
       "<style scoped>\n",
       "    .dataframe tbody tr th:only-of-type {\n",
       "        vertical-align: middle;\n",
       "    }\n",
       "\n",
       "    .dataframe tbody tr th {\n",
       "        vertical-align: top;\n",
       "    }\n",
       "\n",
       "    .dataframe thead th {\n",
       "        text-align: right;\n",
       "    }\n",
       "</style>\n",
       "<table border=\"1\" class=\"dataframe\">\n",
       "  <thead>\n",
       "    <tr style=\"text-align: right;\">\n",
       "      <th></th>\n",
       "      <th>행정구역</th>\n",
       "      <th>2020교통량</th>\n",
       "      <th>2021교통량</th>\n",
       "      <th>전년대비 증감대수</th>\n",
       "      <th>전년대비 증감율(%)</th>\n",
       "    </tr>\n",
       "  </thead>\n",
       "  <tbody>\n",
       "    <tr>\n",
       "      <th>0</th>\n",
       "      <td>제주특별자치도 제주시</td>\n",
       "      <td>276496</td>\n",
       "      <td>290637</td>\n",
       "      <td>14141.0</td>\n",
       "      <td>5.11</td>\n",
       "    </tr>\n",
       "  </tbody>\n",
       "</table>\n",
       "</div>"
      ],
      "text/plain": [
       "          행정구역  2020교통량  2021교통량  전년대비 증감대수  전년대비 증감율(%)\n",
       "0  제주특별자치도 제주시   276496   290637    14141.0         5.11"
      ]
     },
     "metadata": {},
     "output_type": "display_data"
    },
    {
     "data": {
      "text/html": [
       "<div>\n",
       "<style scoped>\n",
       "    .dataframe tbody tr th:only-of-type {\n",
       "        vertical-align: middle;\n",
       "    }\n",
       "\n",
       "    .dataframe tbody tr th {\n",
       "        vertical-align: top;\n",
       "    }\n",
       "\n",
       "    .dataframe thead th {\n",
       "        text-align: right;\n",
       "    }\n",
       "</style>\n",
       "<table border=\"1\" class=\"dataframe\">\n",
       "  <thead>\n",
       "    <tr style=\"text-align: right;\">\n",
       "      <th></th>\n",
       "      <th>상호</th>\n",
       "      <th>위도</th>\n",
       "      <th>경도</th>\n",
       "      <th>주소_4</th>\n",
       "      <th>경도_Lng-위도_Lat</th>\n",
       "    </tr>\n",
       "  </thead>\n",
       "  <tbody>\n",
       "    <tr>\n",
       "      <th>0</th>\n",
       "      <td>성산일출봉농협주유소</td>\n",
       "      <td>33.425</td>\n",
       "      <td>126.907</td>\n",
       "      <td>제주특별자치도 서귀포시 성산읍</td>\n",
       "      <td>126.907_33.425</td>\n",
       "    </tr>\n",
       "  </tbody>\n",
       "</table>\n",
       "</div>"
      ],
      "text/plain": [
       "           상호      위도       경도              주소_4   경도_Lng-위도_Lat\n",
       "0  성산일출봉농협주유소  33.425  126.907  제주특별자치도 서귀포시 성산읍  126.907_33.425"
      ]
     },
     "metadata": {},
     "output_type": "display_data"
    }
   ],
   "source": [
    "display(cctv.head(1),car.head(1),human.head(1),jijin.head(1),traffic.head(1),jy_final.head(1))"
   ]
  },
  {
   "cell_type": "code",
   "execution_count": 201,
   "metadata": {},
   "outputs": [
    {
     "name": "stdout",
     "output_type": "stream",
     "text": [
      "(97674, 17)\n"
     ]
    },
    {
     "data": {
      "text/html": [
       "<div>\n",
       "<style scoped>\n",
       "    .dataframe tbody tr th:only-of-type {\n",
       "        vertical-align: middle;\n",
       "    }\n",
       "\n",
       "    .dataframe tbody tr th {\n",
       "        vertical-align: top;\n",
       "    }\n",
       "\n",
       "    .dataframe thead th {\n",
       "        text-align: right;\n",
       "    }\n",
       "</style>\n",
       "<table border=\"1\" class=\"dataframe\">\n",
       "  <thead>\n",
       "    <tr style=\"text-align: right;\">\n",
       "      <th></th>\n",
       "      <th>경도_Lng-위도_Lat</th>\n",
       "      <th>경도_Lng</th>\n",
       "      <th>위도_Lat</th>\n",
       "      <th>행정구역</th>\n",
       "      <th>statNm</th>\n",
       "      <th>kind</th>\n",
       "      <th>kindDetail</th>\n",
       "      <th>parkingFree</th>\n",
       "      <th>limitYn</th>\n",
       "      <th>limitDetail</th>\n",
       "      <th>useTime</th>\n",
       "      <th>침수우려여부</th>\n",
       "      <th>관광지명</th>\n",
       "      <th>분류</th>\n",
       "      <th>합산 검색 수</th>\n",
       "      <th>내국인 관광객수</th>\n",
       "      <th>외국인 관광객수</th>\n",
       "    </tr>\n",
       "  </thead>\n",
       "  <tbody>\n",
       "    <tr>\n",
       "      <th>0</th>\n",
       "      <td>126.356_33.347</td>\n",
       "      <td>126.356</td>\n",
       "      <td>33.347</td>\n",
       "      <td>제주특별자치도 제주시 한림읍</td>\n",
       "      <td>그리스박물관</td>\n",
       "      <td>D0</td>\n",
       "      <td>D008</td>\n",
       "      <td>Y</td>\n",
       "      <td>N</td>\n",
       "      <td>NaN</td>\n",
       "      <td>24시간 이용가능</td>\n",
       "      <td>NaN</td>\n",
       "      <td>NaN</td>\n",
       "      <td>NaN</td>\n",
       "      <td>NaN</td>\n",
       "      <td>NaN</td>\n",
       "      <td>NaN</td>\n",
       "    </tr>\n",
       "  </tbody>\n",
       "</table>\n",
       "</div>"
      ],
      "text/plain": [
       "    경도_Lng-위도_Lat   경도_Lng  위도_Lat             행정구역  statNm kind kindDetail  \\\n",
       "0  126.356_33.347  126.356  33.347  제주특별자치도 제주시 한림읍  그리스박물관   D0       D008   \n",
       "\n",
       "  parkingFree limitYn limitDetail    useTime 침수우려여부 관광지명   분류  합산 검색 수  \\\n",
       "0           Y       N         NaN  24시간 이용가능    NaN  NaN  NaN      NaN   \n",
       "\n",
       "   내국인 관광객수  외국인 관광객수  \n",
       "0       NaN       NaN  "
      ]
     },
     "metadata": {},
     "output_type": "display_data"
    }
   ],
   "source": [
    "print(final_1.shape)\n",
    "display(final_1.head(1))"
   ]
  },
  {
   "cell_type": "code",
   "execution_count": 234,
   "metadata": {},
   "outputs": [],
   "source": [
    "m1=pd.merge(final_1, jijin, how='outer')"
   ]
  },
  {
   "cell_type": "code",
   "execution_count": 248,
   "metadata": {},
   "outputs": [],
   "source": [
    "m1.drop(['위도','경도'],axis=1,inplace=True)"
   ]
  },
  {
   "cell_type": "code",
   "execution_count": 250,
   "metadata": {},
   "outputs": [],
   "source": [
    "m2=pd.merge(m1,jy_final,how='outer')"
   ]
  },
  {
   "cell_type": "code",
   "execution_count": 255,
   "metadata": {},
   "outputs": [],
   "source": [
    "ind_lst=m2[np.logical_and(m2['행정구역'].isna(),m2['주소_4'].notna())].index"
   ]
  },
  {
   "cell_type": "code",
   "execution_count": 258,
   "metadata": {},
   "outputs": [],
   "source": [
    "for ind in ind_lst:\n",
    "    m2.at[ind,'행정구역']=m2.at[ind,'주소_4']"
   ]
  },
  {
   "cell_type": "code",
   "execution_count": 261,
   "metadata": {},
   "outputs": [],
   "source": [
    "ind_lst=m2[np.logical_and(m2['경도_Lng'].isna(),m2['경도'].notna())].index"
   ]
  },
  {
   "cell_type": "code",
   "execution_count": 262,
   "metadata": {},
   "outputs": [],
   "source": [
    "for ind in ind_lst:\n",
    "    m2.at[ind,'경도_Lng']=m2.at[ind,'경도']\n",
    "    m2.at[ind,'위도_Lat']=m2.at[ind,'위도']"
   ]
  },
  {
   "cell_type": "code",
   "execution_count": 264,
   "metadata": {},
   "outputs": [],
   "source": [
    "m2.drop(['위도','경도','주소_4'],axis=1,inplace=True)"
   ]
  },
  {
   "cell_type": "code",
   "execution_count": 267,
   "metadata": {},
   "outputs": [],
   "source": [
    "m2=m2.rename(columns={'상호':'주유소명'})"
   ]
  },
  {
   "cell_type": "code",
   "execution_count": 268,
   "metadata": {},
   "outputs": [
    {
     "data": {
      "text/plain": [
       "(97757, 19)"
      ]
     },
     "execution_count": 268,
     "metadata": {},
     "output_type": "execute_result"
    }
   ],
   "source": [
    "m2.shape"
   ]
  },
  {
   "cell_type": "code",
   "execution_count": 415,
   "metadata": {},
   "outputs": [],
   "source": [
    "m3=pd.merge(m2,cctv,how='outer')"
   ]
  },
  {
   "cell_type": "code",
   "execution_count": 416,
   "metadata": {},
   "outputs": [],
   "source": [
    "ind_lst=m3[m3['cctv 유무'].isna()].index"
   ]
  },
  {
   "cell_type": "code",
   "execution_count": 417,
   "metadata": {},
   "outputs": [],
   "source": [
    "for ind in ind_lst:\n",
    "    m3.at[ind,'cctv 유무']='F'"
   ]
  },
  {
   "cell_type": "code",
   "execution_count": 418,
   "metadata": {},
   "outputs": [],
   "source": [
    "ind_lst=m3[np.logical_and(m3['경도_Lng'].isna(),m3['경도'].notna())].index"
   ]
  },
  {
   "cell_type": "code",
   "execution_count": 419,
   "metadata": {},
   "outputs": [],
   "source": [
    "for ind in ind_lst:\n",
    "    m3.at[ind,'경도_Lng']=m3.at[ind,'경도']\n",
    "    m3.at[ind,'위도_Lat']=m3.at[ind,'위도']"
   ]
  },
  {
   "cell_type": "code",
   "execution_count": 420,
   "metadata": {},
   "outputs": [],
   "source": [
    "m3.drop(['위도','경도'],axis=1,inplace=True)"
   ]
  },
  {
   "cell_type": "code",
   "execution_count": 421,
   "metadata": {},
   "outputs": [],
   "source": [
    "ind_lst=m3[np.logical_and(m3['행정구역'].isna(),m3['행정구역_1'].notna())].index"
   ]
  },
  {
   "cell_type": "code",
   "execution_count": 422,
   "metadata": {},
   "outputs": [],
   "source": [
    "for ind in ind_lst:\n",
    "    m3.at[ind,'행정구역']=m3.at[ind,'행정구역_1']\n",
    "    m3.at[ind,'행정구역']=m3.at[ind,'행정구역_1']"
   ]
  },
  {
   "cell_type": "code",
   "execution_count": 423,
   "metadata": {},
   "outputs": [],
   "source": [
    "m3.drop('행정구역_1', axis=1,inplace=True)"
   ]
  },
  {
   "cell_type": "code",
   "execution_count": 424,
   "metadata": {},
   "outputs": [],
   "source": [
    "# traffic, human, car\n",
    "m4=pd.merge(m3, traffic, how='left', left_on='행정구역', right_on='행정구역')"
   ]
  },
  {
   "cell_type": "code",
   "execution_count": 425,
   "metadata": {},
   "outputs": [],
   "source": [
    "m5=pd.merge(m4, human, how='left')"
   ]
  },
  {
   "cell_type": "code",
   "execution_count": 426,
   "metadata": {},
   "outputs": [],
   "source": [
    "m6=pd.merge(m5,car,how='left', left_on='행정구역', right_on='읍면동')"
   ]
  },
  {
   "cell_type": "code",
   "execution_count": 427,
   "metadata": {},
   "outputs": [],
   "source": [
    "m6.drop('읍면동',axis=1,inplace=True)"
   ]
  },
  {
   "cell_type": "code",
   "execution_count": 432,
   "metadata": {},
   "outputs": [
    {
     "data": {
      "text/plain": [
       "Index(['경도_Lng-위도_Lat', '경도_Lng', '위도_Lat', '행정구역', 'statNm', '침수우려여부', '관광지명',\n",
       "       '분류', '합산 검색 수', '내국인 관광객수', '외국인 관광객수', '지진 발생', '주유소명', 'cctv 유무',\n",
       "       '2020교통량', '2021교통량', '전년대비 증감대수', '전년대비 증감율(%)', '2021인구', '2022인구',\n",
       "       '2021경제활동인구', '2022경제활동인구', '2122인구증감율', '2122경제활동인구증감율', '2021전기차',\n",
       "       '2022전기차', '2021전기차비율', '2022전기차비율', '2122전기차증감율'],\n",
       "      dtype='object')"
      ]
     },
     "execution_count": 432,
     "metadata": {},
     "output_type": "execute_result"
    }
   ],
   "source": [
    "m6.columns"
   ]
  },
  {
   "cell_type": "code",
   "execution_count": 431,
   "metadata": {},
   "outputs": [],
   "source": [
    "m6.drop(m6.columns[5:11],axis=1,inplace=True)"
   ]
  },
  {
   "cell_type": "code",
   "execution_count": 433,
   "metadata": {},
   "outputs": [],
   "source": [
    "m6.drop(['주유소명','관광지명'],axis=1,inplace=True)"
   ]
  },
  {
   "cell_type": "code",
   "execution_count": 443,
   "metadata": {},
   "outputs": [],
   "source": [
    "from tqdm import tqdm\n",
    "\n",
    "naindex=m6[m6['침수우려여부'].isna()].index"
   ]
  },
  {
   "cell_type": "code",
   "execution_count": 444,
   "metadata": {},
   "outputs": [
    {
     "name": "stderr",
     "output_type": "stream",
     "text": [
      "100%|██████████| 97848/97848 [00:11<00:00, 8295.77it/s]\n"
     ]
    }
   ],
   "source": [
    "for ind in tqdm(naindex):\n",
    "    m6.at[ind,'침수우려여부']='F'"
   ]
  },
  {
   "cell_type": "code",
   "execution_count": 445,
   "metadata": {},
   "outputs": [],
   "source": [
    "naindex=m6[m6['지진 발생'].isna()].index"
   ]
  },
  {
   "cell_type": "code",
   "execution_count": 446,
   "metadata": {},
   "outputs": [
    {
     "name": "stderr",
     "output_type": "stream",
     "text": [
      "100%|██████████| 97943/97943 [00:10<00:00, 9139.40it/s]\n"
     ]
    }
   ],
   "source": [
    "for ind in tqdm(naindex):\n",
    "    m6.at[ind,'지진 발생']='F'"
   ]
  },
  {
   "cell_type": "code",
   "execution_count": 451,
   "metadata": {},
   "outputs": [],
   "source": [
    "m6.to_csv('final_of_final.csv',index=False)"
   ]
  },
  {
   "cell_type": "code",
   "execution_count": 456,
   "metadata": {},
   "outputs": [
    {
     "name": "stdout",
     "output_type": "stream",
     "text": [
      "<class 'pandas.core.frame.DataFrame'>\n",
      "RangeIndex: 97945 entries, 0 to 97944\n",
      "Data columns (total 27 columns):\n",
      " #   Column         Non-Null Count  Dtype  \n",
      "---  ------         --------------  -----  \n",
      " 0   경도_Lng-위도_Lat  97945 non-null  object \n",
      " 1   경도_Lng         97945 non-null  object \n",
      " 2   위도_Lat         97945 non-null  object \n",
      " 3   행정구역           97904 non-null  object \n",
      " 4   statNm         950 non-null    object \n",
      " 5   침수우려여부         97945 non-null  object \n",
      " 6   분류             110 non-null    object \n",
      " 7   합산 검색 수        77 non-null     float64\n",
      " 8   내국인 관광객수       51 non-null     float64\n",
      " 9   외국인 관광객수       51 non-null     float64\n",
      " 10  지진 발생          97945 non-null  object \n",
      " 11  cctv 유무        97945 non-null  object \n",
      " 12  2020교통량        97532 non-null  float64\n",
      " 13  2021교통량        97532 non-null  float64\n",
      " 14  전년대비 증감대수      97532 non-null  float64\n",
      " 15  전년대비 증감율(%)    97532 non-null  float64\n",
      " 16  2021인구         97904 non-null  float64\n",
      " 17  2022인구         97904 non-null  float64\n",
      " 18  2021경제활동인구     97904 non-null  float64\n",
      " 19  2022경제활동인구     97904 non-null  float64\n",
      " 20  2122인구증감율      97904 non-null  float64\n",
      " 21  2122경제활동인구증감율  97904 non-null  float64\n",
      " 22  2021전기차        97904 non-null  float64\n",
      " 23  2022전기차        97904 non-null  float64\n",
      " 24  2021전기차비율      97904 non-null  float64\n",
      " 25  2022전기차비율      97904 non-null  float64\n",
      " 26  2122전기차증감율     97904 non-null  float64\n",
      "dtypes: float64(18), object(9)\n",
      "memory usage: 20.2+ MB\n"
     ]
    }
   ],
   "source": [
    "m6.info()"
   ]
  },
  {
   "cell_type": "code",
   "execution_count": 457,
   "metadata": {},
   "outputs": [
    {
     "data": {
      "text/html": [
       "<div>\n",
       "<style scoped>\n",
       "    .dataframe tbody tr th:only-of-type {\n",
       "        vertical-align: middle;\n",
       "    }\n",
       "\n",
       "    .dataframe tbody tr th {\n",
       "        vertical-align: top;\n",
       "    }\n",
       "\n",
       "    .dataframe thead th {\n",
       "        text-align: right;\n",
       "    }\n",
       "</style>\n",
       "<table border=\"1\" class=\"dataframe\">\n",
       "  <thead>\n",
       "    <tr style=\"text-align: right;\">\n",
       "      <th></th>\n",
       "      <th>경도_Lng-위도_Lat</th>\n",
       "      <th>경도_Lng</th>\n",
       "      <th>위도_Lat</th>\n",
       "      <th>행정구역</th>\n",
       "      <th>statNm</th>\n",
       "      <th>침수우려여부</th>\n",
       "      <th>분류</th>\n",
       "      <th>합산 검색 수</th>\n",
       "      <th>내국인 관광객수</th>\n",
       "      <th>외국인 관광객수</th>\n",
       "      <th>...</th>\n",
       "      <th>2022인구</th>\n",
       "      <th>2021경제활동인구</th>\n",
       "      <th>2022경제활동인구</th>\n",
       "      <th>2122인구증감율</th>\n",
       "      <th>2122경제활동인구증감율</th>\n",
       "      <th>2021전기차</th>\n",
       "      <th>2022전기차</th>\n",
       "      <th>2021전기차비율</th>\n",
       "      <th>2022전기차비율</th>\n",
       "      <th>2122전기차증감율</th>\n",
       "    </tr>\n",
       "  </thead>\n",
       "  <tbody>\n",
       "    <tr>\n",
       "      <th>count</th>\n",
       "      <td>97945</td>\n",
       "      <td>97945.000</td>\n",
       "      <td>97945.000</td>\n",
       "      <td>97904</td>\n",
       "      <td>950</td>\n",
       "      <td>97945</td>\n",
       "      <td>110</td>\n",
       "      <td>77.000000</td>\n",
       "      <td>51.000000</td>\n",
       "      <td>51.000000</td>\n",
       "      <td>...</td>\n",
       "      <td>97904.000000</td>\n",
       "      <td>97904.000000</td>\n",
       "      <td>97904.00000</td>\n",
       "      <td>97904.000000</td>\n",
       "      <td>97904.000000</td>\n",
       "      <td>97904.000000</td>\n",
       "      <td>97904.000000</td>\n",
       "      <td>97904.000000</td>\n",
       "      <td>97904.000000</td>\n",
       "      <td>97904.000000</td>\n",
       "    </tr>\n",
       "    <tr>\n",
       "      <th>unique</th>\n",
       "      <td>97945</td>\n",
       "      <td>1022.000</td>\n",
       "      <td>612.000</td>\n",
       "      <td>14</td>\n",
       "      <td>935</td>\n",
       "      <td>2</td>\n",
       "      <td>23</td>\n",
       "      <td>NaN</td>\n",
       "      <td>NaN</td>\n",
       "      <td>NaN</td>\n",
       "      <td>...</td>\n",
       "      <td>NaN</td>\n",
       "      <td>NaN</td>\n",
       "      <td>NaN</td>\n",
       "      <td>NaN</td>\n",
       "      <td>NaN</td>\n",
       "      <td>NaN</td>\n",
       "      <td>NaN</td>\n",
       "      <td>NaN</td>\n",
       "      <td>NaN</td>\n",
       "      <td>NaN</td>\n",
       "    </tr>\n",
       "    <tr>\n",
       "      <th>top</th>\n",
       "      <td>126.356_33.347</td>\n",
       "      <td>126.519</td>\n",
       "      <td>33.336</td>\n",
       "      <td>제주특별자치도 서귀포시</td>\n",
       "      <td>교래자연휴양림</td>\n",
       "      <td>F</td>\n",
       "      <td>자연경관(하천/해양)</td>\n",
       "      <td>NaN</td>\n",
       "      <td>NaN</td>\n",
       "      <td>NaN</td>\n",
       "      <td>...</td>\n",
       "      <td>NaN</td>\n",
       "      <td>NaN</td>\n",
       "      <td>NaN</td>\n",
       "      <td>NaN</td>\n",
       "      <td>NaN</td>\n",
       "      <td>NaN</td>\n",
       "      <td>NaN</td>\n",
       "      <td>NaN</td>\n",
       "      <td>NaN</td>\n",
       "      <td>NaN</td>\n",
       "    </tr>\n",
       "    <tr>\n",
       "      <th>freq</th>\n",
       "      <td>1</td>\n",
       "      <td>269.000</td>\n",
       "      <td>695.000</td>\n",
       "      <td>22132</td>\n",
       "      <td>2</td>\n",
       "      <td>97848</td>\n",
       "      <td>18</td>\n",
       "      <td>NaN</td>\n",
       "      <td>NaN</td>\n",
       "      <td>NaN</td>\n",
       "      <td>...</td>\n",
       "      <td>NaN</td>\n",
       "      <td>NaN</td>\n",
       "      <td>NaN</td>\n",
       "      <td>NaN</td>\n",
       "      <td>NaN</td>\n",
       "      <td>NaN</td>\n",
       "      <td>NaN</td>\n",
       "      <td>NaN</td>\n",
       "      <td>NaN</td>\n",
       "      <td>NaN</td>\n",
       "    </tr>\n",
       "    <tr>\n",
       "      <th>mean</th>\n",
       "      <td>NaN</td>\n",
       "      <td>NaN</td>\n",
       "      <td>NaN</td>\n",
       "      <td>NaN</td>\n",
       "      <td>NaN</td>\n",
       "      <td>NaN</td>\n",
       "      <td>NaN</td>\n",
       "      <td>77583.103896</td>\n",
       "      <td>23237.477124</td>\n",
       "      <td>2175.584967</td>\n",
       "      <td>...</td>\n",
       "      <td>106663.193823</td>\n",
       "      <td>62589.699542</td>\n",
       "      <td>66389.02288</td>\n",
       "      <td>0.387792</td>\n",
       "      <td>6.061723</td>\n",
       "      <td>3973.123039</td>\n",
       "      <td>5048.461544</td>\n",
       "      <td>5.580007</td>\n",
       "      <td>6.860180</td>\n",
       "      <td>26.010999</td>\n",
       "    </tr>\n",
       "    <tr>\n",
       "      <th>std</th>\n",
       "      <td>NaN</td>\n",
       "      <td>NaN</td>\n",
       "      <td>NaN</td>\n",
       "      <td>NaN</td>\n",
       "      <td>NaN</td>\n",
       "      <td>NaN</td>\n",
       "      <td>NaN</td>\n",
       "      <td>98361.678120</td>\n",
       "      <td>29730.025109</td>\n",
       "      <td>5382.724376</td>\n",
       "      <td>...</td>\n",
       "      <td>137229.853671</td>\n",
       "      <td>80063.781940</td>\n",
       "      <td>84763.83135</td>\n",
       "      <td>0.876787</td>\n",
       "      <td>0.861306</td>\n",
       "      <td>5201.400791</td>\n",
       "      <td>6660.545318</td>\n",
       "      <td>1.317383</td>\n",
       "      <td>1.667258</td>\n",
       "      <td>2.250365</td>\n",
       "    </tr>\n",
       "    <tr>\n",
       "      <th>min</th>\n",
       "      <td>NaN</td>\n",
       "      <td>NaN</td>\n",
       "      <td>NaN</td>\n",
       "      <td>NaN</td>\n",
       "      <td>NaN</td>\n",
       "      <td>NaN</td>\n",
       "      <td>NaN</td>\n",
       "      <td>26489.000000</td>\n",
       "      <td>0.000000</td>\n",
       "      <td>0.000000</td>\n",
       "      <td>...</td>\n",
       "      <td>1572.000000</td>\n",
       "      <td>1038.000000</td>\n",
       "      <td>1074.00000</td>\n",
       "      <td>-2.120000</td>\n",
       "      <td>3.470000</td>\n",
       "      <td>67.000000</td>\n",
       "      <td>84.000000</td>\n",
       "      <td>3.020000</td>\n",
       "      <td>3.630000</td>\n",
       "      <td>22.460000</td>\n",
       "    </tr>\n",
       "    <tr>\n",
       "      <th>25%</th>\n",
       "      <td>NaN</td>\n",
       "      <td>NaN</td>\n",
       "      <td>NaN</td>\n",
       "      <td>NaN</td>\n",
       "      <td>NaN</td>\n",
       "      <td>NaN</td>\n",
       "      <td>NaN</td>\n",
       "      <td>36179.000000</td>\n",
       "      <td>0.000000</td>\n",
       "      <td>0.000000</td>\n",
       "      <td>...</td>\n",
       "      <td>15453.000000</td>\n",
       "      <td>9662.000000</td>\n",
       "      <td>10165.00000</td>\n",
       "      <td>-0.030000</td>\n",
       "      <td>5.510000</td>\n",
       "      <td>622.000000</td>\n",
       "      <td>793.000000</td>\n",
       "      <td>5.430000</td>\n",
       "      <td>6.540000</td>\n",
       "      <td>24.540000</td>\n",
       "    </tr>\n",
       "    <tr>\n",
       "      <th>50%</th>\n",
       "      <td>NaN</td>\n",
       "      <td>NaN</td>\n",
       "      <td>NaN</td>\n",
       "      <td>NaN</td>\n",
       "      <td>NaN</td>\n",
       "      <td>NaN</td>\n",
       "      <td>NaN</td>\n",
       "      <td>51560.000000</td>\n",
       "      <td>10507.083333</td>\n",
       "      <td>29.750000</td>\n",
       "      <td>...</td>\n",
       "      <td>25727.000000</td>\n",
       "      <td>15218.000000</td>\n",
       "      <td>16252.00000</td>\n",
       "      <td>0.190000</td>\n",
       "      <td>5.950000</td>\n",
       "      <td>986.000000</td>\n",
       "      <td>1273.000000</td>\n",
       "      <td>6.160000</td>\n",
       "      <td>7.590000</td>\n",
       "      <td>25.370000</td>\n",
       "    </tr>\n",
       "    <tr>\n",
       "      <th>75%</th>\n",
       "      <td>NaN</td>\n",
       "      <td>NaN</td>\n",
       "      <td>NaN</td>\n",
       "      <td>NaN</td>\n",
       "      <td>NaN</td>\n",
       "      <td>NaN</td>\n",
       "      <td>NaN</td>\n",
       "      <td>79809.000000</td>\n",
       "      <td>39317.916667</td>\n",
       "      <td>1608.250000</td>\n",
       "      <td>...</td>\n",
       "      <td>103636.000000</td>\n",
       "      <td>60745.000000</td>\n",
       "      <td>64856.00000</td>\n",
       "      <td>0.990000</td>\n",
       "      <td>6.770000</td>\n",
       "      <td>3626.000000</td>\n",
       "      <td>4516.000000</td>\n",
       "      <td>6.310000</td>\n",
       "      <td>7.700000</td>\n",
       "      <td>27.930000</td>\n",
       "    </tr>\n",
       "    <tr>\n",
       "      <th>max</th>\n",
       "      <td>NaN</td>\n",
       "      <td>NaN</td>\n",
       "      <td>NaN</td>\n",
       "      <td>NaN</td>\n",
       "      <td>NaN</td>\n",
       "      <td>NaN</td>\n",
       "      <td>NaN</td>\n",
       "      <td>803524.000000</td>\n",
       "      <td>108279.333333</td>\n",
       "      <td>34046.750000</td>\n",
       "      <td>...</td>\n",
       "      <td>380973.000000</td>\n",
       "      <td>222656.000000</td>\n",
       "      <td>235734.00000</td>\n",
       "      <td>2.400000</td>\n",
       "      <td>7.740000</td>\n",
       "      <td>14432.000000</td>\n",
       "      <td>18463.000000</td>\n",
       "      <td>8.170000</td>\n",
       "      <td>9.870000</td>\n",
       "      <td>30.130000</td>\n",
       "    </tr>\n",
       "  </tbody>\n",
       "</table>\n",
       "<p>11 rows × 27 columns</p>\n",
       "</div>"
      ],
      "text/plain": [
       "         경도_Lng-위도_Lat     경도_Lng     위도_Lat          행정구역   statNm 침수우려여부  \\\n",
       "count            97945  97945.000  97945.000         97904      950  97945   \n",
       "unique           97945   1022.000    612.000            14      935      2   \n",
       "top     126.356_33.347    126.519     33.336  제주특별자치도 서귀포시  교래자연휴양림      F   \n",
       "freq                 1    269.000    695.000         22132        2  97848   \n",
       "mean               NaN        NaN        NaN           NaN      NaN    NaN   \n",
       "std                NaN        NaN        NaN           NaN      NaN    NaN   \n",
       "min                NaN        NaN        NaN           NaN      NaN    NaN   \n",
       "25%                NaN        NaN        NaN           NaN      NaN    NaN   \n",
       "50%                NaN        NaN        NaN           NaN      NaN    NaN   \n",
       "75%                NaN        NaN        NaN           NaN      NaN    NaN   \n",
       "max                NaN        NaN        NaN           NaN      NaN    NaN   \n",
       "\n",
       "                 분류        합산 검색 수       내국인 관광객수      외국인 관광객수  ...  \\\n",
       "count           110      77.000000      51.000000     51.000000  ...   \n",
       "unique           23            NaN            NaN           NaN  ...   \n",
       "top     자연경관(하천/해양)            NaN            NaN           NaN  ...   \n",
       "freq             18            NaN            NaN           NaN  ...   \n",
       "mean            NaN   77583.103896   23237.477124   2175.584967  ...   \n",
       "std             NaN   98361.678120   29730.025109   5382.724376  ...   \n",
       "min             NaN   26489.000000       0.000000      0.000000  ...   \n",
       "25%             NaN   36179.000000       0.000000      0.000000  ...   \n",
       "50%             NaN   51560.000000   10507.083333     29.750000  ...   \n",
       "75%             NaN   79809.000000   39317.916667   1608.250000  ...   \n",
       "max             NaN  803524.000000  108279.333333  34046.750000  ...   \n",
       "\n",
       "               2022인구     2021경제활동인구    2022경제활동인구     2122인구증감율  \\\n",
       "count    97904.000000   97904.000000   97904.00000  97904.000000   \n",
       "unique            NaN            NaN           NaN           NaN   \n",
       "top               NaN            NaN           NaN           NaN   \n",
       "freq              NaN            NaN           NaN           NaN   \n",
       "mean    106663.193823   62589.699542   66389.02288      0.387792   \n",
       "std     137229.853671   80063.781940   84763.83135      0.876787   \n",
       "min       1572.000000    1038.000000    1074.00000     -2.120000   \n",
       "25%      15453.000000    9662.000000   10165.00000     -0.030000   \n",
       "50%      25727.000000   15218.000000   16252.00000      0.190000   \n",
       "75%     103636.000000   60745.000000   64856.00000      0.990000   \n",
       "max     380973.000000  222656.000000  235734.00000      2.400000   \n",
       "\n",
       "        2122경제활동인구증감율       2021전기차       2022전기차     2021전기차비율     2022전기차비율  \\\n",
       "count    97904.000000  97904.000000  97904.000000  97904.000000  97904.000000   \n",
       "unique            NaN           NaN           NaN           NaN           NaN   \n",
       "top               NaN           NaN           NaN           NaN           NaN   \n",
       "freq              NaN           NaN           NaN           NaN           NaN   \n",
       "mean         6.061723   3973.123039   5048.461544      5.580007      6.860180   \n",
       "std          0.861306   5201.400791   6660.545318      1.317383      1.667258   \n",
       "min          3.470000     67.000000     84.000000      3.020000      3.630000   \n",
       "25%          5.510000    622.000000    793.000000      5.430000      6.540000   \n",
       "50%          5.950000    986.000000   1273.000000      6.160000      7.590000   \n",
       "75%          6.770000   3626.000000   4516.000000      6.310000      7.700000   \n",
       "max          7.740000  14432.000000  18463.000000      8.170000      9.870000   \n",
       "\n",
       "          2122전기차증감율  \n",
       "count   97904.000000  \n",
       "unique           NaN  \n",
       "top              NaN  \n",
       "freq             NaN  \n",
       "mean       26.010999  \n",
       "std         2.250365  \n",
       "min        22.460000  \n",
       "25%        24.540000  \n",
       "50%        25.370000  \n",
       "75%        27.930000  \n",
       "max        30.130000  \n",
       "\n",
       "[11 rows x 27 columns]"
      ]
     },
     "execution_count": 457,
     "metadata": {},
     "output_type": "execute_result"
    }
   ],
   "source": [
    "m6.describe(include='all')"
   ]
  }
 ],
 "metadata": {
  "kernelspec": {
   "display_name": "tf_env",
   "language": "python",
   "name": "python3"
  },
  "language_info": {
   "codemirror_mode": {
    "name": "ipython",
    "version": 3
   },
   "file_extension": ".py",
   "mimetype": "text/x-python",
   "name": "python",
   "nbconvert_exporter": "python",
   "pygments_lexer": "ipython3",
   "version": "3.10.8 | packaged by conda-forge | (main, Nov 24 2022, 14:07:00) [MSC v.1916 64 bit (AMD64)]"
  },
  "orig_nbformat": 4,
  "vscode": {
   "interpreter": {
    "hash": "1dab2a5252f2f048dde9aff3cc6f578c8ac5c40b97197b231877de9f0816cb1c"
   }
  }
 },
 "nbformat": 4,
 "nbformat_minor": 2
}
