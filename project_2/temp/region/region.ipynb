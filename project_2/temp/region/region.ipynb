{
 "cells": [
  {
   "cell_type": "markdown",
   "metadata": {},
   "source": [
    "# 제주도 시,읍,면 별 위도 경도 데이터 프레임 생성\n",
    "- 최종 dts 인덱스"
   ]
  },
  {
   "cell_type": "code",
   "execution_count": 1,
   "metadata": {},
   "outputs": [],
   "source": [
    "import pandas as pd\n",
    "import numpy as np\n",
    "import json\n",
    "from tqdm import tqdm\n",
    "\n",
    "jeju_geo = json.load(open('./hangjeongdong_제주특별자치도.geojson', encoding='utf8'))"
   ]
  },
  {
   "cell_type": "code",
   "execution_count": 2,
   "metadata": {},
   "outputs": [],
   "source": [
    "key=['경도_Lng','위도_Lat','행정구역']\n",
    "lng_lst=[]\n",
    "lat_lst=[]\n",
    "region_lst=[]\n",
    "\n",
    "for geo in jeju_geo['features']:\n",
    "    \n",
    "    if geo['properties']['adm_nm'].find('동')==-1:\n",
    "        region=geo['properties']['adm_nm']\n",
    "    else:\n",
    "        if geo['properties']['adm_nm'].find('제주시')==-1:\n",
    "            region='제주특별자치도 서귀포시'\n",
    "        else:\n",
    "            region='제주특별자치도 제주시'\n",
    "    \n",
    "    for i in range(len(geo['geometry']['coordinates'])):\n",
    "        for lng,lat in geo['geometry']['coordinates'][i][0]:\n",
    "            region_lst.append(region)\n",
    "            lng_lst.append(lng)\n",
    "            lat_lst.append(lat)"
   ]
  },
  {
   "cell_type": "code",
   "execution_count": 23,
   "metadata": {},
   "outputs": [
    {
     "data": {
      "text/html": [
       "<div>\n",
       "<style scoped>\n",
       "    .dataframe tbody tr th:only-of-type {\n",
       "        vertical-align: middle;\n",
       "    }\n",
       "\n",
       "    .dataframe tbody tr th {\n",
       "        vertical-align: top;\n",
       "    }\n",
       "\n",
       "    .dataframe thead th {\n",
       "        text-align: right;\n",
       "    }\n",
       "</style>\n",
       "<table border=\"1\" class=\"dataframe\">\n",
       "  <thead>\n",
       "    <tr style=\"text-align: right;\">\n",
       "      <th></th>\n",
       "      <th>경도_Lng</th>\n",
       "      <th>위도_Lat</th>\n",
       "      <th>행정구역</th>\n",
       "    </tr>\n",
       "  </thead>\n",
       "  <tbody>\n",
       "    <tr>\n",
       "      <th>0</th>\n",
       "      <td>126.231279</td>\n",
       "      <td>33.404747</td>\n",
       "      <td>제주특별자치도 제주시 한림읍</td>\n",
       "    </tr>\n",
       "    <tr>\n",
       "      <th>1</th>\n",
       "      <td>126.229939</td>\n",
       "      <td>33.404130</td>\n",
       "      <td>제주특별자치도 제주시 한림읍</td>\n",
       "    </tr>\n",
       "  </tbody>\n",
       "</table>\n",
       "</div>"
      ],
      "text/plain": [
       "       경도_Lng     위도_Lat             행정구역\n",
       "0  126.231279  33.404747  제주특별자치도 제주시 한림읍\n",
       "1  126.229939  33.404130  제주특별자치도 제주시 한림읍"
      ]
     },
     "execution_count": 23,
     "metadata": {},
     "output_type": "execute_result"
    }
   ],
   "source": [
    "jeju_df=pd.DataFrame(dict(zip(key,[lng_lst,lat_lst,region_lst])))\n",
    "jeju_df.head(2)"
   ]
  },
  {
   "cell_type": "code",
   "execution_count": 24,
   "metadata": {},
   "outputs": [
    {
     "data": {
      "text/html": [
       "<div>\n",
       "<style scoped>\n",
       "    .dataframe tbody tr th:only-of-type {\n",
       "        vertical-align: middle;\n",
       "    }\n",
       "\n",
       "    .dataframe tbody tr th {\n",
       "        vertical-align: top;\n",
       "    }\n",
       "\n",
       "    .dataframe thead th {\n",
       "        text-align: right;\n",
       "    }\n",
       "</style>\n",
       "<table border=\"1\" class=\"dataframe\">\n",
       "  <thead>\n",
       "    <tr style=\"text-align: right;\">\n",
       "      <th></th>\n",
       "      <th>경도_Lng</th>\n",
       "      <th>위도_Lat</th>\n",
       "      <th>행정구역</th>\n",
       "    </tr>\n",
       "  </thead>\n",
       "  <tbody>\n",
       "    <tr>\n",
       "      <th>0</th>\n",
       "      <td>126.231</td>\n",
       "      <td>33.404</td>\n",
       "      <td>제주특별자치도 제주시 한림읍</td>\n",
       "    </tr>\n",
       "    <tr>\n",
       "      <th>1</th>\n",
       "      <td>126.229</td>\n",
       "      <td>33.404</td>\n",
       "      <td>제주특별자치도 제주시 한림읍</td>\n",
       "    </tr>\n",
       "  </tbody>\n",
       "</table>\n",
       "</div>"
      ],
      "text/plain": [
       "    경도_Lng  위도_Lat             행정구역\n",
       "0  126.231  33.404  제주특별자치도 제주시 한림읍\n",
       "1  126.229  33.404  제주특별자치도 제주시 한림읍"
      ]
     },
     "execution_count": 24,
     "metadata": {},
     "output_type": "execute_result"
    }
   ],
   "source": [
    "jeju_df['경도_Lng']=jeju_df['경도_Lng'].astype(str).str[:7]\n",
    "jeju_df['위도_Lat']=jeju_df['위도_Lat'].astype(str).str[:6]\n",
    "\n",
    "jeju_df.head(2)"
   ]
  },
  {
   "cell_type": "code",
   "execution_count": 25,
   "metadata": {},
   "outputs": [
    {
     "data": {
      "text/plain": [
       "4348"
      ]
     },
     "execution_count": 25,
     "metadata": {},
     "output_type": "execute_result"
    }
   ],
   "source": [
    "jeju_df.duplicated().sum()"
   ]
  },
  {
   "cell_type": "code",
   "execution_count": 26,
   "metadata": {},
   "outputs": [
    {
     "name": "stdout",
     "output_type": "stream",
     "text": [
      "<class 'pandas.core.frame.DataFrame'>\n",
      "Int64Index: 5503 entries, 0 to 9848\n",
      "Data columns (total 3 columns):\n",
      " #   Column  Non-Null Count  Dtype \n",
      "---  ------  --------------  ----- \n",
      " 0   경도_Lng  5503 non-null   object\n",
      " 1   위도_Lat  5503 non-null   object\n",
      " 2   행정구역    5503 non-null   object\n",
      "dtypes: object(3)\n",
      "memory usage: 172.0+ KB\n"
     ]
    }
   ],
   "source": [
    "jeju_df=jeju_df.drop_duplicates()\n",
    "jeju_df.info()"
   ]
  },
  {
   "cell_type": "code",
   "execution_count": 27,
   "metadata": {},
   "outputs": [
    {
     "data": {
      "text/html": [
       "<div>\n",
       "<style scoped>\n",
       "    .dataframe tbody tr th:only-of-type {\n",
       "        vertical-align: middle;\n",
       "    }\n",
       "\n",
       "    .dataframe tbody tr th {\n",
       "        vertical-align: top;\n",
       "    }\n",
       "\n",
       "    .dataframe thead th {\n",
       "        text-align: right;\n",
       "    }\n",
       "</style>\n",
       "<table border=\"1\" class=\"dataframe\">\n",
       "  <thead>\n",
       "    <tr style=\"text-align: right;\">\n",
       "      <th></th>\n",
       "      <th>경도_Lng</th>\n",
       "      <th>위도_Lat</th>\n",
       "      <th>행정구역</th>\n",
       "    </tr>\n",
       "  </thead>\n",
       "  <tbody>\n",
       "    <tr>\n",
       "      <th>count</th>\n",
       "      <td>5503</td>\n",
       "      <td>5503</td>\n",
       "      <td>5503</td>\n",
       "    </tr>\n",
       "    <tr>\n",
       "      <th>unique</th>\n",
       "      <td>791</td>\n",
       "      <td>476</td>\n",
       "      <td>14</td>\n",
       "    </tr>\n",
       "    <tr>\n",
       "      <th>top</th>\n",
       "      <td>126.619</td>\n",
       "      <td>33.358</td>\n",
       "      <td>제주특별자치도 서귀포시</td>\n",
       "    </tr>\n",
       "    <tr>\n",
       "      <th>freq</th>\n",
       "      <td>30</td>\n",
       "      <td>53</td>\n",
       "      <td>1025</td>\n",
       "    </tr>\n",
       "  </tbody>\n",
       "</table>\n",
       "</div>"
      ],
      "text/plain": [
       "         경도_Lng  위도_Lat          행정구역\n",
       "count      5503    5503          5503\n",
       "unique      791     476            14\n",
       "top     126.619  33.358  제주특별자치도 서귀포시\n",
       "freq         30      53          1025"
      ]
     },
     "execution_count": 27,
     "metadata": {},
     "output_type": "execute_result"
    }
   ],
   "source": [
    "jeju_df.describe()"
   ]
  },
  {
   "cell_type": "code",
   "execution_count": 29,
   "metadata": {},
   "outputs": [
    {
     "data": {
      "text/plain": [
       "[<matplotlib.lines.Line2D at 0x1ca3ee2df00>]"
      ]
     },
     "execution_count": 29,
     "metadata": {},
     "output_type": "execute_result"
    },
    {
     "data": {
      "image/png": "[encoded data removed]",
      "text/plain": [
       "<Figure size 700x900 with 1 Axes>"
      ]
     },
     "metadata": {},
     "output_type": "display_data"
    }
   ],
   "source": [
    "import matplotlib.pyplot as plt\n",
    "\n",
    "plt.figure(figsize=(7,9))\n",
    "plt.plot(jeju_df['경도_Lng'].astype(float),jeju_df['위도_Lat'].astype(float),'o',markersize=3)"
   ]
  },
  {
   "cell_type": "code",
   "execution_count": 34,
   "metadata": {},
   "outputs": [
    {
     "name": "stderr",
     "output_type": "stream",
     "text": [
      "100%|██████████| 14/14 [00:08<00:00,  1.68it/s]\n"
     ]
    }
   ],
   "source": [
    "key=['경도_Lng-위도_Lat','행정구역']\n",
    "lng_lat_lst=[]\n",
    "region_lst=[]\n",
    "\n",
    "regions=jeju_df['행정구역'].unique()\n",
    "regions\n",
    "\n",
    "for region in tqdm(regions):\n",
    "    lats=np.sort(jeju_df[jeju_df['행정구역']==region]['위도_Lat'].unique())\n",
    "    for lat in lats:\n",
    "        min_lng=jeju_df[np.logical_and(jeju_df['행정구역']==region, jeju_df['위도_Lat']==lat)]['경도_Lng'].min()\n",
    "        max_lng=jeju_df[np.logical_and(jeju_df['행정구역']==region, jeju_df['위도_Lat']==lat)]['경도_Lng'].max()\n",
    "        lngs=np.arange(float(min_lng),float(max_lng)+.001,.001)\n",
    "        for lng in lngs:\n",
    "            lng='{:.3f}'.format(lng)\n",
    "            lng_lat_lst.append(lng+'_'+lat)\n",
    "            region_lst.append(region)"
   ]
  },
  {
   "cell_type": "code",
   "execution_count": 38,
   "metadata": {},
   "outputs": [
    {
     "data": {
      "text/html": [
       "<div>\n",
       "<style scoped>\n",
       "    .dataframe tbody tr th:only-of-type {\n",
       "        vertical-align: middle;\n",
       "    }\n",
       "\n",
       "    .dataframe tbody tr th {\n",
       "        vertical-align: top;\n",
       "    }\n",
       "\n",
       "    .dataframe thead th {\n",
       "        text-align: right;\n",
       "    }\n",
       "</style>\n",
       "<table border=\"1\" class=\"dataframe\">\n",
       "  <thead>\n",
       "    <tr style=\"text-align: right;\">\n",
       "      <th></th>\n",
       "      <th>경도_Lng-위도_Lat</th>\n",
       "      <th>행정구역</th>\n",
       "    </tr>\n",
       "  </thead>\n",
       "  <tbody>\n",
       "    <tr>\n",
       "      <th>0</th>\n",
       "      <td>126.298_33.319</td>\n",
       "      <td>제주특별자치도 제주시 한림읍</td>\n",
       "    </tr>\n",
       "    <tr>\n",
       "      <th>1</th>\n",
       "      <td>126.299_33.319</td>\n",
       "      <td>제주특별자치도 제주시 한림읍</td>\n",
       "    </tr>\n",
       "  </tbody>\n",
       "</table>\n",
       "</div>"
      ],
      "text/plain": [
       "    경도_Lng-위도_Lat             행정구역\n",
       "0  126.298_33.319  제주특별자치도 제주시 한림읍\n",
       "1  126.299_33.319  제주특별자치도 제주시 한림읍"
      ]
     },
     "execution_count": 38,
     "metadata": {},
     "output_type": "execute_result"
    }
   ],
   "source": [
    "df_final=pd.DataFrame(dict(zip(key,[lng_lat_lst,region_lst])))\n",
    "df_final.head(2)"
   ]
  },
  {
   "cell_type": "code",
   "execution_count": 46,
   "metadata": {},
   "outputs": [],
   "source": [
    "lng_lst_2=[]\n",
    "lat_lst_2=[]\n",
    "for lnglat in df_final['경도_Lng-위도_Lat'].str.split('_'):\n",
    "    lng,lat=lnglat\n",
    "    lng_lst_2.append(lng)\n",
    "    lat_lst_2.append(lat)\n",
    "df_final['경도_Lng']=lng_lst_2\n",
    "df_final['위도_Lat']=lat_lst_2"
   ]
  },
  {
   "cell_type": "code",
   "execution_count": 50,
   "metadata": {},
   "outputs": [],
   "source": [
    "df_final=df_final[['경도_Lng-위도_Lat','경도_Lng','위도_Lat','행정구역']]"
   ]
  },
  {
   "cell_type": "code",
   "execution_count": 59,
   "metadata": {},
   "outputs": [
    {
     "data": {
      "text/plain": [
       "3870"
      ]
     },
     "execution_count": 59,
     "metadata": {},
     "output_type": "execute_result"
    }
   ],
   "source": [
    "df_final.duplicated(['경도_Lng-위도_Lat']).sum()"
   ]
  },
  {
   "cell_type": "code",
   "execution_count": 64,
   "metadata": {},
   "outputs": [],
   "source": [
    "df_final=df_final.drop_duplicates(['경도_Lng-위도_Lat']).reset_index().drop(['index'],axis=1)"
   ]
  },
  {
   "cell_type": "code",
   "execution_count": 65,
   "metadata": {},
   "outputs": [
    {
     "data": {
      "text/html": [
       "<div>\n",
       "<style scoped>\n",
       "    .dataframe tbody tr th:only-of-type {\n",
       "        vertical-align: middle;\n",
       "    }\n",
       "\n",
       "    .dataframe tbody tr th {\n",
       "        vertical-align: top;\n",
       "    }\n",
       "\n",
       "    .dataframe thead th {\n",
       "        text-align: right;\n",
       "    }\n",
       "</style>\n",
       "<table border=\"1\" class=\"dataframe\">\n",
       "  <thead>\n",
       "    <tr style=\"text-align: right;\">\n",
       "      <th></th>\n",
       "      <th>경도_Lng-위도_Lat</th>\n",
       "      <th>경도_Lng</th>\n",
       "      <th>위도_Lat</th>\n",
       "      <th>행정구역</th>\n",
       "    </tr>\n",
       "  </thead>\n",
       "  <tbody>\n",
       "    <tr>\n",
       "      <th>0</th>\n",
       "      <td>126.298_33.319</td>\n",
       "      <td>126.298</td>\n",
       "      <td>33.319</td>\n",
       "      <td>제주특별자치도 제주시 한림읍</td>\n",
       "    </tr>\n",
       "    <tr>\n",
       "      <th>1</th>\n",
       "      <td>126.299_33.319</td>\n",
       "      <td>126.299</td>\n",
       "      <td>33.319</td>\n",
       "      <td>제주특별자치도 제주시 한림읍</td>\n",
       "    </tr>\n",
       "  </tbody>\n",
       "</table>\n",
       "</div>"
      ],
      "text/plain": [
       "    경도_Lng-위도_Lat   경도_Lng  위도_Lat             행정구역\n",
       "0  126.298_33.319  126.298  33.319  제주특별자치도 제주시 한림읍\n",
       "1  126.299_33.319  126.299  33.319  제주특별자치도 제주시 한림읍"
      ]
     },
     "execution_count": 65,
     "metadata": {},
     "output_type": "execute_result"
    }
   ],
   "source": [
    "df_final.head(2)"
   ]
  },
  {
   "cell_type": "code",
   "execution_count": 66,
   "metadata": {},
   "outputs": [
    {
     "name": "stdout",
     "output_type": "stream",
     "text": [
      "<class 'pandas.core.frame.DataFrame'>\n",
      "RangeIndex: 97228 entries, 0 to 97227\n",
      "Data columns (total 4 columns):\n",
      " #   Column         Non-Null Count  Dtype \n",
      "---  ------         --------------  ----- \n",
      " 0   경도_Lng-위도_Lat  97228 non-null  object\n",
      " 1   경도_Lng         97228 non-null  object\n",
      " 2   위도_Lat         97228 non-null  object\n",
      " 3   행정구역           97228 non-null  object\n",
      "dtypes: object(4)\n",
      "memory usage: 3.0+ MB\n"
     ]
    }
   ],
   "source": [
    "df_final.info()"
   ]
  },
  {
   "cell_type": "code",
   "execution_count": 67,
   "metadata": {},
   "outputs": [
    {
     "data": {
      "text/html": [
       "<div>\n",
       "<style scoped>\n",
       "    .dataframe tbody tr th:only-of-type {\n",
       "        vertical-align: middle;\n",
       "    }\n",
       "\n",
       "    .dataframe tbody tr th {\n",
       "        vertical-align: top;\n",
       "    }\n",
       "\n",
       "    .dataframe thead th {\n",
       "        text-align: right;\n",
       "    }\n",
       "</style>\n",
       "<table border=\"1\" class=\"dataframe\">\n",
       "  <thead>\n",
       "    <tr style=\"text-align: right;\">\n",
       "      <th></th>\n",
       "      <th>경도_Lng-위도_Lat</th>\n",
       "      <th>경도_Lng</th>\n",
       "      <th>위도_Lat</th>\n",
       "      <th>행정구역</th>\n",
       "    </tr>\n",
       "  </thead>\n",
       "  <tbody>\n",
       "    <tr>\n",
       "      <th>count</th>\n",
       "      <td>97228</td>\n",
       "      <td>97228</td>\n",
       "      <td>97228</td>\n",
       "      <td>97228</td>\n",
       "    </tr>\n",
       "    <tr>\n",
       "      <th>unique</th>\n",
       "      <td>97228</td>\n",
       "      <td>831</td>\n",
       "      <td>476</td>\n",
       "      <td>14</td>\n",
       "    </tr>\n",
       "    <tr>\n",
       "      <th>top</th>\n",
       "      <td>126.298_33.319</td>\n",
       "      <td>126.518</td>\n",
       "      <td>33.312</td>\n",
       "      <td>제주특별자치도 서귀포시</td>\n",
       "    </tr>\n",
       "    <tr>\n",
       "      <th>freq</th>\n",
       "      <td>1</td>\n",
       "      <td>269</td>\n",
       "      <td>695</td>\n",
       "      <td>21954</td>\n",
       "    </tr>\n",
       "  </tbody>\n",
       "</table>\n",
       "</div>"
      ],
      "text/plain": [
       "         경도_Lng-위도_Lat   경도_Lng  위도_Lat          행정구역\n",
       "count            97228    97228   97228         97228\n",
       "unique           97228      831     476            14\n",
       "top     126.298_33.319  126.518  33.312  제주특별자치도 서귀포시\n",
       "freq                 1      269     695         21954"
      ]
     },
     "execution_count": 67,
     "metadata": {},
     "output_type": "execute_result"
    }
   ],
   "source": [
    "df_final.describe()"
   ]
  },
  {
   "cell_type": "code",
   "execution_count": 68,
   "metadata": {},
   "outputs": [],
   "source": [
    "df_final.to_csv('./lnglat.csv', index=False)"
   ]
  }
 ],
 "metadata": {
  "kernelspec": {
   "display_name": "Python 3 (ipykernel)",
   "language": "python",
   "name": "python3"
  },
  "language_info": {
   "codemirror_mode": {
    "name": "ipython",
    "version": 3
   },
   "file_extension": ".py",
   "mimetype": "text/x-python",
   "name": "python",
   "nbconvert_exporter": "python",
   "pygments_lexer": "ipython3",
   "version": "3.10.8 | packaged by conda-forge | (main, Nov 24 2022, 14:07:00) [MSC v.1916 64 bit (AMD64)]"
  },
  "toc": {
   "base_numbering": 1,
   "nav_menu": {},
   "number_sections": true,
   "sideBar": true,
   "skip_h1_title": false,
   "title_cell": "Table of Contents",
   "title_sidebar": "Contents",
   "toc_cell": false,
   "toc_position": {},
   "toc_section_display": true,
   "toc_window_display": false
  },
  "vscode": {
   "interpreter": {
    "hash": "1dab2a5252f2f048dde9aff3cc6f578c8ac5c40b97197b231877de9f0816cb1c"
   }
  }
 },
 "nbformat": 4,
 "nbformat_minor": 2
}
