{
 "cells": [
  {
   "cell_type": "code",
   "execution_count": 99,
   "metadata": {},
   "outputs": [],
   "source": [
    "import numpy as np\n",
    "import pandas as pd"
   ]
  },
  {
   "cell_type": "code",
   "execution_count": 106,
   "metadata": {},
   "outputs": [],
   "source": [
    "with open('제주,서귀포시도로침수우려지역좌표.txt', 'rt', encoding='UTF8') as f:\n",
    "    df=pd.DataFrame(f)\n"
   ]
  },
  {
   "cell_type": "code",
   "execution_count": 107,
   "metadata": {},
   "outputs": [
    {
     "data": {
      "text/html": [
       "<div>\n",
       "<style scoped>\n",
       "    .dataframe tbody tr th:only-of-type {\n",
       "        vertical-align: middle;\n",
       "    }\n",
       "\n",
       "    .dataframe tbody tr th {\n",
       "        vertical-align: top;\n",
       "    }\n",
       "\n",
       "    .dataframe thead th {\n",
       "        text-align: right;\n",
       "    }\n",
       "</style>\n",
       "<table border=\"1\" class=\"dataframe\">\n",
       "  <thead>\n",
       "    <tr style=\"text-align: right;\">\n",
       "      <th></th>\n",
       "      <th>0</th>\n",
       "    </tr>\n",
       "  </thead>\n",
       "  <tbody>\n",
       "    <tr>\n",
       "      <th>0</th>\n",
       "      <td>한림읍 대림리 1920-1\\n</td>\n",
       "    </tr>\n",
       "    <tr>\n",
       "      <th>1</th>\n",
       "      <td>사형제횟집 뒤(L=90M)\\t\\tX :126.266196, Y :33.4220357\\n</td>\n",
       "    </tr>\n",
       "    <tr>\n",
       "      <th>2</th>\n",
       "      <td>\\n</td>\n",
       "    </tr>\n",
       "    <tr>\n",
       "      <th>3</th>\n",
       "      <td>한림읍 대림리 1431\\n</td>\n",
       "    </tr>\n",
       "    <tr>\n",
       "      <th>4</th>\n",
       "      <td>인접도로(L=150M)\\t\\t\\tX :126.275427, Y :33.4226400\\n</td>\n",
       "    </tr>\n",
       "  </tbody>\n",
       "</table>\n",
       "</div>"
      ],
      "text/plain": [
       "                                                  0\n",
       "0                                  한림읍 대림리 1920-1\\n\n",
       "1  사형제횟집 뒤(L=90M)\\t\\tX :126.266196, Y :33.4220357\\n\n",
       "2                                                \\n\n",
       "3                                    한림읍 대림리 1431\\n\n",
       "4  인접도로(L=150M)\\t\\t\\tX :126.275427, Y :33.4226400\\n"
      ]
     },
     "execution_count": 107,
     "metadata": {},
     "output_type": "execute_result"
    }
   ],
   "source": [
    "df.head()"
   ]
  },
  {
   "cell_type": "code",
   "execution_count": 108,
   "metadata": {},
   "outputs": [],
   "source": [
    "df[0]=df[0].str.replace('\\n','')"
   ]
  },
  {
   "cell_type": "code",
   "execution_count": 109,
   "metadata": {},
   "outputs": [
    {
     "data": {
      "text/html": [
       "<div>\n",
       "<style scoped>\n",
       "    .dataframe tbody tr th:only-of-type {\n",
       "        vertical-align: middle;\n",
       "    }\n",
       "\n",
       "    .dataframe tbody tr th {\n",
       "        vertical-align: top;\n",
       "    }\n",
       "\n",
       "    .dataframe thead th {\n",
       "        text-align: right;\n",
       "    }\n",
       "</style>\n",
       "<table border=\"1\" class=\"dataframe\">\n",
       "  <thead>\n",
       "    <tr style=\"text-align: right;\">\n",
       "      <th></th>\n",
       "      <th>0</th>\n",
       "    </tr>\n",
       "  </thead>\n",
       "  <tbody>\n",
       "    <tr>\n",
       "      <th>0</th>\n",
       "      <td>한림읍 대림리 1920-1</td>\n",
       "    </tr>\n",
       "    <tr>\n",
       "      <th>1</th>\n",
       "      <td>사형제횟집 뒤(L=90M)\\t\\tX :126.266196, Y :33.4220357</td>\n",
       "    </tr>\n",
       "    <tr>\n",
       "      <th>2</th>\n",
       "      <td></td>\n",
       "    </tr>\n",
       "    <tr>\n",
       "      <th>3</th>\n",
       "      <td>한림읍 대림리 1431</td>\n",
       "    </tr>\n",
       "    <tr>\n",
       "      <th>4</th>\n",
       "      <td>인접도로(L=150M)\\t\\t\\tX :126.275427, Y :33.4226400</td>\n",
       "    </tr>\n",
       "  </tbody>\n",
       "</table>\n",
       "</div>"
      ],
      "text/plain": [
       "                                                0\n",
       "0                                  한림읍 대림리 1920-1\n",
       "1  사형제횟집 뒤(L=90M)\\t\\tX :126.266196, Y :33.4220357\n",
       "2                                                \n",
       "3                                    한림읍 대림리 1431\n",
       "4  인접도로(L=150M)\\t\\t\\tX :126.275427, Y :33.4226400"
      ]
     },
     "execution_count": 109,
     "metadata": {},
     "output_type": "execute_result"
    }
   ],
   "source": [
    "df.head()"
   ]
  },
  {
   "cell_type": "code",
   "execution_count": 110,
   "metadata": {},
   "outputs": [],
   "source": [
    "df=df[df[0].str.contains('X')]"
   ]
  },
  {
   "cell_type": "code",
   "execution_count": 113,
   "metadata": {},
   "outputs": [],
   "source": [
    "df=df.reset_index().drop('index',axis=1)"
   ]
  },
  {
   "cell_type": "code",
   "execution_count": 114,
   "metadata": {},
   "outputs": [
    {
     "data": {
      "text/html": [
       "<div>\n",
       "<style scoped>\n",
       "    .dataframe tbody tr th:only-of-type {\n",
       "        vertical-align: middle;\n",
       "    }\n",
       "\n",
       "    .dataframe tbody tr th {\n",
       "        vertical-align: top;\n",
       "    }\n",
       "\n",
       "    .dataframe thead th {\n",
       "        text-align: right;\n",
       "    }\n",
       "</style>\n",
       "<table border=\"1\" class=\"dataframe\">\n",
       "  <thead>\n",
       "    <tr style=\"text-align: right;\">\n",
       "      <th></th>\n",
       "      <th>0</th>\n",
       "    </tr>\n",
       "  </thead>\n",
       "  <tbody>\n",
       "    <tr>\n",
       "      <th>0</th>\n",
       "      <td>사형제횟집 뒤(L=90M)\\t\\tX :126.266196, Y :33.4220357</td>\n",
       "    </tr>\n",
       "    <tr>\n",
       "      <th>1</th>\n",
       "      <td>인접도로(L=150M)\\t\\t\\tX :126.275427, Y :33.4226400</td>\n",
       "    </tr>\n",
       "    <tr>\n",
       "      <th>2</th>\n",
       "      <td>인접도로(L=100M)\\t\\t\\tX :126.273895, Y :33.4220270</td>\n",
       "    </tr>\n",
       "    <tr>\n",
       "      <th>3</th>\n",
       "      <td>인접도로(L=100M)\\t\\t\\tX :126.251187, Y :33.4032470</td>\n",
       "    </tr>\n",
       "    <tr>\n",
       "      <th>4</th>\n",
       "      <td>애월씨앤스타 앞(L=70M)\\t\\tX :126.313658, Y :33.4650790</td>\n",
       "    </tr>\n",
       "  </tbody>\n",
       "</table>\n",
       "</div>"
      ],
      "text/plain": [
       "                                                 0\n",
       "0   사형제횟집 뒤(L=90M)\\t\\tX :126.266196, Y :33.4220357\n",
       "1   인접도로(L=150M)\\t\\t\\tX :126.275427, Y :33.4226400\n",
       "2   인접도로(L=100M)\\t\\t\\tX :126.273895, Y :33.4220270\n",
       "3   인접도로(L=100M)\\t\\t\\tX :126.251187, Y :33.4032470\n",
       "4  애월씨앤스타 앞(L=70M)\\t\\tX :126.313658, Y :33.4650790"
      ]
     },
     "execution_count": 114,
     "metadata": {},
     "output_type": "execute_result"
    }
   ],
   "source": [
    "df.head()"
   ]
  },
  {
   "cell_type": "code",
   "execution_count": 115,
   "metadata": {},
   "outputs": [],
   "source": [
    "splitval=df[0].str.find('X').values"
   ]
  },
  {
   "cell_type": "code",
   "execution_count": 116,
   "metadata": {},
   "outputs": [
    {
     "data": {
      "text/plain": [
       "array([16, 15, 15, 15, 17, 16, 23, 19, 10, 11, 11, 22, 11, 21, 18, 21, 13,\n",
       "       15, 20, 24, 16, 16, 19, 18, 20, 21, 18, 17,  9, 13, 17, 16, 15, 17,\n",
       "       18, 18, 18, 15, 14, 11,  9, 24, 23,  7, 10, 19, 17, 24, 26, 16, 15,\n",
       "       21, 17, 23, 21, 16, 20, 21, 10, 12,  8,  8,  8,  8, 24,  7,  8,  8,\n",
       "       26, 19, 20, 21, 21, 21, 19, 20, 21], dtype=int64)"
      ]
     },
     "execution_count": 116,
     "metadata": {},
     "output_type": "execute_result"
    }
   ],
   "source": [
    "splitval"
   ]
  },
  {
   "cell_type": "code",
   "execution_count": 119,
   "metadata": {},
   "outputs": [],
   "source": [
    "lst=[]\n",
    "\n",
    "for i in range(len(splitval)):\n",
    "    lst.append(df[0][i][splitval[i]:])"
   ]
  },
  {
   "cell_type": "code",
   "execution_count": 120,
   "metadata": {},
   "outputs": [],
   "source": [
    "df[0]=lst"
   ]
  },
  {
   "cell_type": "code",
   "execution_count": 124,
   "metadata": {},
   "outputs": [],
   "source": [
    "df_2=df[df[0].str.contains('~')]"
   ]
  },
  {
   "cell_type": "code",
   "execution_count": 127,
   "metadata": {},
   "outputs": [
    {
     "data": {
      "text/html": [
       "<div>\n",
       "<style scoped>\n",
       "    .dataframe tbody tr th:only-of-type {\n",
       "        vertical-align: middle;\n",
       "    }\n",
       "\n",
       "    .dataframe tbody tr th {\n",
       "        vertical-align: top;\n",
       "    }\n",
       "\n",
       "    .dataframe thead th {\n",
       "        text-align: right;\n",
       "    }\n",
       "</style>\n",
       "<table border=\"1\" class=\"dataframe\">\n",
       "  <thead>\n",
       "    <tr style=\"text-align: right;\">\n",
       "      <th></th>\n",
       "      <th>0</th>\n",
       "    </tr>\n",
       "  </thead>\n",
       "  <tbody>\n",
       "    <tr>\n",
       "      <th>11</th>\n",
       "      <td>X :126.845785, Y :33.5235370 ~ X :126.847423, ...</td>\n",
       "    </tr>\n",
       "    <tr>\n",
       "      <th>18</th>\n",
       "      <td>X :126.317522, Y :33.9452718 ~ X :126.318214, ...</td>\n",
       "    </tr>\n",
       "    <tr>\n",
       "      <th>19</th>\n",
       "      <td>X :126.328487, Y :33.9456478 ~ X :126.328668, ...</td>\n",
       "    </tr>\n",
       "    <tr>\n",
       "      <th>38</th>\n",
       "      <td>X :126.554343, Y :33.4952662 ~ X :126.555627, ...</td>\n",
       "    </tr>\n",
       "  </tbody>\n",
       "</table>\n",
       "</div>"
      ],
      "text/plain": [
       "                                                    0\n",
       "11  X :126.845785, Y :33.5235370 ~ X :126.847423, ...\n",
       "18  X :126.317522, Y :33.9452718 ~ X :126.318214, ...\n",
       "19  X :126.328487, Y :33.9456478 ~ X :126.328668, ...\n",
       "38  X :126.554343, Y :33.4952662 ~ X :126.555627, ..."
      ]
     },
     "execution_count": 127,
     "metadata": {},
     "output_type": "execute_result"
    }
   ],
   "source": [
    "df_2"
   ]
  },
  {
   "cell_type": "code",
   "execution_count": 128,
   "metadata": {},
   "outputs": [],
   "source": [
    "df=df.drop(df_2.index,axis=0)"
   ]
  },
  {
   "cell_type": "code",
   "execution_count": 129,
   "metadata": {},
   "outputs": [
    {
     "name": "stderr",
     "output_type": "stream",
     "text": [
      "C:\\Users\\ggyo0\\AppData\\Local\\Temp\\ipykernel_10492\\721645031.py:2: SettingWithCopyWarning: \n",
      "A value is trying to be set on a copy of a slice from a DataFrame.\n",
      "Try using .loc[row_indexer,col_indexer] = value instead\n",
      "\n",
      "See the caveats in the documentation: https://pandas.pydata.org/pandas-docs/stable/user_guide/indexing.html#returning-a-view-versus-a-copy\n",
      "  df_2[0]=df_2[0].str.replace('X :','').str.replace('Y :','')\n"
     ]
    }
   ],
   "source": [
    "df[0]=df[0].str.replace('X :','').str.replace('Y :','')\n",
    "df_2[0]=df_2[0].str.replace('X :','').str.replace('Y :','')"
   ]
  },
  {
   "cell_type": "code",
   "execution_count": 132,
   "metadata": {},
   "outputs": [],
   "source": [
    "df[0]=df[0].str.split(',')"
   ]
  },
  {
   "cell_type": "code",
   "execution_count": 134,
   "metadata": {},
   "outputs": [
    {
     "data": {
      "text/html": [
       "<div>\n",
       "<style scoped>\n",
       "    .dataframe tbody tr th:only-of-type {\n",
       "        vertical-align: middle;\n",
       "    }\n",
       "\n",
       "    .dataframe tbody tr th {\n",
       "        vertical-align: top;\n",
       "    }\n",
       "\n",
       "    .dataframe thead th {\n",
       "        text-align: right;\n",
       "    }\n",
       "</style>\n",
       "<table border=\"1\" class=\"dataframe\">\n",
       "  <thead>\n",
       "    <tr style=\"text-align: right;\">\n",
       "      <th></th>\n",
       "      <th>0</th>\n",
       "    </tr>\n",
       "  </thead>\n",
       "  <tbody>\n",
       "    <tr>\n",
       "      <th>0</th>\n",
       "      <td>[126.266196,  33.4220357]</td>\n",
       "    </tr>\n",
       "    <tr>\n",
       "      <th>1</th>\n",
       "      <td>[126.275427,  33.4226400]</td>\n",
       "    </tr>\n",
       "    <tr>\n",
       "      <th>2</th>\n",
       "      <td>[126.273895,  33.4220270]</td>\n",
       "    </tr>\n",
       "    <tr>\n",
       "      <th>3</th>\n",
       "      <td>[126.251187,  33.4032470]</td>\n",
       "    </tr>\n",
       "    <tr>\n",
       "      <th>4</th>\n",
       "      <td>[126.313658,  33.4650790]</td>\n",
       "    </tr>\n",
       "    <tr>\n",
       "      <th>...</th>\n",
       "      <td>...</td>\n",
       "    </tr>\n",
       "    <tr>\n",
       "      <th>72</th>\n",
       "      <td>[126.510791,  33.2758136]</td>\n",
       "    </tr>\n",
       "    <tr>\n",
       "      <th>73</th>\n",
       "      <td>[126.610626,  33.2445656]</td>\n",
       "    </tr>\n",
       "    <tr>\n",
       "      <th>74</th>\n",
       "      <td>[126.393882,  33.2659654]</td>\n",
       "    </tr>\n",
       "    <tr>\n",
       "      <th>75</th>\n",
       "      <td>[126.565031,  33.2452705]</td>\n",
       "    </tr>\n",
       "    <tr>\n",
       "      <th>76</th>\n",
       "      <td>[126.605930,  33.2628267]</td>\n",
       "    </tr>\n",
       "  </tbody>\n",
       "</table>\n",
       "<p>73 rows × 1 columns</p>\n",
       "</div>"
      ],
      "text/plain": [
       "                            0\n",
       "0   [126.266196,  33.4220357]\n",
       "1   [126.275427,  33.4226400]\n",
       "2   [126.273895,  33.4220270]\n",
       "3   [126.251187,  33.4032470]\n",
       "4   [126.313658,  33.4650790]\n",
       "..                        ...\n",
       "72  [126.510791,  33.2758136]\n",
       "73  [126.610626,  33.2445656]\n",
       "74  [126.393882,  33.2659654]\n",
       "75  [126.565031,  33.2452705]\n",
       "76  [126.605930,  33.2628267]\n",
       "\n",
       "[73 rows x 1 columns]"
      ]
     },
     "execution_count": 134,
     "metadata": {},
     "output_type": "execute_result"
    }
   ],
   "source": [
    "df"
   ]
  },
  {
   "cell_type": "code",
   "execution_count": 141,
   "metadata": {},
   "outputs": [],
   "source": [
    "df=df.reset_index().drop('index',axis=1)"
   ]
  },
  {
   "cell_type": "code",
   "execution_count": 142,
   "metadata": {},
   "outputs": [],
   "source": [
    "df_2=df_2.reset_index().drop('index',axis=1)"
   ]
  },
  {
   "cell_type": "code",
   "execution_count": 143,
   "metadata": {},
   "outputs": [
    {
     "name": "stderr",
     "output_type": "stream",
     "text": [
      "100%|██████████| 73/73 [00:00<00:00, 36402.83it/s]\n"
     ]
    }
   ],
   "source": [
    "from tqdm import tqdm\n",
    "\n",
    "key=['lng','lat']\n",
    "lng_lst=[]\n",
    "lat_lst=[]\n",
    "\n",
    "for i in tqdm(range(df.shape[0])):\n",
    "    lng_lst.append(df[0][i][0])\n",
    "    lat_lst.append(df[0][i][1])"
   ]
  },
  {
   "cell_type": "code",
   "execution_count": 144,
   "metadata": {},
   "outputs": [
    {
     "data": {
      "text/html": [
       "<div>\n",
       "<style scoped>\n",
       "    .dataframe tbody tr th:only-of-type {\n",
       "        vertical-align: middle;\n",
       "    }\n",
       "\n",
       "    .dataframe tbody tr th {\n",
       "        vertical-align: top;\n",
       "    }\n",
       "\n",
       "    .dataframe thead th {\n",
       "        text-align: right;\n",
       "    }\n",
       "</style>\n",
       "<table border=\"1\" class=\"dataframe\">\n",
       "  <thead>\n",
       "    <tr style=\"text-align: right;\">\n",
       "      <th></th>\n",
       "      <th>0</th>\n",
       "    </tr>\n",
       "  </thead>\n",
       "  <tbody>\n",
       "    <tr>\n",
       "      <th>0</th>\n",
       "      <td>[126.266196,  33.4220357]</td>\n",
       "    </tr>\n",
       "    <tr>\n",
       "      <th>1</th>\n",
       "      <td>[126.275427,  33.4226400]</td>\n",
       "    </tr>\n",
       "    <tr>\n",
       "      <th>2</th>\n",
       "      <td>[126.273895,  33.4220270]</td>\n",
       "    </tr>\n",
       "    <tr>\n",
       "      <th>3</th>\n",
       "      <td>[126.251187,  33.4032470]</td>\n",
       "    </tr>\n",
       "    <tr>\n",
       "      <th>4</th>\n",
       "      <td>[126.313658,  33.4650790]</td>\n",
       "    </tr>\n",
       "    <tr>\n",
       "      <th>...</th>\n",
       "      <td>...</td>\n",
       "    </tr>\n",
       "    <tr>\n",
       "      <th>68</th>\n",
       "      <td>[126.510791,  33.2758136]</td>\n",
       "    </tr>\n",
       "    <tr>\n",
       "      <th>69</th>\n",
       "      <td>[126.610626,  33.2445656]</td>\n",
       "    </tr>\n",
       "    <tr>\n",
       "      <th>70</th>\n",
       "      <td>[126.393882,  33.2659654]</td>\n",
       "    </tr>\n",
       "    <tr>\n",
       "      <th>71</th>\n",
       "      <td>[126.565031,  33.2452705]</td>\n",
       "    </tr>\n",
       "    <tr>\n",
       "      <th>72</th>\n",
       "      <td>[126.605930,  33.2628267]</td>\n",
       "    </tr>\n",
       "  </tbody>\n",
       "</table>\n",
       "<p>73 rows × 1 columns</p>\n",
       "</div>"
      ],
      "text/plain": [
       "                            0\n",
       "0   [126.266196,  33.4220357]\n",
       "1   [126.275427,  33.4226400]\n",
       "2   [126.273895,  33.4220270]\n",
       "3   [126.251187,  33.4032470]\n",
       "4   [126.313658,  33.4650790]\n",
       "..                        ...\n",
       "68  [126.510791,  33.2758136]\n",
       "69  [126.610626,  33.2445656]\n",
       "70  [126.393882,  33.2659654]\n",
       "71  [126.565031,  33.2452705]\n",
       "72  [126.605930,  33.2628267]\n",
       "\n",
       "[73 rows x 1 columns]"
      ]
     },
     "execution_count": 144,
     "metadata": {},
     "output_type": "execute_result"
    }
   ],
   "source": [
    "df"
   ]
  },
  {
   "cell_type": "code",
   "execution_count": 145,
   "metadata": {},
   "outputs": [],
   "source": [
    "df_new1=pd.DataFrame(dict(zip(key,[lng_lst,lat_lst])))"
   ]
  },
  {
   "cell_type": "code",
   "execution_count": 146,
   "metadata": {},
   "outputs": [
    {
     "data": {
      "text/html": [
       "<div>\n",
       "<style scoped>\n",
       "    .dataframe tbody tr th:only-of-type {\n",
       "        vertical-align: middle;\n",
       "    }\n",
       "\n",
       "    .dataframe tbody tr th {\n",
       "        vertical-align: top;\n",
       "    }\n",
       "\n",
       "    .dataframe thead th {\n",
       "        text-align: right;\n",
       "    }\n",
       "</style>\n",
       "<table border=\"1\" class=\"dataframe\">\n",
       "  <thead>\n",
       "    <tr style=\"text-align: right;\">\n",
       "      <th></th>\n",
       "      <th>lng</th>\n",
       "      <th>lat</th>\n",
       "    </tr>\n",
       "  </thead>\n",
       "  <tbody>\n",
       "    <tr>\n",
       "      <th>0</th>\n",
       "      <td>126.266196</td>\n",
       "      <td>33.4220357</td>\n",
       "    </tr>\n",
       "    <tr>\n",
       "      <th>1</th>\n",
       "      <td>126.275427</td>\n",
       "      <td>33.4226400</td>\n",
       "    </tr>\n",
       "    <tr>\n",
       "      <th>2</th>\n",
       "      <td>126.273895</td>\n",
       "      <td>33.4220270</td>\n",
       "    </tr>\n",
       "    <tr>\n",
       "      <th>3</th>\n",
       "      <td>126.251187</td>\n",
       "      <td>33.4032470</td>\n",
       "    </tr>\n",
       "    <tr>\n",
       "      <th>4</th>\n",
       "      <td>126.313658</td>\n",
       "      <td>33.4650790</td>\n",
       "    </tr>\n",
       "    <tr>\n",
       "      <th>...</th>\n",
       "      <td>...</td>\n",
       "      <td>...</td>\n",
       "    </tr>\n",
       "    <tr>\n",
       "      <th>68</th>\n",
       "      <td>126.510791</td>\n",
       "      <td>33.2758136</td>\n",
       "    </tr>\n",
       "    <tr>\n",
       "      <th>69</th>\n",
       "      <td>126.610626</td>\n",
       "      <td>33.2445656</td>\n",
       "    </tr>\n",
       "    <tr>\n",
       "      <th>70</th>\n",
       "      <td>126.393882</td>\n",
       "      <td>33.2659654</td>\n",
       "    </tr>\n",
       "    <tr>\n",
       "      <th>71</th>\n",
       "      <td>126.565031</td>\n",
       "      <td>33.2452705</td>\n",
       "    </tr>\n",
       "    <tr>\n",
       "      <th>72</th>\n",
       "      <td>126.605930</td>\n",
       "      <td>33.2628267</td>\n",
       "    </tr>\n",
       "  </tbody>\n",
       "</table>\n",
       "<p>73 rows × 2 columns</p>\n",
       "</div>"
      ],
      "text/plain": [
       "           lng          lat\n",
       "0   126.266196   33.4220357\n",
       "1   126.275427   33.4226400\n",
       "2   126.273895   33.4220270\n",
       "3   126.251187   33.4032470\n",
       "4   126.313658   33.4650790\n",
       "..         ...          ...\n",
       "68  126.510791   33.2758136\n",
       "69  126.610626   33.2445656\n",
       "70  126.393882   33.2659654\n",
       "71  126.565031   33.2452705\n",
       "72  126.605930   33.2628267\n",
       "\n",
       "[73 rows x 2 columns]"
      ]
     },
     "execution_count": 146,
     "metadata": {},
     "output_type": "execute_result"
    }
   ],
   "source": [
    "df_new1"
   ]
  },
  {
   "cell_type": "code",
   "execution_count": 155,
   "metadata": {},
   "outputs": [
    {
     "data": {
      "text/html": [
       "<div>\n",
       "<style scoped>\n",
       "    .dataframe tbody tr th:only-of-type {\n",
       "        vertical-align: middle;\n",
       "    }\n",
       "\n",
       "    .dataframe tbody tr th {\n",
       "        vertical-align: top;\n",
       "    }\n",
       "\n",
       "    .dataframe thead th {\n",
       "        text-align: right;\n",
       "    }\n",
       "</style>\n",
       "<table border=\"1\" class=\"dataframe\">\n",
       "  <thead>\n",
       "    <tr style=\"text-align: right;\">\n",
       "      <th></th>\n",
       "      <th>0</th>\n",
       "    </tr>\n",
       "  </thead>\n",
       "  <tbody>\n",
       "    <tr>\n",
       "      <th>0</th>\n",
       "      <td>[126.845785, 33.5235370 ,  126.847423, 33.5222...</td>\n",
       "    </tr>\n",
       "    <tr>\n",
       "      <th>1</th>\n",
       "      <td>[126.317522, 33.9452718 ,  126.318214, 33.9452...</td>\n",
       "    </tr>\n",
       "    <tr>\n",
       "      <th>2</th>\n",
       "      <td>[126.328487, 33.9456478 ,  126.328668, 33.9460...</td>\n",
       "    </tr>\n",
       "    <tr>\n",
       "      <th>3</th>\n",
       "      <td>[126.554343, 33.4952662 ,  126.555627, 33.4926...</td>\n",
       "    </tr>\n",
       "  </tbody>\n",
       "</table>\n",
       "</div>"
      ],
      "text/plain": [
       "                                                   0\n",
       "0  [126.845785, 33.5235370 ,  126.847423, 33.5222...\n",
       "1  [126.317522, 33.9452718 ,  126.318214, 33.9452...\n",
       "2  [126.328487, 33.9456478 ,  126.328668, 33.9460...\n",
       "3  [126.554343, 33.4952662 ,  126.555627, 33.4926..."
      ]
     },
     "execution_count": 155,
     "metadata": {},
     "output_type": "execute_result"
    }
   ],
   "source": [
    "df_2[0]=df_2[0].str.split('~')"
   ]
  },
  {
   "cell_type": "code",
   "execution_count": 168,
   "metadata": {},
   "outputs": [
    {
     "data": {
      "text/plain": [
       "['126.845785', '33.5235370']"
      ]
     },
     "execution_count": 168,
     "metadata": {},
     "output_type": "execute_result"
    }
   ],
   "source": [
    "df_2[0][0][0].replace(' ','').split(',')"
   ]
  },
  {
   "cell_type": "code",
   "execution_count": 170,
   "metadata": {},
   "outputs": [],
   "source": [
    "df_2\n",
    "key=['maxlng','minlng','maxlat','minlat']\n",
    "maxlg=[]\n",
    "maxlt=[]\n",
    "minlg=[]\n",
    "minlt=[]\n",
    "\n",
    "for i in range(len(df_2)):\n",
    "    minlng,minlat=df_2[0][i][0].replace(' ','').split(',')\n",
    "    maxlng,maxlat=df_2[0][i][1].replace(' ','').split(',')\n",
    "    maxlg.append(maxlng)\n",
    "    maxlt.append(maxlat)\n",
    "    minlg.append(minlng)\n",
    "    minlt.append(minlat)"
   ]
  },
  {
   "cell_type": "code",
   "execution_count": 172,
   "metadata": {},
   "outputs": [],
   "source": [
    "df_new2=pd.DataFrame(dict(zip(key,[minlt,maxlt,minlg,maxlg])))"
   ]
  },
  {
   "cell_type": "code",
   "execution_count": 176,
   "metadata": {},
   "outputs": [
    {
     "data": {
      "text/plain": [
       "'126.845785'"
      ]
     },
     "execution_count": 176,
     "metadata": {},
     "output_type": "execute_result"
    }
   ],
   "source": [
    "df_new2['maxlat'][0]"
   ]
  },
  {
   "cell_type": "code",
   "execution_count": 177,
   "metadata": {},
   "outputs": [
    {
     "name": "stdout",
     "output_type": "stream",
     "text": [
      "<class 'pandas.core.frame.DataFrame'>\n",
      "RangeIndex: 4 entries, 0 to 3\n",
      "Data columns (total 4 columns):\n",
      " #   Column  Non-Null Count  Dtype \n",
      "---  ------  --------------  ----- \n",
      " 0   maxlng  4 non-null      object\n",
      " 1   minlng  4 non-null      object\n",
      " 2   maxlat  4 non-null      object\n",
      " 3   minlat  4 non-null      object\n",
      "dtypes: object(4)\n",
      "memory usage: 256.0+ bytes\n"
     ]
    }
   ],
   "source": [
    "df_new2.info()"
   ]
  },
  {
   "cell_type": "code",
   "execution_count": 179,
   "metadata": {},
   "outputs": [],
   "source": [
    "df_new2['maxlng']=df_new2['maxlng'].str[:6]\n",
    "df_new2['minlng']=df_new2['minlng'].str[:6]\n",
    "\n",
    "df_new2['maxlat']=df_new2['maxlat'].str[:7]\n",
    "df_new2['minlat']=df_new2['minlat'].str[:7]"
   ]
  },
  {
   "cell_type": "code",
   "execution_count": 181,
   "metadata": {},
   "outputs": [],
   "source": [
    "df_new2.columns=['maxlat','minlat','maxlng','minlng']"
   ]
  },
  {
   "cell_type": "code",
   "execution_count": 182,
   "metadata": {},
   "outputs": [
    {
     "data": {
      "text/html": [
       "<div>\n",
       "<style scoped>\n",
       "    .dataframe tbody tr th:only-of-type {\n",
       "        vertical-align: middle;\n",
       "    }\n",
       "\n",
       "    .dataframe tbody tr th {\n",
       "        vertical-align: top;\n",
       "    }\n",
       "\n",
       "    .dataframe thead th {\n",
       "        text-align: right;\n",
       "    }\n",
       "</style>\n",
       "<table border=\"1\" class=\"dataframe\">\n",
       "  <thead>\n",
       "    <tr style=\"text-align: right;\">\n",
       "      <th></th>\n",
       "      <th>maxlat</th>\n",
       "      <th>minlat</th>\n",
       "      <th>maxlng</th>\n",
       "      <th>minlng</th>\n",
       "    </tr>\n",
       "  </thead>\n",
       "  <tbody>\n",
       "    <tr>\n",
       "      <th>0</th>\n",
       "      <td>33.523</td>\n",
       "      <td>33.522</td>\n",
       "      <td>126.845</td>\n",
       "      <td>126.847</td>\n",
       "    </tr>\n",
       "    <tr>\n",
       "      <th>1</th>\n",
       "      <td>33.945</td>\n",
       "      <td>33.945</td>\n",
       "      <td>126.317</td>\n",
       "      <td>126.318</td>\n",
       "    </tr>\n",
       "    <tr>\n",
       "      <th>2</th>\n",
       "      <td>33.945</td>\n",
       "      <td>33.946</td>\n",
       "      <td>126.328</td>\n",
       "      <td>126.328</td>\n",
       "    </tr>\n",
       "    <tr>\n",
       "      <th>3</th>\n",
       "      <td>33.495</td>\n",
       "      <td>33.492</td>\n",
       "      <td>126.554</td>\n",
       "      <td>126.555</td>\n",
       "    </tr>\n",
       "  </tbody>\n",
       "</table>\n",
       "</div>"
      ],
      "text/plain": [
       "   maxlat  minlat   maxlng   minlng\n",
       "0  33.523  33.522  126.845  126.847\n",
       "1  33.945  33.945  126.317  126.318\n",
       "2  33.945  33.946  126.328  126.328\n",
       "3  33.495  33.492  126.554  126.555"
      ]
     },
     "execution_count": 182,
     "metadata": {},
     "output_type": "execute_result"
    }
   ],
   "source": [
    "df_new2"
   ]
  },
  {
   "cell_type": "code",
   "execution_count": 194,
   "metadata": {},
   "outputs": [],
   "source": [
    "df2_lat_lst=[]\n",
    "df2_lng_lst=[]\n",
    "\n",
    "for i in range(len(df_new2)):\n",
    "    maxlat=float(df_new2['maxlat'][i])\n",
    "    minlat=float(df_new2['minlat'][i])\n",
    "    maxlng=float(df_new2['maxlng'][i])\n",
    "    minlng=float(df_new2['minlng'][i])\n",
    "    if maxlat>=minlat:\n",
    "        for lat in np.arange(minlat,maxlat+.001,.001):\n",
    "            if maxlng>=minlng:\n",
    "                for lng in np.arange(minlng,maxlng+.001,.001):\n",
    "                    df2_lat_lst.append(lat)\n",
    "                    df2_lng_lst.append(lng)\n",
    "            else:\n",
    "                for lng in np.arange(maxlng,minlng+.001,.001):\n",
    "                    df2_lat_lst.append(lat)\n",
    "                    df2_lng_lst.append(lng)\n",
    "\n",
    "    else:\n",
    "        for lat in np.arange(maxlat,minlat+.001,.001):\n",
    "            if maxlng>=minlng:\n",
    "                for lng in np.arange(minlng,maxlng+.001,.001):\n",
    "                    df2_lat_lst.append(lat)\n",
    "                    df2_lng_lst.append(lng)\n",
    "            else:\n",
    "                for lng in np.arange(maxlng,minlng+.001,.001):\n",
    "                    df2_lat_lst.append(lat)\n",
    "                    df2_lng_lst.append(lng)"
   ]
  },
  {
   "cell_type": "code",
   "execution_count": 198,
   "metadata": {},
   "outputs": [],
   "source": [
    "key=['lng','lat']\n",
    "\n",
    "df_new2=pd.DataFrame(dict(zip(key,[df2_lng_lst,df2_lat_lst])))"
   ]
  },
  {
   "cell_type": "code",
   "execution_count": 203,
   "metadata": {},
   "outputs": [],
   "source": [
    "df_final=pd.concat([df_new1,df_new2]).reset_index().drop('index',axis=1)"
   ]
  },
  {
   "cell_type": "code",
   "execution_count": 208,
   "metadata": {},
   "outputs": [],
   "source": [
    "df_final['lng']=df_final['lng'].astype(str).str.replace(' ','').str[:7]\n",
    "df_final['lat']=df_final['lat'].astype(str).str.replace(' ','').str[:6]"
   ]
  },
  {
   "cell_type": "code",
   "execution_count": 209,
   "metadata": {},
   "outputs": [
    {
     "data": {
      "text/html": [
       "<div>\n",
       "<style scoped>\n",
       "    .dataframe tbody tr th:only-of-type {\n",
       "        vertical-align: middle;\n",
       "    }\n",
       "\n",
       "    .dataframe tbody tr th {\n",
       "        vertical-align: top;\n",
       "    }\n",
       "\n",
       "    .dataframe thead th {\n",
       "        text-align: right;\n",
       "    }\n",
       "</style>\n",
       "<table border=\"1\" class=\"dataframe\">\n",
       "  <thead>\n",
       "    <tr style=\"text-align: right;\">\n",
       "      <th></th>\n",
       "      <th>lng</th>\n",
       "      <th>lat</th>\n",
       "    </tr>\n",
       "  </thead>\n",
       "  <tbody>\n",
       "    <tr>\n",
       "      <th>0</th>\n",
       "      <td>126.266</td>\n",
       "      <td>33.422</td>\n",
       "    </tr>\n",
       "    <tr>\n",
       "      <th>1</th>\n",
       "      <td>126.275</td>\n",
       "      <td>33.422</td>\n",
       "    </tr>\n",
       "    <tr>\n",
       "      <th>2</th>\n",
       "      <td>126.273</td>\n",
       "      <td>33.422</td>\n",
       "    </tr>\n",
       "    <tr>\n",
       "      <th>3</th>\n",
       "      <td>126.251</td>\n",
       "      <td>33.403</td>\n",
       "    </tr>\n",
       "    <tr>\n",
       "      <th>4</th>\n",
       "      <td>126.313</td>\n",
       "      <td>33.465</td>\n",
       "    </tr>\n",
       "    <tr>\n",
       "      <th>...</th>\n",
       "      <td>...</td>\n",
       "      <td>...</td>\n",
       "    </tr>\n",
       "    <tr>\n",
       "      <th>99</th>\n",
       "      <td>126.555</td>\n",
       "      <td>33.493</td>\n",
       "    </tr>\n",
       "    <tr>\n",
       "      <th>100</th>\n",
       "      <td>126.556</td>\n",
       "      <td>33.493</td>\n",
       "    </tr>\n",
       "    <tr>\n",
       "      <th>101</th>\n",
       "      <td>126.554</td>\n",
       "      <td>33.494</td>\n",
       "    </tr>\n",
       "    <tr>\n",
       "      <th>102</th>\n",
       "      <td>126.555</td>\n",
       "      <td>33.494</td>\n",
       "    </tr>\n",
       "    <tr>\n",
       "      <th>103</th>\n",
       "      <td>126.556</td>\n",
       "      <td>33.494</td>\n",
       "    </tr>\n",
       "  </tbody>\n",
       "</table>\n",
       "<p>104 rows × 2 columns</p>\n",
       "</div>"
      ],
      "text/plain": [
       "         lng     lat\n",
       "0    126.266  33.422\n",
       "1    126.275  33.422\n",
       "2    126.273  33.422\n",
       "3    126.251  33.403\n",
       "4    126.313  33.465\n",
       "..       ...     ...\n",
       "99   126.555  33.493\n",
       "100  126.556  33.493\n",
       "101  126.554  33.494\n",
       "102  126.555  33.494\n",
       "103  126.556  33.494\n",
       "\n",
       "[104 rows x 2 columns]"
      ]
     },
     "execution_count": 209,
     "metadata": {},
     "output_type": "execute_result"
    }
   ],
   "source": [
    "df_final"
   ]
  },
  {
   "cell_type": "code",
   "execution_count": 210,
   "metadata": {},
   "outputs": [],
   "source": [
    "df_final.to_csv('../chimsoo.csv',index=None)"
   ]
  }
 ],
 "metadata": {
  "kernelspec": {
   "display_name": "tf_env",
   "language": "python",
   "name": "python3"
  },
  "language_info": {
   "codemirror_mode": {
    "name": "ipython",
    "version": 3
   },
   "file_extension": ".py",
   "mimetype": "text/x-python",
   "name": "python",
   "nbconvert_exporter": "python",
   "pygments_lexer": "ipython3",
   "version": "3.10.8"
  },
  "orig_nbformat": 4,
  "vscode": {
   "interpreter": {
    "hash": "1dab2a5252f2f048dde9aff3cc6f578c8ac5c40b97197b231877de9f0816cb1c"
   }
  }
 },
 "nbformat": 4,
 "nbformat_minor": 2
}
